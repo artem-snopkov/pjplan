{
 "cells": [
  {
   "cell_type": "code",
   "metadata": {
    "collapsed": true,
    "ExecuteTime": {
     "end_time": "2024-11-14T10:08:33.352799Z",
     "start_time": "2024-11-14T10:08:33.323495Z"
    }
   },
   "source": [
    "import sys\n",
    "from datetime import datetime\n",
    "\n",
    "sys.path.append('../../src')\n",
    "from pjplan import WBS, ForwardScheduler, Task, MermaidGantt, Resource, BackwardScheduler"
   ],
   "outputs": [],
   "execution_count": 1
  },
  {
   "cell_type": "code",
   "source": [
    "tester = Resource('Tester')"
   ],
   "metadata": {
    "collapsed": false,
    "ExecuteTime": {
     "end_time": "2024-11-14T10:08:33.368768Z",
     "start_time": "2024-11-14T10:08:33.356798Z"
    }
   },
   "outputs": [],
   "execution_count": 2
  },
  {
   "metadata": {
    "collapsed": false,
    "ExecuteTime": {
     "end_time": "2024-11-14T10:08:33.445617Z",
     "start_time": "2024-11-14T10:08:33.430600Z"
    }
   },
   "cell_type": "code",
   "source": [
    "with WBS() as prj:\n",
    "    prj // Task(1, 'Task 1', estimate=40, resource=tester.name)\n",
    "    prj // Task(2, 'Task 2', predecessors=[prj[1]], estimate=20, resource=tester.name)\n",
    "    with prj // Task(3, 'Task 3') as t:\n",
    "        t // Task(4, 'Task 4', predecessors=[prj[2]], estimate=100)\n",
    "        t // Task(5, 'Task 5', predecessors=[prj[2]], estimate=50)\n",
    "    with prj // Task(6, 'Task 6') as t:\n",
    "        t // Task(7, 'Task 7', predecessors=[prj[5]], estimate=16)\n",
    "        t // Task(8, 'Task 8', predecessors=[prj[7]], estimate=16)\n",
    "        \n",
    "prj"
   ],
   "outputs": [
    {
     "data": {
      "text/plain": [
       "\u001B[91m ID \u001B[0m\u001B[91m NAME      \u001B[0m\u001B[91m RESOURCE \u001B[0m\u001B[91m ESTIMATE \u001B[0m\u001B[91m SPENT \u001B[0m\u001B[91m START \u001B[0m\u001B[91m END \u001B[0m\u001B[91m PREDECESSORS \u001B[0m\n",
       "\u001B[94m 1  \u001B[0m\u001B[94m Task 1    \u001B[0m\u001B[94m Tester   \u001B[0m\u001B[94m 40       \u001B[0m\u001B[94m -     \u001B[0m\u001B[94m -     \u001B[0m\u001B[94m -   \u001B[0m\u001B[94m []           \u001B[0m\n",
       "\u001B[94m 2  \u001B[0m\u001B[94m Task 2    \u001B[0m\u001B[94m Tester   \u001B[0m\u001B[94m 20       \u001B[0m\u001B[94m -     \u001B[0m\u001B[94m -     \u001B[0m\u001B[94m -   \u001B[0m\u001B[94m [1]          \u001B[0m\n",
       "\u001B[94m 3  \u001B[0m\u001B[94m Task 3    \u001B[0m\u001B[94m -        \u001B[0m\u001B[94m -        \u001B[0m\u001B[94m -     \u001B[0m\u001B[94m -     \u001B[0m\u001B[94m -   \u001B[0m\u001B[94m []           \u001B[0m\n",
       "\u001B[96m 4  \u001B[0m\u001B[96m    Task 4 \u001B[0m\u001B[96m -        \u001B[0m\u001B[96m 100      \u001B[0m\u001B[96m -     \u001B[0m\u001B[96m -     \u001B[0m\u001B[96m -   \u001B[0m\u001B[96m [2]          \u001B[0m\n",
       "\u001B[96m 5  \u001B[0m\u001B[96m    Task 5 \u001B[0m\u001B[96m -        \u001B[0m\u001B[96m 50       \u001B[0m\u001B[96m -     \u001B[0m\u001B[96m -     \u001B[0m\u001B[96m -   \u001B[0m\u001B[96m [2]          \u001B[0m\n",
       "\u001B[94m 6  \u001B[0m\u001B[94m Task 6    \u001B[0m\u001B[94m -        \u001B[0m\u001B[94m -        \u001B[0m\u001B[94m -     \u001B[0m\u001B[94m -     \u001B[0m\u001B[94m -   \u001B[0m\u001B[94m []           \u001B[0m\n",
       "\u001B[96m 7  \u001B[0m\u001B[96m    Task 7 \u001B[0m\u001B[96m -        \u001B[0m\u001B[96m 16       \u001B[0m\u001B[96m -     \u001B[0m\u001B[96m -     \u001B[0m\u001B[96m -   \u001B[0m\u001B[96m [5]          \u001B[0m\n",
       "\u001B[96m 8  \u001B[0m\u001B[96m    Task 8 \u001B[0m\u001B[96m -        \u001B[0m\u001B[96m 16       \u001B[0m\u001B[96m -     \u001B[0m\u001B[96m -     \u001B[0m\u001B[96m -   \u001B[0m\u001B[96m [7]          \u001B[0m"
      ]
     },
     "execution_count": 3,
     "metadata": {},
     "output_type": "execute_result"
    }
   ],
   "execution_count": 3
  },
  {
   "cell_type": "code",
   "source": [
    "schedule1 = ForwardScheduler(resources=[tester], balance_resources=False).calc(prj).schedule\n",
    "\n",
    "MermaidGantt(schedule1)"
   ],
   "metadata": {
    "collapsed": false,
    "ExecuteTime": {
     "end_time": "2024-11-14T10:08:33.538656Z",
     "start_time": "2024-11-14T10:08:33.520654Z"
    }
   },
   "outputs": [
    {
     "data": {
      "text/plain": [
       "<pjplan.viz.mermaid.gantt.MermaidGantt at 0x20bbab04700>"
      ],
      "text/html": [
       "<iframe srcdoc=\"&lt;html&gt;\n",
       "&lt;meta charset=&quot;UTF-8&quot;&gt;\n",
       "&lt;body&gt;\n",
       "&lt;style&gt;\n",
       "\n",
       "&lt;/style&gt;\n",
       "\n",
       "&lt;div class=&quot;mermaid&quot;&gt;\n",
       "gantt\n",
       "  dateFormat DD.MM.YYYY HH:mm\n",
       "    Task 1: active, id_1, 14.11.2024 00:00, 21.11.2024 00:00\n",
       "    Task 2:  id_2, 21.11.2024 00:00, 25.11.2024 12:00\n",
       "    Task 3:  id_3, 25.11.2024 00:00, 11.12.2024 12:00\n",
       "    Task 4:  id_4, 25.11.2024 00:00, 11.12.2024 12:00\n",
       "    Task 5:  id_5, 25.11.2024 00:00, 04.12.2024 06:00\n",
       "    Task 6:  id_6, 04.12.2024 00:00, 12.12.2024 00:00\n",
       "    Task 7:  id_7, 04.12.2024 00:00, 07.12.2024 00:00\n",
       "    Task 8:  id_8, 09.12.2024 00:00, 12.12.2024 00:00\n",
       "\n",
       "&lt;/div&gt;\n",
       "\n",
       "&lt;script src=&quot;https://cdn.jsdelivr.net/npm/mermaid/dist/mermaid.min.js&quot;&gt;&lt;/script&gt;\n",
       "&lt;script&gt;\n",
       "    mermaid.ganttConfig = {\n",
       "        mirrorActor: true\n",
       "    }\n",
       "    mermaid.initialize({\n",
       "        startOnLoad: true\n",
       "    });\n",
       "&lt;/script&gt;\n",
       "&lt;/body&gt;\n",
       "&lt;/html&gt;\" width=\"100%\" height=\"300\" style=\"border:none !important;\" allowfullscreen webkitallowfullscreen mozallowfullscreen></iframe>"
      ]
     },
     "execution_count": 4,
     "metadata": {},
     "output_type": "execute_result"
    }
   ],
   "execution_count": 4
  },
  {
   "cell_type": "code",
   "source": [
    "schedule1_bw = BackwardScheduler(resources=[tester], balance_resources=False).calc(prj).schedule\n",
    "MermaidGantt(schedule1_bw)"
   ],
   "metadata": {
    "collapsed": false,
    "ExecuteTime": {
     "end_time": "2024-11-14T10:08:33.570338Z",
     "start_time": "2024-11-14T10:08:33.556339Z"
    }
   },
   "outputs": [
    {
     "data": {
      "text/plain": [
       "<pjplan.viz.mermaid.gantt.MermaidGantt at 0x20bba6b0a00>"
      ],
      "text/html": [
       "<iframe srcdoc=\"&lt;html&gt;\n",
       "&lt;meta charset=&quot;UTF-8&quot;&gt;\n",
       "&lt;body&gt;\n",
       "&lt;style&gt;\n",
       "\n",
       "&lt;/style&gt;\n",
       "\n",
       "&lt;div class=&quot;mermaid&quot;&gt;\n",
       "gantt\n",
       "  dateFormat DD.MM.YYYY HH:mm\n",
       "    Task 1: done, id_1, 16.10.2024 00:00, 23.10.2024 00:00\n",
       "    Task 2: done, id_2, 23.10.2024 12:00, 26.10.2024 00:00\n",
       "    Task 3: done, id_3, 28.10.2024 12:00, 14.11.2024 00:00\n",
       "    Task 4: done, id_4, 28.10.2024 12:00, 14.11.2024 00:00\n",
       "    Task 5: done, id_5, 30.10.2024 18:00, 08.11.2024 00:00\n",
       "    Task 6: done, id_6, 08.11.2024 00:00, 14.11.2024 00:00\n",
       "    Task 7: done, id_7, 08.11.2024 00:00, 12.11.2024 00:00\n",
       "    Task 8: done, id_8, 12.11.2024 00:00, 14.11.2024 00:00\n",
       "\n",
       "&lt;/div&gt;\n",
       "\n",
       "&lt;script src=&quot;https://cdn.jsdelivr.net/npm/mermaid/dist/mermaid.min.js&quot;&gt;&lt;/script&gt;\n",
       "&lt;script&gt;\n",
       "    mermaid.ganttConfig = {\n",
       "        mirrorActor: true\n",
       "    }\n",
       "    mermaid.initialize({\n",
       "        startOnLoad: true\n",
       "    });\n",
       "&lt;/script&gt;\n",
       "&lt;/body&gt;\n",
       "&lt;/html&gt;\" width=\"100%\" height=\"300\" style=\"border:none !important;\" allowfullscreen webkitallowfullscreen mozallowfullscreen></iframe>"
      ]
     },
     "execution_count": 5,
     "metadata": {},
     "output_type": "execute_result"
    }
   ],
   "execution_count": 5
  },
  {
   "cell_type": "code",
   "source": [
    "schedule2 = ForwardScheduler(resources=[tester], balance_resources=True).calc(prj).schedule\n",
    "MermaidGantt(schedule2)"
   ],
   "metadata": {
    "collapsed": false,
    "ExecuteTime": {
     "end_time": "2024-11-14T10:08:33.602335Z",
     "start_time": "2024-11-14T10:08:33.588338Z"
    }
   },
   "outputs": [
    {
     "data": {
      "text/plain": [
       "<pjplan.viz.mermaid.gantt.MermaidGantt at 0x20bbab05fc0>"
      ],
      "text/html": [
       "<iframe srcdoc=\"&lt;html&gt;\n",
       "&lt;meta charset=&quot;UTF-8&quot;&gt;\n",
       "&lt;body&gt;\n",
       "&lt;style&gt;\n",
       "\n",
       "&lt;/style&gt;\n",
       "\n",
       "&lt;div class=&quot;mermaid&quot;&gt;\n",
       "gantt\n",
       "  dateFormat DD.MM.YYYY HH:mm\n",
       "    Task 1: active, id_1, 14.11.2024 00:00, 21.11.2024 00:00\n",
       "    Task 2:  id_2, 21.11.2024 00:00, 25.11.2024 12:00\n",
       "    Task 3:  id_3, 25.11.2024 00:00, 19.12.2024 18:00\n",
       "    Task 4:  id_4, 25.11.2024 00:00, 11.12.2024 12:00\n",
       "    Task 5:  id_5, 11.12.2024 12:00, 19.12.2024 18:00\n",
       "    Task 6:  id_6, 19.12.2024 18:00, 25.12.2024 18:00\n",
       "    Task 7:  id_7, 19.12.2024 18:00, 23.12.2024 18:00\n",
       "    Task 8:  id_8, 23.12.2024 18:00, 25.12.2024 18:00\n",
       "\n",
       "&lt;/div&gt;\n",
       "\n",
       "&lt;script src=&quot;https://cdn.jsdelivr.net/npm/mermaid/dist/mermaid.min.js&quot;&gt;&lt;/script&gt;\n",
       "&lt;script&gt;\n",
       "    mermaid.ganttConfig = {\n",
       "        mirrorActor: true\n",
       "    }\n",
       "    mermaid.initialize({\n",
       "        startOnLoad: true\n",
       "    });\n",
       "&lt;/script&gt;\n",
       "&lt;/body&gt;\n",
       "&lt;/html&gt;\" width=\"100%\" height=\"300\" style=\"border:none !important;\" allowfullscreen webkitallowfullscreen mozallowfullscreen></iframe>"
      ]
     },
     "execution_count": 6,
     "metadata": {},
     "output_type": "execute_result"
    }
   ],
   "execution_count": 6
  },
  {
   "cell_type": "code",
   "source": [
    "schedule2_bw = BackwardScheduler(resources=[tester], balance_resources=True).calc(prj).schedule\n",
    "MermaidGantt(schedule2_bw)"
   ],
   "metadata": {
    "collapsed": false,
    "ExecuteTime": {
     "end_time": "2024-11-14T10:08:33.633553Z",
     "start_time": "2024-11-14T10:08:33.620552Z"
    }
   },
   "outputs": [
    {
     "data": {
      "text/plain": [
       "<pjplan.viz.mermaid.gantt.MermaidGantt at 0x20bbab05ed0>"
      ],
      "text/html": [
       "<iframe srcdoc=\"&lt;html&gt;\n",
       "&lt;meta charset=&quot;UTF-8&quot;&gt;\n",
       "&lt;body&gt;\n",
       "&lt;style&gt;\n",
       "\n",
       "&lt;/style&gt;\n",
       "\n",
       "&lt;div class=&quot;mermaid&quot;&gt;\n",
       "gantt\n",
       "  dateFormat DD.MM.YYYY HH:mm\n",
       "    Task 1: done, id_1, 01.10.2024 00:00, 08.10.2024 00:00\n",
       "    Task 2: done, id_2, 08.10.2024 12:00, 11.10.2024 00:00\n",
       "    Task 3: done, id_3, 11.10.2024 12:00, 08.11.2024 00:00\n",
       "    Task 4: done, id_4, 11.10.2024 12:00, 30.10.2024 18:00\n",
       "    Task 5: done, id_5, 30.10.2024 18:00, 08.11.2024 00:00\n",
       "    Task 6: done, id_6, 08.11.2024 00:00, 14.11.2024 00:00\n",
       "    Task 7: done, id_7, 08.11.2024 00:00, 12.11.2024 00:00\n",
       "    Task 8: done, id_8, 12.11.2024 00:00, 14.11.2024 00:00\n",
       "\n",
       "&lt;/div&gt;\n",
       "\n",
       "&lt;script src=&quot;https://cdn.jsdelivr.net/npm/mermaid/dist/mermaid.min.js&quot;&gt;&lt;/script&gt;\n",
       "&lt;script&gt;\n",
       "    mermaid.ganttConfig = {\n",
       "        mirrorActor: true\n",
       "    }\n",
       "    mermaid.initialize({\n",
       "        startOnLoad: true\n",
       "    });\n",
       "&lt;/script&gt;\n",
       "&lt;/body&gt;\n",
       "&lt;/html&gt;\" width=\"100%\" height=\"300\" style=\"border:none !important;\" allowfullscreen webkitallowfullscreen mozallowfullscreen></iframe>"
      ]
     },
     "execution_count": 7,
     "metadata": {},
     "output_type": "execute_result"
    }
   ],
   "execution_count": 7
  }
 ],
 "metadata": {
  "kernelspec": {
   "display_name": "Python 3",
   "language": "python",
   "name": "python3"
  },
  "language_info": {
   "codemirror_mode": {
    "name": "ipython",
    "version": 2
   },
   "file_extension": ".py",
   "mimetype": "text/x-python",
   "name": "python",
   "nbconvert_exporter": "python",
   "pygments_lexer": "ipython2",
   "version": "2.7.6"
  }
 },
 "nbformat": 4,
 "nbformat_minor": 0
}
