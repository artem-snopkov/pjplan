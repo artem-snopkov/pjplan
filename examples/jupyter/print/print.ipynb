{
 "cells": [
  {
   "cell_type": "code",
   "execution_count": 14,
   "metadata": {
    "ExecuteTime": {
     "start_time": "2023-04-06T21:47:50.549230Z",
     "end_time": "2023-04-06T21:47:50.596520Z"
    },
    "collapsed": true
   },
   "outputs": [],
   "source": [
    "import sys\n",
    "\n",
    "sys.path.append('../../src')\n",
    "from pjplan import Task, WBS, DefaultScheduler, Resource"
   ]
  },
  {
   "cell_type": "code",
   "execution_count": 15,
   "metadata": {
    "ExecuteTime": {
     "start_time": "2023-04-06T21:47:50.561005Z",
     "end_time": "2023-04-06T21:47:50.652575Z"
    },
    "collapsed": false
   },
   "outputs": [],
   "source": [
    "# Sample project\n",
    "with WBS() as prj:\n",
    "    prj // Task(1, 'Task 1', estimate=40, resource='Tester')\n",
    "    prj // Task(2, 'Task 2', predecessors=[prj[1]], estimate=20, resource='Tester')\n",
    "    with prj // Task(3, 'Task 3') as t:\n",
    "        t // Task(4, 'Task 4', predecessors=[prj[2]], estimate=100)\n",
    "        t // Task(5, 'Task 5', predecessors=[prj[2]], estimate=50)\n",
    "    with prj // Task(6, 'Task 6') as t:\n",
    "        t // Task(7, 'Task 7', predecessors=[prj[5]], estimate=16)\n",
    "        t // Task(8, 'Task 8', predecessors=[prj[7]], estimate=16)"
   ]
  },
  {
   "cell_type": "markdown",
   "metadata": {
    "collapsed": false
   },
   "source": [
    "### Simple print"
   ]
  },
  {
   "cell_type": "code",
   "execution_count": 16,
   "metadata": {
    "ExecuteTime": {
     "start_time": "2023-04-06T21:47:50.575007Z",
     "end_time": "2023-04-06T21:47:50.654575Z"
    },
    "collapsed": false
   },
   "outputs": [
    {
     "data": {
      "text/plain": "\u001B[91m ID \u001B[0m\u001B[91m NAME      \u001B[0m\u001B[91m RESOURCE \u001B[0m\u001B[91m ESTIMATE \u001B[0m\u001B[91m SPENT \u001B[0m\u001B[91m START \u001B[0m\u001B[91m END \u001B[0m\u001B[91m PREDECESSORS \u001B[0m\n\u001B[94m 1  \u001B[0m\u001B[94m Task 1    \u001B[0m\u001B[94m Tester   \u001B[0m\u001B[94m 40       \u001B[0m\u001B[94m -     \u001B[0m\u001B[94m -     \u001B[0m\u001B[94m -   \u001B[0m\u001B[94m []           \u001B[0m\n\u001B[94m 2  \u001B[0m\u001B[94m Task 2    \u001B[0m\u001B[94m Tester   \u001B[0m\u001B[94m 20       \u001B[0m\u001B[94m -     \u001B[0m\u001B[94m -     \u001B[0m\u001B[94m -   \u001B[0m\u001B[94m [1]          \u001B[0m\n\u001B[94m 3  \u001B[0m\u001B[94m Task 3    \u001B[0m\u001B[94m -        \u001B[0m\u001B[94m -        \u001B[0m\u001B[94m -     \u001B[0m\u001B[94m -     \u001B[0m\u001B[94m -   \u001B[0m\u001B[94m []           \u001B[0m\n\u001B[96m 4  \u001B[0m\u001B[96m    Task 4 \u001B[0m\u001B[96m -        \u001B[0m\u001B[96m 100      \u001B[0m\u001B[96m -     \u001B[0m\u001B[96m -     \u001B[0m\u001B[96m -   \u001B[0m\u001B[96m [2]          \u001B[0m\n\u001B[96m 5  \u001B[0m\u001B[96m    Task 5 \u001B[0m\u001B[96m -        \u001B[0m\u001B[96m 50       \u001B[0m\u001B[96m -     \u001B[0m\u001B[96m -     \u001B[0m\u001B[96m -   \u001B[0m\u001B[96m [2]          \u001B[0m\n\u001B[94m 6  \u001B[0m\u001B[94m Task 6    \u001B[0m\u001B[94m -        \u001B[0m\u001B[94m -        \u001B[0m\u001B[94m -     \u001B[0m\u001B[94m -     \u001B[0m\u001B[94m -   \u001B[0m\u001B[94m []           \u001B[0m\n\u001B[96m 7  \u001B[0m\u001B[96m    Task 7 \u001B[0m\u001B[96m -        \u001B[0m\u001B[96m 16       \u001B[0m\u001B[96m -     \u001B[0m\u001B[96m -     \u001B[0m\u001B[96m -   \u001B[0m\u001B[96m [5]          \u001B[0m\n\u001B[96m 8  \u001B[0m\u001B[96m    Task 8 \u001B[0m\u001B[96m -        \u001B[0m\u001B[96m 16       \u001B[0m\u001B[96m -     \u001B[0m\u001B[96m -     \u001B[0m\u001B[96m -   \u001B[0m\u001B[96m [7]          \u001B[0m"
     },
     "execution_count": 16,
     "metadata": {},
     "output_type": "execute_result"
    }
   ],
   "source": [
    "# Print full WBS\n",
    "prj # or prj.print()"
   ]
  },
  {
   "cell_type": "code",
   "execution_count": 17,
   "outputs": [
    {
     "data": {
      "text/plain": "\u001B[91m ID \u001B[0m\u001B[91m NAME      \u001B[0m\u001B[91m RESOURCE \u001B[0m\u001B[91m ESTIMATE \u001B[0m\u001B[91m SPENT \u001B[0m\u001B[91m START \u001B[0m\u001B[91m END \u001B[0m\u001B[91m PREDECESSORS \u001B[0m\n\u001B[94m 3  \u001B[0m\u001B[94m Task 3    \u001B[0m\u001B[94m -        \u001B[0m\u001B[94m -        \u001B[0m\u001B[94m -     \u001B[0m\u001B[94m -     \u001B[0m\u001B[94m -   \u001B[0m\u001B[94m []           \u001B[0m\n\u001B[96m 4  \u001B[0m\u001B[96m    Task 4 \u001B[0m\u001B[96m -        \u001B[0m\u001B[96m 100      \u001B[0m\u001B[96m -     \u001B[0m\u001B[96m -     \u001B[0m\u001B[96m -   \u001B[0m\u001B[96m [2]          \u001B[0m\n\u001B[96m 5  \u001B[0m\u001B[96m    Task 5 \u001B[0m\u001B[96m -        \u001B[0m\u001B[96m 50       \u001B[0m\u001B[96m -     \u001B[0m\u001B[96m -     \u001B[0m\u001B[96m -   \u001B[0m\u001B[96m [2]          \u001B[0m"
     },
     "execution_count": 17,
     "metadata": {},
     "output_type": "execute_result"
    }
   ],
   "source": [
    "# Print single task\n",
    "prj[3]"
   ],
   "metadata": {
    "collapsed": false,
    "ExecuteTime": {
     "start_time": "2023-04-06T21:47:50.591520Z",
     "end_time": "2023-04-06T21:47:50.656083Z"
    }
   }
  },
  {
   "cell_type": "code",
   "execution_count": 18,
   "outputs": [
    {
     "data": {
      "text/plain": "\u001B[91m ID \u001B[0m\u001B[91m NAME   \u001B[0m\u001B[91m RESOURCE \u001B[0m\u001B[91m ESTIMATE \u001B[0m\u001B[91m SPENT \u001B[0m\u001B[91m START \u001B[0m\u001B[91m END \u001B[0m\u001B[91m PREDECESSORS \u001B[0m\n\u001B[94m 4  \u001B[0m\u001B[94m Task 4 \u001B[0m\u001B[94m -        \u001B[0m\u001B[94m 100      \u001B[0m\u001B[94m -     \u001B[0m\u001B[94m -     \u001B[0m\u001B[94m -   \u001B[0m\u001B[94m [2]          \u001B[0m\n\u001B[94m 5  \u001B[0m\u001B[94m Task 5 \u001B[0m\u001B[94m -        \u001B[0m\u001B[94m 50       \u001B[0m\u001B[94m -     \u001B[0m\u001B[94m -     \u001B[0m\u001B[94m -   \u001B[0m\u001B[94m [2]          \u001B[0m"
     },
     "execution_count": 18,
     "metadata": {},
     "output_type": "execute_result"
    }
   ],
   "source": [
    "# Print children\n",
    "prj[3].children"
   ],
   "metadata": {
    "collapsed": false,
    "ExecuteTime": {
     "start_time": "2023-04-06T21:47:50.607519Z",
     "end_time": "2023-04-06T21:47:50.657091Z"
    }
   }
  },
  {
   "cell_type": "code",
   "execution_count": 19,
   "outputs": [
    {
     "data": {
      "text/plain": "\u001B[91m ID \u001B[0m\u001B[91m NAME   \u001B[0m\u001B[91m RESOURCE \u001B[0m\u001B[91m ESTIMATE \u001B[0m\u001B[91m SPENT \u001B[0m\u001B[91m START \u001B[0m\u001B[91m END \u001B[0m\u001B[91m PREDECESSORS \u001B[0m\n\u001B[94m 1  \u001B[0m\u001B[94m Task 1 \u001B[0m\u001B[94m Tester   \u001B[0m\u001B[94m 40       \u001B[0m\u001B[94m -     \u001B[0m\u001B[94m -     \u001B[0m\u001B[94m -   \u001B[0m\u001B[94m []           \u001B[0m\n\u001B[94m 2  \u001B[0m\u001B[94m Task 2 \u001B[0m\u001B[94m Tester   \u001B[0m\u001B[94m 20       \u001B[0m\u001B[94m -     \u001B[0m\u001B[94m -     \u001B[0m\u001B[94m -   \u001B[0m\u001B[94m [1]          \u001B[0m"
     },
     "execution_count": 19,
     "metadata": {},
     "output_type": "execute_result"
    }
   ],
   "source": [
    "# Print selected tasks\n",
    "prj.tasks(resource='Tester')"
   ],
   "metadata": {
    "collapsed": false,
    "ExecuteTime": {
     "start_time": "2023-04-06T21:47:50.622031Z",
     "end_time": "2023-04-06T21:47:50.657091Z"
    }
   }
  },
  {
   "cell_type": "code",
   "execution_count": 20,
   "outputs": [
    {
     "data": {
      "text/plain": "\u001B[91m ID \u001B[0m\u001B[91m NAME   \u001B[0m\u001B[91m RESOURCE \u001B[0m\u001B[91m ESTIMATE \u001B[0m\u001B[91m SPENT \u001B[0m\u001B[91m START \u001B[0m\u001B[91m END \u001B[0m\u001B[91m PREDECESSORS \u001B[0m\n\u001B[94m 2  \u001B[0m\u001B[94m Task 2 \u001B[0m\u001B[94m Tester   \u001B[0m\u001B[94m 20       \u001B[0m\u001B[94m -     \u001B[0m\u001B[94m -     \u001B[0m\u001B[94m -   \u001B[0m\u001B[94m [1]          \u001B[0m"
     },
     "execution_count": 20,
     "metadata": {},
     "output_type": "execute_result"
    }
   ],
   "source": [
    "# Print predecessors/successors\n",
    "prj[4].predecessors"
   ],
   "metadata": {
    "collapsed": false,
    "ExecuteTime": {
     "start_time": "2023-04-06T21:47:50.639058Z",
     "end_time": "2023-04-06T21:47:50.658092Z"
    }
   }
  },
  {
   "cell_type": "markdown",
   "metadata": {
    "collapsed": false
   },
   "source": [
    "### Print selected fields"
   ]
  },
  {
   "cell_type": "code",
   "execution_count": 21,
   "metadata": {
    "ExecuteTime": {
     "start_time": "2023-04-06T21:47:50.654575Z",
     "end_time": "2023-04-06T21:47:50.671602Z"
    },
    "collapsed": false
   },
   "outputs": [
    {
     "name": "stdout",
     "output_type": "stream",
     "text": [
      "\u001B[91m ID \u001B[0m\u001B[91m NAME      \u001B[0m\u001B[91m RESOURCE \u001B[0m\n",
      "\u001B[94m 1  \u001B[0m\u001B[94m Task 1    \u001B[0m\u001B[94m Tester   \u001B[0m\n",
      "\u001B[94m 2  \u001B[0m\u001B[94m Task 2    \u001B[0m\u001B[94m Tester   \u001B[0m\n",
      "\u001B[94m 3  \u001B[0m\u001B[94m Task 3    \u001B[0m\u001B[94m -        \u001B[0m\n",
      "\u001B[96m 4  \u001B[0m\u001B[96m    Task 4 \u001B[0m\u001B[96m -        \u001B[0m\n",
      "\u001B[96m 5  \u001B[0m\u001B[96m    Task 5 \u001B[0m\u001B[96m -        \u001B[0m\n",
      "\u001B[94m 6  \u001B[0m\u001B[94m Task 6    \u001B[0m\u001B[94m -        \u001B[0m\n",
      "\u001B[96m 7  \u001B[0m\u001B[96m    Task 7 \u001B[0m\u001B[96m -        \u001B[0m\n",
      "\u001B[96m 8  \u001B[0m\u001B[96m    Task 8 \u001B[0m\u001B[96m -        \u001B[0m\n"
     ]
    }
   ],
   "source": [
    "prj.print(['id', 'name', 'resource'])"
   ]
  },
  {
   "cell_type": "markdown",
   "metadata": {
    "collapsed": false
   },
   "source": [
    "### Hide children"
   ]
  },
  {
   "cell_type": "code",
   "execution_count": 22,
   "metadata": {
    "ExecuteTime": {
     "start_time": "2023-04-06T21:47:50.669601Z",
     "end_time": "2023-04-06T21:47:50.776173Z"
    },
    "collapsed": false
   },
   "outputs": [
    {
     "name": "stdout",
     "output_type": "stream",
     "text": [
      "\u001B[91m ID \u001B[0m\u001B[91m NAME   \u001B[0m\u001B[91m RESOURCE \u001B[0m\u001B[91m ESTIMATE \u001B[0m\u001B[91m SPENT \u001B[0m\u001B[91m START \u001B[0m\u001B[91m END \u001B[0m\u001B[91m PREDECESSORS \u001B[0m\n",
      "\u001B[94m 1  \u001B[0m\u001B[94m Task 1 \u001B[0m\u001B[94m Tester   \u001B[0m\u001B[94m 40       \u001B[0m\u001B[94m -     \u001B[0m\u001B[94m -     \u001B[0m\u001B[94m -   \u001B[0m\u001B[94m []           \u001B[0m\n",
      "\u001B[94m 2  \u001B[0m\u001B[94m Task 2 \u001B[0m\u001B[94m Tester   \u001B[0m\u001B[94m 20       \u001B[0m\u001B[94m -     \u001B[0m\u001B[94m -     \u001B[0m\u001B[94m -   \u001B[0m\u001B[94m [1]          \u001B[0m\n",
      "\u001B[94m 3  \u001B[0m\u001B[94m Task 3 \u001B[0m\u001B[94m -        \u001B[0m\u001B[94m -        \u001B[0m\u001B[94m -     \u001B[0m\u001B[94m -     \u001B[0m\u001B[94m -   \u001B[0m\u001B[94m []           \u001B[0m\n",
      "\u001B[94m 6  \u001B[0m\u001B[94m Task 6 \u001B[0m\u001B[94m -        \u001B[0m\u001B[94m -        \u001B[0m\u001B[94m -     \u001B[0m\u001B[94m -     \u001B[0m\u001B[94m -   \u001B[0m\u001B[94m []           \u001B[0m\n"
     ]
    }
   ],
   "source": [
    "prj.print(children=False)"
   ]
  },
  {
   "cell_type": "markdown",
   "metadata": {
    "collapsed": false
   },
   "source": [
    "### Color themes"
   ]
  },
  {
   "cell_type": "code",
   "execution_count": 25,
   "metadata": {
    "ExecuteTime": {
     "start_time": "2023-04-06T21:47:50.718145Z",
     "end_time": "2023-04-06T21:47:50.792853Z"
    },
    "collapsed": false
   },
   "outputs": [
    {
     "name": "stdout",
     "output_type": "stream",
     "text": [
      "\u001B[94m ID \u001B[0m\u001B[94m NAME      \u001B[0m\u001B[94m RESOURCE \u001B[0m\u001B[94m ESTIMATE \u001B[0m\u001B[94m SPENT \u001B[0m\u001B[94m START \u001B[0m\u001B[94m END \u001B[0m\u001B[94m PREDECESSORS \u001B[0m\n",
      "\u001B[91m 1  \u001B[0m\u001B[91m Task 1    \u001B[0m\u001B[91m Tester   \u001B[0m\u001B[91m 40       \u001B[0m\u001B[91m -     \u001B[0m\u001B[91m -     \u001B[0m\u001B[91m -   \u001B[0m\u001B[91m []           \u001B[0m\n",
      "\u001B[91m 2  \u001B[0m\u001B[91m Task 2    \u001B[0m\u001B[91m Tester   \u001B[0m\u001B[91m 20       \u001B[0m\u001B[91m -     \u001B[0m\u001B[91m -     \u001B[0m\u001B[91m -   \u001B[0m\u001B[91m [1]          \u001B[0m\n",
      "\u001B[91m 3  \u001B[0m\u001B[91m Task 3    \u001B[0m\u001B[91m -        \u001B[0m\u001B[91m -        \u001B[0m\u001B[91m -     \u001B[0m\u001B[91m -     \u001B[0m\u001B[91m -   \u001B[0m\u001B[91m []           \u001B[0m\n",
      "\u001B[92m 4  \u001B[0m\u001B[92m    Task 4 \u001B[0m\u001B[92m -        \u001B[0m\u001B[92m 100      \u001B[0m\u001B[92m -     \u001B[0m\u001B[92m -     \u001B[0m\u001B[92m -   \u001B[0m\u001B[92m [2]          \u001B[0m\n",
      "\u001B[92m 5  \u001B[0m\u001B[92m    Task 5 \u001B[0m\u001B[92m -        \u001B[0m\u001B[92m 50       \u001B[0m\u001B[92m -     \u001B[0m\u001B[92m -     \u001B[0m\u001B[92m -   \u001B[0m\u001B[92m [2]          \u001B[0m\n",
      "\u001B[91m 6  \u001B[0m\u001B[91m Task 6    \u001B[0m\u001B[91m -        \u001B[0m\u001B[91m -        \u001B[0m\u001B[91m -     \u001B[0m\u001B[91m -     \u001B[0m\u001B[91m -   \u001B[0m\u001B[91m []           \u001B[0m\n",
      "\u001B[92m 7  \u001B[0m\u001B[92m    Task 7 \u001B[0m\u001B[92m -        \u001B[0m\u001B[92m 16       \u001B[0m\u001B[92m -     \u001B[0m\u001B[92m -     \u001B[0m\u001B[92m -   \u001B[0m\u001B[92m [5]          \u001B[0m\n",
      "\u001B[92m 8  \u001B[0m\u001B[92m    Task 8 \u001B[0m\u001B[92m -        \u001B[0m\u001B[92m 16       \u001B[0m\u001B[92m -     \u001B[0m\u001B[92m -     \u001B[0m\u001B[92m -   \u001B[0m\u001B[92m [7]          \u001B[0m\n"
     ]
    }
   ],
   "source": [
    "# See https://en.wikipedia.org/wiki/ANSI_escape_code for coloring details\n",
    "theme = {\n",
    "    'header_color': '94m', #blue\n",
    "    'level_colors': ['91m', '92m', '93m']\n",
    "}\n",
    "prj.print(theme=theme)"
   ]
  },
  {
   "cell_type": "markdown",
   "metadata": {
    "collapsed": false
   },
   "source": [
    "### Custom task colors"
   ]
  },
  {
   "cell_type": "code",
   "execution_count": 26,
   "metadata": {
    "ExecuteTime": {
     "start_time": "2023-04-06T21:47:50.732905Z",
     "end_time": "2023-04-06T21:47:50.792853Z"
    },
    "collapsed": false
   },
   "outputs": [
    {
     "data": {
      "text/plain": "\u001B[91m ID \u001B[0m\u001B[91m NAME      \u001B[0m\u001B[91m RESOURCE \u001B[0m\u001B[91m ESTIMATE \u001B[0m\u001B[91m SPENT \u001B[0m\u001B[91m START \u001B[0m\u001B[91m END \u001B[0m\u001B[91m PREDECESSORS \u001B[0m\n\u001B[30:41m 1  \u001B[0m\u001B[30:41m Task 1    \u001B[0m\u001B[30:41m Tester   \u001B[0m\u001B[30:41m 40       \u001B[0m\u001B[30:41m -     \u001B[0m\u001B[30:41m -     \u001B[0m\u001B[30:41m -   \u001B[0m\u001B[30:41m []           \u001B[0m\n\u001B[30:41m 2  \u001B[0m\u001B[30:41m Task 2    \u001B[0m\u001B[30:41m Tester   \u001B[0m\u001B[30:41m 20       \u001B[0m\u001B[30:41m -     \u001B[0m\u001B[30:41m -     \u001B[0m\u001B[30:41m -   \u001B[0m\u001B[30:41m [1]          \u001B[0m\n\u001B[94m 3  \u001B[0m\u001B[94m Task 3    \u001B[0m\u001B[94m -        \u001B[0m\u001B[94m -        \u001B[0m\u001B[94m -     \u001B[0m\u001B[94m -     \u001B[0m\u001B[94m -   \u001B[0m\u001B[94m []           \u001B[0m\n\u001B[96m 4  \u001B[0m\u001B[96m    Task 4 \u001B[0m\u001B[96m -        \u001B[0m\u001B[96m 100      \u001B[0m\u001B[96m -     \u001B[0m\u001B[96m -     \u001B[0m\u001B[96m -   \u001B[0m\u001B[96m [2]          \u001B[0m\n\u001B[96m 5  \u001B[0m\u001B[96m    Task 5 \u001B[0m\u001B[96m -        \u001B[0m\u001B[96m 50       \u001B[0m\u001B[96m -     \u001B[0m\u001B[96m -     \u001B[0m\u001B[96m -   \u001B[0m\u001B[96m [2]          \u001B[0m\n\u001B[94m 6  \u001B[0m\u001B[94m Task 6    \u001B[0m\u001B[94m -        \u001B[0m\u001B[94m -        \u001B[0m\u001B[94m -     \u001B[0m\u001B[94m -     \u001B[0m\u001B[94m -   \u001B[0m\u001B[94m []           \u001B[0m\n\u001B[96m 7  \u001B[0m\u001B[96m    Task 7 \u001B[0m\u001B[96m -        \u001B[0m\u001B[96m 16       \u001B[0m\u001B[96m -     \u001B[0m\u001B[96m -     \u001B[0m\u001B[96m -   \u001B[0m\u001B[96m [5]          \u001B[0m\n\u001B[96m 8  \u001B[0m\u001B[96m    Task 8 \u001B[0m\u001B[96m -        \u001B[0m\u001B[96m 16       \u001B[0m\u001B[96m -     \u001B[0m\u001B[96m -     \u001B[0m\u001B[96m -   \u001B[0m\u001B[96m [7]          \u001B[0m"
     },
     "execution_count": 26,
     "metadata": {},
     "output_type": "execute_result"
    }
   ],
   "source": [
    "# See https://en.wikipedia.org/wiki/ANSI_escape_code for coloring details\n",
    "prj.tasks(resource='Tester').print_color='30:41m'\n",
    "prj"
   ]
  },
  {
   "cell_type": "markdown",
   "metadata": {
    "collapsed": false
   },
   "source": [
    "# Visualize resource usage"
   ]
  },
  {
   "cell_type": "code",
   "execution_count": 27,
   "metadata": {
    "ExecuteTime": {
     "start_time": "2023-04-06T21:47:50.749946Z",
     "end_time": "2023-04-06T21:47:50.793852Z"
    },
    "collapsed": false
   },
   "outputs": [
    {
     "data": {
      "text/plain": "\u001B[91m ID \u001B[0m\u001B[91m NAME      \u001B[0m\u001B[91m RESOURCE  \u001B[0m\u001B[91m ESTIMATE \u001B[0m\u001B[91m SPENT \u001B[0m\u001B[91m START            \u001B[0m\u001B[91m END              \u001B[0m\u001B[91m PREDECESSORS \u001B[0m\n\u001B[94m 1  \u001B[0m\u001B[94m Task 1    \u001B[0m\u001B[94m Tester    \u001B[0m\u001B[94m 40       \u001B[0m\u001B[94m 0     \u001B[0m\u001B[94m 06.04.2023 00:00 \u001B[0m\u001B[94m 13.04.2023 00:00 \u001B[0m\u001B[94m []           \u001B[0m\n\u001B[94m 2  \u001B[0m\u001B[94m Task 2    \u001B[0m\u001B[94m Tester    \u001B[0m\u001B[94m 20       \u001B[0m\u001B[94m 0     \u001B[0m\u001B[94m 13.04.2023 00:00 \u001B[0m\u001B[94m 17.04.2023 12:00 \u001B[0m\u001B[94m [1]          \u001B[0m\n\u001B[94m 3  \u001B[0m\u001B[94m Task 3    \u001B[0m\u001B[94m Developer \u001B[0m\u001B[94m 150      \u001B[0m\u001B[94m 0     \u001B[0m\u001B[94m 17.04.2023 00:00 \u001B[0m\u001B[94m 11.05.2023 18:00 \u001B[0m\u001B[94m []           \u001B[0m\n\u001B[96m 4  \u001B[0m\u001B[96m    Task 4 \u001B[0m\u001B[96m Developer \u001B[0m\u001B[96m 100      \u001B[0m\u001B[96m 0     \u001B[0m\u001B[96m 17.04.2023 00:00 \u001B[0m\u001B[96m 03.05.2023 12:00 \u001B[0m\u001B[96m [2]          \u001B[0m\n\u001B[96m 5  \u001B[0m\u001B[96m    Task 5 \u001B[0m\u001B[96m Developer \u001B[0m\u001B[96m 50       \u001B[0m\u001B[96m 0     \u001B[0m\u001B[96m 03.05.2023 12:00 \u001B[0m\u001B[96m 11.05.2023 18:00 \u001B[0m\u001B[96m [2]          \u001B[0m\n\u001B[94m 6  \u001B[0m\u001B[94m Task 6    \u001B[0m\u001B[94m Developer \u001B[0m\u001B[94m 32       \u001B[0m\u001B[94m 0     \u001B[0m\u001B[94m 11.05.2023 18:00 \u001B[0m\u001B[94m 17.05.2023 18:00 \u001B[0m\u001B[94m []           \u001B[0m\n\u001B[96m 7  \u001B[0m\u001B[96m    Task 7 \u001B[0m\u001B[96m Developer \u001B[0m\u001B[96m 16       \u001B[0m\u001B[96m 0     \u001B[0m\u001B[96m 11.05.2023 18:00 \u001B[0m\u001B[96m 15.05.2023 18:00 \u001B[0m\u001B[96m [5]          \u001B[0m\n\u001B[96m 8  \u001B[0m\u001B[96m    Task 8 \u001B[0m\u001B[96m Developer \u001B[0m\u001B[96m 16       \u001B[0m\u001B[96m 0     \u001B[0m\u001B[96m 15.05.2023 18:00 \u001B[0m\u001B[96m 17.05.2023 18:00 \u001B[0m\u001B[96m [7]          \u001B[0m"
     },
     "execution_count": 27,
     "metadata": {},
     "output_type": "execute_result"
    }
   ],
   "source": [
    "# Let's create schedule\n",
    "p = prj.clone()\n",
    "p.tasks(resource=None).resource='Developer'\n",
    "p.tasks.print_color = None\n",
    "\n",
    "plan, usage = DefaultScheduler(resources=[Resource(name='Tester'), Resource(name='Developer')]).calc(p)\n",
    "plan"
   ]
  },
  {
   "cell_type": "code",
   "execution_count": 28,
   "metadata": {
    "ExecuteTime": {
     "start_time": "2023-04-06T21:47:50.762975Z",
     "end_time": "2023-04-06T21:47:50.793852Z"
    },
    "collapsed": false
   },
   "outputs": [
    {
     "data": {
      "text/plain": "|\u001B[91m DATE     \u001B[0m|\u001B[91m TESTER \u001B[0m|\u001B[91m DEVELOPER \u001B[0m|\n| 23-04-06 |\u001B[92m 8.0    \u001B[0m|\u001B[97m 0.0       \u001B[0m|\n| 23-04-07 |\u001B[92m 8.0    \u001B[0m|\u001B[97m 0.0       \u001B[0m|\n| 23-04-08 |\u001B[97m 0.0    \u001B[0m|\u001B[97m 0.0       \u001B[0m|\n| 23-04-09 |\u001B[97m 0.0    \u001B[0m|\u001B[97m 0.0       \u001B[0m|\n| 23-04-10 |\u001B[92m 8.0    \u001B[0m|\u001B[97m 0.0       \u001B[0m|\n| 23-04-11 |\u001B[92m 8.0    \u001B[0m|\u001B[97m 0.0       \u001B[0m|\n| 23-04-12 |\u001B[92m 8.0    \u001B[0m|\u001B[97m 0.0       \u001B[0m|\n| 23-04-13 |\u001B[92m 8.0    \u001B[0m|\u001B[97m 0.0       \u001B[0m|\n| 23-04-14 |\u001B[92m 8.0    \u001B[0m|\u001B[97m 0.0       \u001B[0m|\n| 23-04-15 |\u001B[97m 0.0    \u001B[0m|\u001B[97m 0.0       \u001B[0m|\n| 23-04-16 |\u001B[97m 0.0    \u001B[0m|\u001B[97m 0.0       \u001B[0m|\n| 23-04-17 |\u001B[93m 4.0    \u001B[0m|\u001B[92m 8.0       \u001B[0m|\n| 23-04-18 |\u001B[97m 0.0    \u001B[0m|\u001B[92m 8.0       \u001B[0m|\n| 23-04-19 |\u001B[97m 0.0    \u001B[0m|\u001B[92m 8.0       \u001B[0m|\n| 23-04-20 |\u001B[97m 0.0    \u001B[0m|\u001B[92m 8.0       \u001B[0m|\n| 23-04-21 |\u001B[97m 0.0    \u001B[0m|\u001B[92m 8.0       \u001B[0m|\n| 23-04-22 |\u001B[97m 0.0    \u001B[0m|\u001B[97m 0.0       \u001B[0m|\n| 23-04-23 |\u001B[97m 0.0    \u001B[0m|\u001B[97m 0.0       \u001B[0m|\n| 23-04-24 |\u001B[97m 0.0    \u001B[0m|\u001B[92m 8.0       \u001B[0m|\n| 23-04-25 |\u001B[97m 0.0    \u001B[0m|\u001B[92m 8.0       \u001B[0m|\n| 23-04-26 |\u001B[97m 0.0    \u001B[0m|\u001B[92m 8.0       \u001B[0m|\n| 23-04-27 |\u001B[97m 0.0    \u001B[0m|\u001B[92m 8.0       \u001B[0m|\n| 23-04-28 |\u001B[97m 0.0    \u001B[0m|\u001B[92m 8.0       \u001B[0m|\n| 23-04-29 |\u001B[97m 0.0    \u001B[0m|\u001B[97m 0.0       \u001B[0m|\n| 23-04-30 |\u001B[97m 0.0    \u001B[0m|\u001B[97m 0.0       \u001B[0m|\n| 23-05-01 |\u001B[97m 0.0    \u001B[0m|\u001B[92m 8.0       \u001B[0m|\n| 23-05-02 |\u001B[97m 0.0    \u001B[0m|\u001B[92m 8.0       \u001B[0m|\n| 23-05-03 |\u001B[97m 0.0    \u001B[0m|\u001B[92m 8.0       \u001B[0m|\n| 23-05-04 |\u001B[97m 0.0    \u001B[0m|\u001B[92m 8.0       \u001B[0m|\n| 23-05-05 |\u001B[97m 0.0    \u001B[0m|\u001B[92m 8.0       \u001B[0m|\n| 23-05-06 |\u001B[97m 0.0    \u001B[0m|\u001B[97m 0.0       \u001B[0m|\n| 23-05-07 |\u001B[97m 0.0    \u001B[0m|\u001B[97m 0.0       \u001B[0m|\n| 23-05-08 |\u001B[97m 0.0    \u001B[0m|\u001B[92m 8.0       \u001B[0m|\n| 23-05-09 |\u001B[97m 0.0    \u001B[0m|\u001B[92m 8.0       \u001B[0m|\n| 23-05-10 |\u001B[97m 0.0    \u001B[0m|\u001B[92m 8.0       \u001B[0m|\n| 23-05-11 |\u001B[97m 0.0    \u001B[0m|\u001B[92m 8.0       \u001B[0m|\n| 23-05-12 |\u001B[97m 0.0    \u001B[0m|\u001B[92m 8.0       \u001B[0m|\n| 23-05-13 |\u001B[97m 0.0    \u001B[0m|\u001B[97m 0.0       \u001B[0m|\n| 23-05-14 |\u001B[97m 0.0    \u001B[0m|\u001B[97m 0.0       \u001B[0m|\n| 23-05-15 |\u001B[97m 0.0    \u001B[0m|\u001B[92m 8.0       \u001B[0m|\n| 23-05-16 |\u001B[97m 0.0    \u001B[0m|\u001B[92m 8.0       \u001B[0m|"
     },
     "execution_count": 28,
     "metadata": {},
     "output_type": "execute_result"
    }
   ],
   "source": [
    "# Visualize usage table\n",
    "usage"
   ]
  }
 ],
 "metadata": {
  "kernelspec": {
   "display_name": "Python 3",
   "language": "python",
   "name": "python3"
  },
  "language_info": {
   "codemirror_mode": {
    "name": "ipython",
    "version": 3
   },
   "file_extension": ".py",
   "mimetype": "text/x-python",
   "name": "python",
   "nbconvert_exporter": "python",
   "pygments_lexer": "ipython3",
   "version": "3.10.6"
  }
 },
 "nbformat": 4,
 "nbformat_minor": 0
}
