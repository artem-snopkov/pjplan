{
 "cells": [
  {
   "cell_type": "code",
   "execution_count": 1,
   "metadata": {
    "collapsed": true
   },
   "outputs": [],
   "source": [
    "import sys\n",
    "sys.path.append('../../src')\n",
    "from pjplan import Task, WBS"
   ]
  },
  {
   "cell_type": "code",
   "execution_count": 2,
   "outputs": [],
   "source": [
    "# Sample project\n",
    "with WBS('Test project') as prj:\n",
    "    prj // Task(1, 'Task 1', estimate=40, resource='Tester')\n",
    "    prj // Task(2, 'Task 2', predecessors=[prj(1)], estimate=20, resource='Tester')\n",
    "    with prj // Task(3, 'Task 3') as t:\n",
    "        t // Task(4, 'Task 4', predecessors=[prj(2)], estimate=100)\n",
    "        t // Task(5, 'Task 5', predecessors=[prj(2)], estimate=50)\n",
    "    with prj // Task(6, 'Task 6') as t:\n",
    "        t // Task(7, 'Task 7', predecessors=[prj(5)], estimate=16)\n",
    "        t // Task(8, 'Task 8', predecessors=[prj(7)], estimate=16)"
   ],
   "metadata": {
    "collapsed": false
   }
  },
  {
   "cell_type": "markdown",
   "source": [
    "### Simple print"
   ],
   "metadata": {
    "collapsed": false
   }
  },
  {
   "cell_type": "code",
   "execution_count": 3,
   "outputs": [
    {
     "data": {
      "text/plain": "\u001B[92mID   NAME       RESOURCE   ESTIMATE   SPENT   START   END   PREDECESSORS \u001B[0m\n\u001B[94m1    Task 1     Tester     40         -       -       -     []           \u001B[0m\n\u001B[94m2    Task 2     Tester     20         -       -       -     [1]          \u001B[0m\n\u001B[94m3    Task 3     -          -          -       -       -     []           \u001B[0m\n\u001B[96m4       Task 4  -          100        -       -       -     [2]          \u001B[0m\n\u001B[96m5       Task 5  -          50         -       -       -     [2]          \u001B[0m\n\u001B[94m6    Task 6     -          -          -       -       -     []           \u001B[0m\n\u001B[96m7       Task 7  -          16         -       -       -     [5]          \u001B[0m\n\u001B[96m8       Task 8  -          16         -       -       -     [7]          \u001B[0m"
     },
     "execution_count": 3,
     "metadata": {},
     "output_type": "execute_result"
    }
   ],
   "source": [
    "prj # or prj.print()"
   ],
   "metadata": {
    "collapsed": false
   }
  },
  {
   "cell_type": "markdown",
   "source": [
    "### Print selected fields"
   ],
   "metadata": {
    "collapsed": false
   }
  },
  {
   "cell_type": "code",
   "execution_count": 4,
   "outputs": [
    {
     "name": "stdout",
     "output_type": "stream",
     "text": [
      "\u001B[92mID   NAME       RESOURCE \u001B[0m\n",
      "\u001B[94m1    Task 1     Tester   \u001B[0m\n",
      "\u001B[94m2    Task 2     Tester   \u001B[0m\n",
      "\u001B[94m3    Task 3     -        \u001B[0m\n",
      "\u001B[96m4       Task 4  -        \u001B[0m\n",
      "\u001B[96m5       Task 5  -        \u001B[0m\n",
      "\u001B[94m6    Task 6     -        \u001B[0m\n",
      "\u001B[96m7       Task 7  -        \u001B[0m\n",
      "\u001B[96m8       Task 8  -        \u001B[0m\n",
      "\n"
     ]
    }
   ],
   "source": [
    "prj.print(['id', 'name', 'resource'])"
   ],
   "metadata": {
    "collapsed": false
   }
  },
  {
   "cell_type": "markdown",
   "source": [
    "### Hide children"
   ],
   "metadata": {
    "collapsed": false
   }
  },
  {
   "cell_type": "code",
   "execution_count": 5,
   "outputs": [
    {
     "name": "stdout",
     "output_type": "stream",
     "text": [
      "\u001B[92mID   NAME       RESOURCE   ESTIMATE   SPENT   START   END   PREDECESSORS \u001B[0m\n",
      "\u001B[94m1    Task 1     Tester     40         -       -       -     []           \u001B[0m\n",
      "\u001B[94m2    Task 2     Tester     20         -       -       -     [1]          \u001B[0m\n",
      "\u001B[94m3    Task 3     -          -          -       -       -     []           \u001B[0m\n",
      "\u001B[94m6    Task 6     -          -          -       -       -     []           \u001B[0m\n",
      "\n"
     ]
    }
   ],
   "source": [
    "prj.print(children=False)"
   ],
   "metadata": {
    "collapsed": false
   }
  },
  {
   "cell_type": "markdown",
   "source": [
    "### Print selected tasks"
   ],
   "metadata": {
    "collapsed": false
   }
  },
  {
   "cell_type": "code",
   "execution_count": 6,
   "outputs": [
    {
     "data": {
      "text/plain": "\u001B[92mID   NAME    RESOURCE   ESTIMATE   SPENT   START   END   PREDECESSORS \u001B[0m\n\u001B[94m1    Task 1  Tester     40         -       -       -     []           \u001B[0m\n\u001B[94m2    Task 2  Tester     20         -       -       -     [1]          \u001B[0m"
     },
     "execution_count": 6,
     "metadata": {},
     "output_type": "execute_result"
    }
   ],
   "source": [
    "prj(resource='Tester') # or prj(resource='Tester').print()"
   ],
   "metadata": {
    "collapsed": false
   }
  },
  {
   "cell_type": "code",
   "execution_count": null,
   "outputs": [],
   "source": [
    "### Print single task"
   ],
   "metadata": {
    "collapsed": false
   }
  },
  {
   "cell_type": "code",
   "execution_count": 7,
   "outputs": [
    {
     "data": {
      "text/plain": "\u001B[92mID   NAME    RESOURCE   ESTIMATE   SPENT   START   END   PREDECESSORS \u001B[0m\n\u001B[94m1    Task 1  Tester     40         -       -       -     []           \u001B[0m"
     },
     "execution_count": 7,
     "metadata": {},
     "output_type": "execute_result"
    }
   ],
   "source": [
    "prj(1) # or prj(1).print()"
   ],
   "metadata": {
    "collapsed": false
   }
  }
 ],
 "metadata": {
  "kernelspec": {
   "display_name": "Python 3",
   "language": "python",
   "name": "python3"
  },
  "language_info": {
   "codemirror_mode": {
    "name": "ipython",
    "version": 2
   },
   "file_extension": ".py",
   "mimetype": "text/x-python",
   "name": "python",
   "nbconvert_exporter": "python",
   "pygments_lexer": "ipython2",
   "version": "2.7.6"
  }
 },
 "nbformat": 4,
 "nbformat_minor": 0
}
