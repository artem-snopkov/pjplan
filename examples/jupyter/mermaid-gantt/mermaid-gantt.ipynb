{
 "cells": [
  {
   "cell_type": "code",
   "execution_count": 33,
   "metadata": {},
   "outputs": [],
   "source": [
    "import sys\n",
    "from datetime import datetime\n",
    "sys.path.append('../../src')\n",
    "from pjplan import Task, DefaultScheduler, WBS, MermaidGantt, task_sheet"
   ]
  },
  {
   "cell_type": "code",
   "execution_count": 34,
   "metadata": {},
   "outputs": [],
   "source": [
    "with WBS('Test project') as prj:\n",
    "    prj // Task(1, 'Task 1', estimate=40, resource='Tester')\n",
    "    prj // Task(2, 'Task 2', predecessors=[prj(1)], estimate=20, resource='Tester')\n",
    "    with prj // Task(3, 'Task 3') as t:\n",
    "        t // Task(4, 'Task 4', predecessors=[prj(2)], estimate=100)\n",
    "        t // Task(5, 'Task 5', predecessors=[prj(2)], estimate=50)\n",
    "    with prj // Task(6, 'Task 6') as t:\n",
    "        t // Task(7, 'Task 7', predecessors=[prj(5)], estimate=16)\n",
    "        t // Task(8, 'Task 8', predecessors=[prj(7)], estimate=16)"
   ]
  },
  {
   "cell_type": "code",
   "execution_count": 35,
   "metadata": {},
   "outputs": [],
   "source": [
    "plan, usage = DefaultScheduler(datetime.now()).calc(prj)"
   ]
  },
  {
   "cell_type": "markdown",
   "source": [
    "### Sample project"
   ],
   "metadata": {
    "collapsed": false
   }
  },
  {
   "cell_type": "code",
   "execution_count": 36,
   "outputs": [
    {
     "name": "stdout",
     "output_type": "stream",
     "text": [
      "\u001B[92mID     NAME       START             END               PREDECESSORS \u001B[0m\n",
      "\u001B[94m     1 Task 1     27.03.2023 00:00  01.04.2023 00:00  []           \u001B[0m\n",
      "\u001B[94m     2 Task 2     03.04.2023 00:00  05.04.2023 12:00  [1]          \u001B[0m\n",
      "\u001B[94m     3 Task 3     05.04.2023 12:00  02.05.2023 06:00  []           \u001B[0m\n",
      "\u001B[96m     4    Task 4  05.04.2023 12:00  22.04.2023 00:00  [2]          \u001B[0m\n",
      "\u001B[96m     5    Task 5  24.04.2023 00:00  02.05.2023 06:00  [2]          \u001B[0m\n",
      "\u001B[94m     6 Task 6     02.05.2023 06:00  08.05.2023 06:00  []           \u001B[0m\n",
      "\u001B[96m     7    Task 7  02.05.2023 06:00  04.05.2023 06:00  [5]          \u001B[0m\n",
      "\u001B[96m     8    Task 8  04.05.2023 06:00  08.05.2023 06:00  [7]          \u001B[0m\n"
     ]
    }
   ],
   "source": [
    "task_sheet(plan)"
   ],
   "metadata": {
    "collapsed": false
   }
  },
  {
   "cell_type": "markdown",
   "source": [
    "### Simple Gantt"
   ],
   "metadata": {
    "collapsed": false
   }
  },
  {
   "cell_type": "code",
   "execution_count": 37,
   "metadata": {},
   "outputs": [
    {
     "data": {
      "text/plain": "<pjplan.viz.mermaid.gantt.MermaidGantt at 0x22a315efdc0>",
      "text/html": "<iframe srcdoc=\"&lt;html&gt;\n&lt;meta charset=&quot;UTF-8&quot;&gt;\n&lt;body&gt;\n&lt;style&gt;\n\n&lt;/style&gt;\n\n&lt;div class=&quot;mermaid&quot;&gt;\ngantt\n  dateFormat DD.MM.YYYY\n  title Test project\n    Task 1:  id_1, 27.03.2023, 01.04.2023\n    Task 2:  id_2, 03.04.2023, 05.04.2023\n    Task 3:  id_3, 05.04.2023, 02.05.2023\n    Task 4:  id_4, 05.04.2023, 22.04.2023\n    Task 5:  id_5, 24.04.2023, 02.05.2023\n    Task 6:  id_6, 02.05.2023, 08.05.2023\n    Task 7:  id_7, 02.05.2023, 04.05.2023\n    Task 8:  id_8, 04.05.2023, 08.05.2023\n\n&lt;/div&gt;\n\n&lt;script src=&quot;https://cdn.jsdelivr.net/npm/mermaid/dist/mermaid.min.js&quot;&gt;&lt;/script&gt;\n&lt;script&gt;\n    mermaid.ganttConfig = {\n        mirrorActor: true\n    }\n    mermaid.initialize({\n        startOnLoad: true\n    });\n&lt;/script&gt;\n&lt;/body&gt;\n&lt;/html&gt;\" width=\"100%\" height=\"320\" style=\"border:none !important;\" allowfullscreen webkitallowfullscreen mozallowfullscreen></iframe>"
     },
     "execution_count": 37,
     "metadata": {},
     "output_type": "execute_result"
    }
   ],
   "source": [
    "MermaidGantt(plan, height=320)"
   ]
  },
  {
   "cell_type": "markdown",
   "source": [
    "### Sections and weekends"
   ],
   "metadata": {
    "collapsed": false
   }
  },
  {
   "cell_type": "code",
   "execution_count": 38,
   "outputs": [
    {
     "data": {
      "text/plain": "<pjplan.viz.mermaid.gantt.MermaidGantt at 0x22a31d434c0>",
      "text/html": "<iframe srcdoc=\"&lt;html&gt;\n&lt;meta charset=&quot;UTF-8&quot;&gt;\n&lt;body&gt;\n&lt;style&gt;\n\n&lt;/style&gt;\n\n&lt;div class=&quot;mermaid&quot;&gt;\ngantt\n  dateFormat DD.MM.YYYY\n  title Test project\n  excludes weekends\n  section Tester\n    Task 1:  id_1, 27.03.2023, 01.04.2023\n    Task 2:  id_2, 03.04.2023, 05.04.2023\n  section -\n    Task 3:  id_3, 05.04.2023, 02.05.2023\n    Task 4:  id_4, 05.04.2023, 22.04.2023\n    Task 5:  id_5, 24.04.2023, 02.05.2023\n    Task 6:  id_6, 02.05.2023, 08.05.2023\n    Task 7:  id_7, 02.05.2023, 04.05.2023\n    Task 8:  id_8, 04.05.2023, 08.05.2023\n\n&lt;/div&gt;\n\n&lt;script src=&quot;https://cdn.jsdelivr.net/npm/mermaid/dist/mermaid.min.js&quot;&gt;&lt;/script&gt;\n&lt;script&gt;\n    mermaid.ganttConfig = {\n        mirrorActor: true\n    }\n    mermaid.initialize({\n        startOnLoad: true\n    });\n&lt;/script&gt;\n&lt;/body&gt;\n&lt;/html&gt;\" width=\"100%\" height=\"320\" style=\"border:none !important;\" allowfullscreen webkitallowfullscreen mozallowfullscreen></iframe>"
     },
     "execution_count": 38,
     "metadata": {},
     "output_type": "execute_result"
    }
   ],
   "source": [
    "plan_copy = plan.clone()\n",
    "plan_copy(resource='Tester').gantt_section='Tester'\n",
    "\n",
    "MermaidGantt(plan_copy, height=320, weekends=True)"
   ],
   "metadata": {
    "collapsed": false
   }
  },
  {
   "cell_type": "markdown",
   "source": [
    "### Custom bar styles"
   ],
   "metadata": {
    "collapsed": false
   }
  },
  {
   "cell_type": "code",
   "execution_count": 39,
   "outputs": [
    {
     "data": {
      "text/plain": "<pjplan.viz.mermaid.gantt.MermaidGantt at 0x22a314504c0>",
      "text/html": "<iframe srcdoc=\"&lt;html&gt;\n&lt;meta charset=&quot;UTF-8&quot;&gt;\n&lt;body&gt;\n&lt;style&gt;\n#id_4, #id_5, #id_7, #id_8{fill:white!important;stroke:#23964d!important;}\n#id_4-text, #id_5-text, #id_7-text, #id_8-text{fill:black!important;}\n\n&lt;/style&gt;\n\n&lt;div class=&quot;mermaid&quot;&gt;\ngantt\n  dateFormat DD.MM.YYYY\n  title Test project\n    Task 1:  id_1, 27.03.2023, 01.04.2023\n    Task 2:  id_2, 03.04.2023, 05.04.2023\n    Task 3:  id_3, 05.04.2023, 02.05.2023\n    Task 4:  id_4, 05.04.2023, 22.04.2023\n    Task 5:  id_5, 24.04.2023, 02.05.2023\n    Task 6:  id_6, 02.05.2023, 08.05.2023\n    Task 7:  id_7, 02.05.2023, 04.05.2023\n    Task 8:  id_8, 04.05.2023, 08.05.2023\n\n&lt;/div&gt;\n\n&lt;script src=&quot;https://cdn.jsdelivr.net/npm/mermaid/dist/mermaid.min.js&quot;&gt;&lt;/script&gt;\n&lt;script&gt;\n    mermaid.ganttConfig = {\n        mirrorActor: true\n    }\n    mermaid.initialize({\n        startOnLoad: true\n    });\n&lt;/script&gt;\n&lt;/body&gt;\n&lt;/html&gt;\" width=\"100%\" height=\"320\" style=\"border:none !important;\" allowfullscreen webkitallowfullscreen mozallowfullscreen></iframe>"
     },
     "execution_count": 39,
     "metadata": {},
     "output_type": "execute_result"
    }
   ],
   "source": [
    "plan_copy = plan.clone()\n",
    "plan_copy(parent_id_ne_=0).gantt_bar_style={'fill': 'white', 'stroke': '#23964d'}\n",
    "plan_copy(parent_id_ne_=0).gantt_text_style={'fill': 'black'}\n",
    "\n",
    "MermaidGantt(plan_copy, height=320)"
   ],
   "metadata": {
    "collapsed": false
   }
  }
 ],
 "metadata": {
  "kernelspec": {
   "display_name": "Python 3 (ipykernel)",
   "language": "python",
   "name": "python3"
  },
  "language_info": {
   "codemirror_mode": {
    "name": "ipython",
    "version": 3
   },
   "file_extension": ".py",
   "mimetype": "text/x-python",
   "name": "python",
   "nbconvert_exporter": "python",
   "pygments_lexer": "ipython3",
   "version": "3.10.6"
  }
 },
 "nbformat": 4,
 "nbformat_minor": 1
}
