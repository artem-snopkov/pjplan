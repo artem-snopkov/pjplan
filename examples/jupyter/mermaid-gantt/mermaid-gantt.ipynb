{
  "cells": [
    {
      "cell_type": "code",
      "source": [
        "# Install pjplan for Google Colab\n",
        "!pip install pjplan"
      ],
      "metadata": {
        "id": "GzOH8BCeEJGK",
        "outputId": "11c405a1-5f98-4999-8389-b69190e11496",
        "colab": {
          "base_uri": "https://localhost:8080/"
        }
      },
      "execution_count": 2,
      "outputs": [
        {
          "output_type": "stream",
          "name": "stdout",
          "text": [
            "Collecting pjplan\n",
            "  Downloading pjplan-0.0.13-py3-none-any.whl.metadata (3.8 kB)\n",
            "Downloading pjplan-0.0.13-py3-none-any.whl (32 kB)\n",
            "Installing collected packages: pjplan\n",
            "Successfully installed pjplan-0.0.13\n"
          ]
        }
      ]
    },
    {
      "cell_type": "code",
      "execution_count": 5,
      "metadata": {
        "ExecuteTime": {
          "start_time": "2023-04-06T09:22:43.059031Z",
          "end_time": "2023-04-06T09:22:43.082815Z"
        },
        "id": "1_oZfbEvEFhF"
      },
      "outputs": [],
      "source": [
        "import sys\n",
        "from datetime import datetime\n",
        "sys.path.append('../../src')\n",
        "from pjplan import Task, ForwardScheduler, WBS, MermaidGantt"
      ]
    },
    {
      "cell_type": "markdown",
      "source": [
        "### Sample project"
      ],
      "metadata": {
        "collapsed": false,
        "id": "wrqb--NTEFhI"
      }
    },
    {
      "cell_type": "code",
      "execution_count": 13,
      "outputs": [
        {
          "output_type": "stream",
          "name": "stdout",
          "text": [
            "\u001b[91m ID \u001b[0m\u001b[91m NAME      \u001b[0m\u001b[91m RESOURCE \u001b[0m\u001b[91m ESTIMATE \u001b[0m\u001b[91m SPENT \u001b[0m\u001b[91m START            \u001b[0m\u001b[91m END              \u001b[0m\u001b[91m PREDECESSORS \u001b[0m\n",
            "\u001b[94m 1  \u001b[0m\u001b[94m Task 1    \u001b[0m\u001b[94m Tester   \u001b[0m\u001b[94m 40       \u001b[0m\u001b[94m 0     \u001b[0m\u001b[94m 29.08.2025 00:00 \u001b[0m\u001b[94m 05.09.2025 00:00 \u001b[0m\u001b[94m []           \u001b[0m\n",
            "\u001b[94m 2  \u001b[0m\u001b[94m Task 2    \u001b[0m\u001b[94m Tester   \u001b[0m\u001b[94m 20       \u001b[0m\u001b[94m 0     \u001b[0m\u001b[94m 05.09.2025 00:00 \u001b[0m\u001b[94m 09.09.2025 12:00 \u001b[0m\u001b[94m [1]          \u001b[0m\n",
            "\u001b[94m 3  \u001b[0m\u001b[94m Task 3    \u001b[0m\u001b[94m -        \u001b[0m\u001b[94m 150      \u001b[0m\u001b[94m 0     \u001b[0m\u001b[94m 09.09.2025 00:00 \u001b[0m\u001b[94m 03.10.2025 18:00 \u001b[0m\u001b[94m []           \u001b[0m\n",
            "\u001b[96m 4  \u001b[0m\u001b[96m    Task 4 \u001b[0m\u001b[96m -        \u001b[0m\u001b[96m 100      \u001b[0m\u001b[96m 0     \u001b[0m\u001b[96m 09.09.2025 00:00 \u001b[0m\u001b[96m 25.09.2025 12:00 \u001b[0m\u001b[96m [2]          \u001b[0m\n",
            "\u001b[96m 5  \u001b[0m\u001b[96m    Task 5 \u001b[0m\u001b[96m -        \u001b[0m\u001b[96m 50       \u001b[0m\u001b[96m 0     \u001b[0m\u001b[96m 25.09.2025 12:00 \u001b[0m\u001b[96m 03.10.2025 18:00 \u001b[0m\u001b[96m [2]          \u001b[0m\n",
            "\u001b[94m 6  \u001b[0m\u001b[94m Task 6    \u001b[0m\u001b[94m -        \u001b[0m\u001b[94m 32       \u001b[0m\u001b[94m 0     \u001b[0m\u001b[94m 03.10.2025 18:00 \u001b[0m\u001b[94m 09.10.2025 18:00 \u001b[0m\u001b[94m []           \u001b[0m\n",
            "\u001b[96m 7  \u001b[0m\u001b[96m    Task 7 \u001b[0m\u001b[96m -        \u001b[0m\u001b[96m 16       \u001b[0m\u001b[96m 0     \u001b[0m\u001b[96m 03.10.2025 18:00 \u001b[0m\u001b[96m 07.10.2025 18:00 \u001b[0m\u001b[96m [5]          \u001b[0m\n",
            "\u001b[96m 8  \u001b[0m\u001b[96m    Task 8 \u001b[0m\u001b[96m -        \u001b[0m\u001b[96m 16       \u001b[0m\u001b[96m 0     \u001b[0m\u001b[96m 07.10.2025 18:00 \u001b[0m\u001b[96m 09.10.2025 18:00 \u001b[0m\u001b[96m [7]          \u001b[0m\n",
            "|\u001b[91m DATE     \u001b[0m|\u001b[91m NONE \u001b[0m|\u001b[91m TESTER \u001b[0m|\n",
            "| 25-08-29 |\u001b[97m 0.0  \u001b[0m|\u001b[92m 8.0    \u001b[0m|\n",
            "| 25-08-30 |\u001b[97m 0.0  \u001b[0m|\u001b[97m 0.0    \u001b[0m|\n",
            "| 25-08-31 |\u001b[97m 0.0  \u001b[0m|\u001b[97m 0.0    \u001b[0m|\n",
            "| 25-09-01 |\u001b[97m 0.0  \u001b[0m|\u001b[92m 8.0    \u001b[0m|\n",
            "| 25-09-02 |\u001b[97m 0.0  \u001b[0m|\u001b[92m 8.0    \u001b[0m|\n",
            "| 25-09-03 |\u001b[97m 0.0  \u001b[0m|\u001b[92m 8.0    \u001b[0m|\n",
            "| 25-09-04 |\u001b[97m 0.0  \u001b[0m|\u001b[92m 8.0    \u001b[0m|\n",
            "| 25-09-05 |\u001b[97m 0.0  \u001b[0m|\u001b[92m 8.0    \u001b[0m|\n",
            "| 25-09-06 |\u001b[97m 0.0  \u001b[0m|\u001b[97m 0.0    \u001b[0m|\n",
            "| 25-09-07 |\u001b[97m 0.0  \u001b[0m|\u001b[97m 0.0    \u001b[0m|\n",
            "| 25-09-08 |\u001b[97m 0.0  \u001b[0m|\u001b[92m 8.0    \u001b[0m|\n",
            "| 25-09-09 |\u001b[92m 8.0  \u001b[0m|\u001b[93m 4.0    \u001b[0m|\n",
            "| 25-09-10 |\u001b[92m 8.0  \u001b[0m|\u001b[97m 0.0    \u001b[0m|\n",
            "| 25-09-11 |\u001b[92m 8.0  \u001b[0m|\u001b[97m 0.0    \u001b[0m|\n",
            "| 25-09-12 |\u001b[92m 8.0  \u001b[0m|\u001b[97m 0.0    \u001b[0m|\n",
            "| 25-09-13 |\u001b[97m 0.0  \u001b[0m|\u001b[97m 0.0    \u001b[0m|\n",
            "| 25-09-14 |\u001b[97m 0.0  \u001b[0m|\u001b[97m 0.0    \u001b[0m|\n",
            "| 25-09-15 |\u001b[92m 8.0  \u001b[0m|\u001b[97m 0.0    \u001b[0m|\n",
            "| 25-09-16 |\u001b[92m 8.0  \u001b[0m|\u001b[97m 0.0    \u001b[0m|\n",
            "| 25-09-17 |\u001b[92m 8.0  \u001b[0m|\u001b[97m 0.0    \u001b[0m|\n",
            "| 25-09-18 |\u001b[92m 8.0  \u001b[0m|\u001b[97m 0.0    \u001b[0m|\n",
            "| 25-09-19 |\u001b[92m 8.0  \u001b[0m|\u001b[97m 0.0    \u001b[0m|\n",
            "| 25-09-20 |\u001b[97m 0.0  \u001b[0m|\u001b[97m 0.0    \u001b[0m|\n",
            "| 25-09-21 |\u001b[97m 0.0  \u001b[0m|\u001b[97m 0.0    \u001b[0m|\n",
            "| 25-09-22 |\u001b[92m 8.0  \u001b[0m|\u001b[97m 0.0    \u001b[0m|\n",
            "| 25-09-23 |\u001b[92m 8.0  \u001b[0m|\u001b[97m 0.0    \u001b[0m|\n",
            "| 25-09-24 |\u001b[92m 8.0  \u001b[0m|\u001b[97m 0.0    \u001b[0m|\n",
            "| 25-09-25 |\u001b[92m 8.0  \u001b[0m|\u001b[97m 0.0    \u001b[0m|\n",
            "| 25-09-26 |\u001b[92m 8.0  \u001b[0m|\u001b[97m 0.0    \u001b[0m|\n",
            "| 25-09-27 |\u001b[97m 0.0  \u001b[0m|\u001b[97m 0.0    \u001b[0m|\n",
            "| 25-09-28 |\u001b[97m 0.0  \u001b[0m|\u001b[97m 0.0    \u001b[0m|\n",
            "| 25-09-29 |\u001b[92m 8.0  \u001b[0m|\u001b[97m 0.0    \u001b[0m|\n",
            "| 25-09-30 |\u001b[92m 8.0  \u001b[0m|\u001b[97m 0.0    \u001b[0m|\n",
            "| 25-10-01 |\u001b[92m 8.0  \u001b[0m|\u001b[97m 0.0    \u001b[0m|\n",
            "| 25-10-02 |\u001b[92m 8.0  \u001b[0m|\u001b[97m 0.0    \u001b[0m|\n",
            "| 25-10-03 |\u001b[92m 8.0  \u001b[0m|\u001b[97m 0.0    \u001b[0m|\n",
            "| 25-10-04 |\u001b[97m 0.0  \u001b[0m|\u001b[97m 0.0    \u001b[0m|\n",
            "| 25-10-05 |\u001b[97m 0.0  \u001b[0m|\u001b[97m 0.0    \u001b[0m|\n",
            "| 25-10-06 |\u001b[92m 8.0  \u001b[0m|\u001b[97m 0.0    \u001b[0m|\n",
            "| 25-10-07 |\u001b[92m 8.0  \u001b[0m|\u001b[97m 0.0    \u001b[0m|\n",
            "| 25-10-08 |\u001b[92m 8.0  \u001b[0m|\u001b[97m 0.0    \u001b[0m|\n",
            "| 25-10-09 |\u001b[93m 6.0  \u001b[0m|\u001b[97m 0.0    \u001b[0m|\n"
          ]
        }
      ],
      "source": [
        "with WBS() as prj:\n",
        "    prj // Task(1, 'Task 1', estimate=40, resource='Tester')\n",
        "    prj // Task(2, 'Task 2', predecessors=[prj[1]], estimate=20, resource='Tester')\n",
        "    with prj // Task(3, 'Task 3') as t:\n",
        "        t // Task(4, 'Task 4', predecessors=[prj[2]], estimate=100)\n",
        "        t // Task(5, 'Task 5', predecessors=[prj[2]], estimate=50)\n",
        "    with prj // Task(6, 'Task 6') as t:\n",
        "        t // Task(7, 'Task 7', predecessors=[prj[5]], estimate=16)\n",
        "        t // Task(8, 'Task 8', predecessors=[prj[7]], estimate=16)\n",
        "\n",
        "schedule = ForwardScheduler(start=datetime.now()).calc(prj)\n",
        "plan = schedule.schedule\n",
        "usage = schedule.resource_usage\n",
        "print(plan)\n",
        "print(usage)"
      ],
      "metadata": {
        "ExecuteTime": {
          "start_time": "2023-04-06T09:22:43.067852Z",
          "end_time": "2023-04-06T09:22:43.114069Z"
        },
        "id": "gm-JORKYEFhJ",
        "outputId": "d4dc0630-9105-498b-b0af-9e8a83018ce9",
        "colab": {
          "base_uri": "https://localhost:8080/"
        }
      }
    },
    {
      "cell_type": "markdown",
      "source": [
        "### Simple Gantt"
      ],
      "metadata": {
        "collapsed": false,
        "id": "7iwyeORiEFhM"
      }
    },
    {
      "cell_type": "code",
      "execution_count": 14,
      "metadata": {
        "ExecuteTime": {
          "start_time": "2023-04-06T09:22:43.082815Z",
          "end_time": "2023-04-06T09:22:43.114069Z"
        },
        "id": "ykk829I1EFhM",
        "outputId": "e3aca195-b8ae-4288-e1eb-47b65a63aa6f",
        "colab": {
          "base_uri": "https://localhost:8080/",
          "height": 341
        }
      },
      "outputs": [
        {
          "output_type": "execute_result",
          "data": {
            "text/plain": [
              "<pjplan.viz.mermaid.gantt.MermaidGantt at 0x7a2815f72330>"
            ],
            "text/html": [
              "<iframe srcdoc=\"&lt;html&gt;\n",
              "&lt;meta charset=&quot;UTF-8&quot;&gt;\n",
              "&lt;body&gt;\n",
              "&lt;style&gt;\n",
              "\n",
              "&lt;/style&gt;\n",
              "\n",
              "&lt;div class=&quot;mermaid&quot;&gt;\n",
              "gantt\n",
              "  dateFormat DD.MM.YYYY HH:mm\n",
              "    Task 1: active, id_1, 29.08.2025 00:00, 05.09.2025 00:00\n",
              "    Task 2:  id_2, 05.09.2025 00:00, 09.09.2025 12:00\n",
              "    Task 3:  id_3, 09.09.2025 00:00, 03.10.2025 18:00\n",
              "    Task 4:  id_4, 09.09.2025 00:00, 25.09.2025 12:00\n",
              "    Task 5:  id_5, 25.09.2025 12:00, 03.10.2025 18:00\n",
              "    Task 6:  id_6, 03.10.2025 18:00, 09.10.2025 18:00\n",
              "    Task 7:  id_7, 03.10.2025 18:00, 07.10.2025 18:00\n",
              "    Task 8:  id_8, 07.10.2025 18:00, 09.10.2025 18:00\n",
              "\n",
              "&lt;/div&gt;\n",
              "\n",
              "&lt;script src=&quot;https://cdn.jsdelivr.net/npm/mermaid/dist/mermaid.min.js&quot;&gt;&lt;/script&gt;\n",
              "&lt;script&gt;\n",
              "    mermaid.ganttConfig = {\n",
              "        mirrorActor: true\n",
              "    }\n",
              "    mermaid.initialize({\n",
              "        startOnLoad: true\n",
              "    });\n",
              "&lt;/script&gt;\n",
              "&lt;/body&gt;\n",
              "&lt;/html&gt;\" width=\"100%\" height=\"320\" style=\"border:none !important;\" allowfullscreen webkitallowfullscreen mozallowfullscreen></iframe>"
            ]
          },
          "metadata": {},
          "execution_count": 14
        }
      ],
      "source": [
        "MermaidGantt(plan, height=320)"
      ]
    },
    {
      "cell_type": "markdown",
      "source": [
        "### Sections and weekends"
      ],
      "metadata": {
        "collapsed": false,
        "id": "IVzdCxW1EFhN"
      }
    },
    {
      "cell_type": "code",
      "execution_count": 15,
      "outputs": [
        {
          "output_type": "execute_result",
          "data": {
            "text/plain": [
              "<pjplan.viz.mermaid.gantt.MermaidGantt at 0x7a2815f70920>"
            ],
            "text/html": [
              "<iframe srcdoc=\"&lt;html&gt;\n",
              "&lt;meta charset=&quot;UTF-8&quot;&gt;\n",
              "&lt;body&gt;\n",
              "&lt;style&gt;\n",
              "\n",
              "&lt;/style&gt;\n",
              "\n",
              "&lt;div class=&quot;mermaid&quot;&gt;\n",
              "gantt\n",
              "  dateFormat DD.MM.YYYY HH:mm\n",
              "  excludes weekends\n",
              "  section Tester\n",
              "    Task 1: active, id_1, 29.08.2025 00:00, 05.09.2025 00:00\n",
              "    Task 2:  id_2, 05.09.2025 00:00, 09.09.2025 12:00\n",
              "  section -\n",
              "    Task 3:  id_3, 09.09.2025 00:00, 03.10.2025 18:00\n",
              "    Task 4:  id_4, 09.09.2025 00:00, 25.09.2025 12:00\n",
              "    Task 5:  id_5, 25.09.2025 12:00, 03.10.2025 18:00\n",
              "    Task 6:  id_6, 03.10.2025 18:00, 09.10.2025 18:00\n",
              "    Task 7:  id_7, 03.10.2025 18:00, 07.10.2025 18:00\n",
              "    Task 8:  id_8, 07.10.2025 18:00, 09.10.2025 18:00\n",
              "\n",
              "&lt;/div&gt;\n",
              "\n",
              "&lt;script src=&quot;https://cdn.jsdelivr.net/npm/mermaid/dist/mermaid.min.js&quot;&gt;&lt;/script&gt;\n",
              "&lt;script&gt;\n",
              "    mermaid.ganttConfig = {\n",
              "        mirrorActor: true\n",
              "    }\n",
              "    mermaid.initialize({\n",
              "        startOnLoad: true\n",
              "    });\n",
              "&lt;/script&gt;\n",
              "&lt;/body&gt;\n",
              "&lt;/html&gt;\" width=\"100%\" height=\"320\" style=\"border:none !important;\" allowfullscreen webkitallowfullscreen mozallowfullscreen></iframe>"
            ]
          },
          "metadata": {},
          "execution_count": 15
        }
      ],
      "source": [
        "plan_copy = plan.clone()\n",
        "plan_copy.tasks(resource='Tester').gantt_section='Tester'\n",
        "\n",
        "MermaidGantt(plan_copy, height=320, weekends=True)"
      ],
      "metadata": {
        "ExecuteTime": {
          "start_time": "2023-04-06T09:22:43.098441Z",
          "end_time": "2023-04-06T09:22:43.114069Z"
        },
        "id": "oqVhyUndEFhN",
        "outputId": "2be38c19-2d60-44b5-d1a3-d9a1dfd9c1b0",
        "colab": {
          "base_uri": "https://localhost:8080/",
          "height": 341
        }
      }
    },
    {
      "cell_type": "markdown",
      "source": [
        "### Custom bar styles"
      ],
      "metadata": {
        "collapsed": false,
        "id": "aSSbmt53EFhO"
      }
    },
    {
      "cell_type": "code",
      "execution_count": 16,
      "outputs": [
        {
          "output_type": "execute_result",
          "data": {
            "text/plain": [
              "<pjplan.viz.mermaid.gantt.MermaidGantt at 0x7a2815f72e70>"
            ],
            "text/html": [
              "<iframe srcdoc=\"&lt;html&gt;\n",
              "&lt;meta charset=&quot;UTF-8&quot;&gt;\n",
              "&lt;body&gt;\n",
              "&lt;style&gt;\n",
              "#id_4, #id_5, #id_7, #id_8{fill:white!important;stroke:#23964d!important;}\n",
              "#id_4-text, #id_5-text, #id_7-text, #id_8-text{fill:black!important;}\n",
              "\n",
              "&lt;/style&gt;\n",
              "\n",
              "&lt;div class=&quot;mermaid&quot;&gt;\n",
              "gantt\n",
              "  dateFormat DD.MM.YYYY HH:mm\n",
              "    Task 1: active, id_1, 29.08.2025 00:00, 05.09.2025 00:00\n",
              "    Task 2:  id_2, 05.09.2025 00:00, 09.09.2025 12:00\n",
              "    Task 3:  id_3, 09.09.2025 00:00, 03.10.2025 18:00\n",
              "    Task 4:  id_4, 09.09.2025 00:00, 25.09.2025 12:00\n",
              "    Task 5:  id_5, 25.09.2025 12:00, 03.10.2025 18:00\n",
              "    Task 6:  id_6, 03.10.2025 18:00, 09.10.2025 18:00\n",
              "    Task 7:  id_7, 03.10.2025 18:00, 07.10.2025 18:00\n",
              "    Task 8:  id_8, 07.10.2025 18:00, 09.10.2025 18:00\n",
              "\n",
              "&lt;/div&gt;\n",
              "\n",
              "&lt;script src=&quot;https://cdn.jsdelivr.net/npm/mermaid/dist/mermaid.min.js&quot;&gt;&lt;/script&gt;\n",
              "&lt;script&gt;\n",
              "    mermaid.ganttConfig = {\n",
              "        mirrorActor: true\n",
              "    }\n",
              "    mermaid.initialize({\n",
              "        startOnLoad: true\n",
              "    });\n",
              "&lt;/script&gt;\n",
              "&lt;/body&gt;\n",
              "&lt;/html&gt;\" width=\"100%\" height=\"320\" style=\"border:none !important;\" allowfullscreen webkitallowfullscreen mozallowfullscreen></iframe>"
            ]
          },
          "metadata": {},
          "execution_count": 16
        }
      ],
      "source": [
        "plan_copy = plan.clone()\n",
        "plan_copy.tasks(parent_id_ne_=0).gantt_bar_style={'fill': 'white', 'stroke': '#23964d'}\n",
        "plan_copy.tasks(parent_id_ne_=0).gantt_text_style={'fill': 'black'}\n",
        "\n",
        "MermaidGantt(plan_copy, height=320)"
      ],
      "metadata": {
        "ExecuteTime": {
          "start_time": "2023-04-06T09:22:43.114069Z",
          "end_time": "2023-04-06T09:22:43.129691Z"
        },
        "id": "t-vk3TWWEFhP",
        "outputId": "f7b75374-8552-48c4-95a5-ec14736aaff4",
        "colab": {
          "base_uri": "https://localhost:8080/",
          "height": 341
        }
      }
    },
    {
      "cell_type": "markdown",
      "source": [
        "### Tick intervals"
      ],
      "metadata": {
        "collapsed": false,
        "id": "J4HJZKTqEFhP"
      }
    },
    {
      "cell_type": "code",
      "execution_count": 17,
      "outputs": [
        {
          "output_type": "execute_result",
          "data": {
            "text/plain": [
              "<pjplan.viz.mermaid.gantt.MermaidGantt at 0x7a2815f708f0>"
            ],
            "text/html": [
              "<iframe srcdoc=\"&lt;html&gt;\n",
              "&lt;meta charset=&quot;UTF-8&quot;&gt;\n",
              "&lt;body&gt;\n",
              "&lt;style&gt;\n",
              "\n",
              "&lt;/style&gt;\n",
              "\n",
              "&lt;div class=&quot;mermaid&quot;&gt;\n",
              "gantt\n",
              "  dateFormat DD.MM.YYYY HH:mm\n",
              "  tickInterval 1day\n",
              "    Task 1: active, id_1, 29.08.2025 00:00, 05.09.2025 00:00\n",
              "    Task 2:  id_2, 05.09.2025 00:00, 09.09.2025 12:00\n",
              "    Task 3:  id_3, 09.09.2025 00:00, 03.10.2025 18:00\n",
              "    Task 4:  id_4, 09.09.2025 00:00, 25.09.2025 12:00\n",
              "    Task 5:  id_5, 25.09.2025 12:00, 03.10.2025 18:00\n",
              "    Task 6:  id_6, 03.10.2025 18:00, 09.10.2025 18:00\n",
              "    Task 7:  id_7, 03.10.2025 18:00, 07.10.2025 18:00\n",
              "    Task 8:  id_8, 07.10.2025 18:00, 09.10.2025 18:00\n",
              "\n",
              "&lt;/div&gt;\n",
              "\n",
              "&lt;script src=&quot;https://cdn.jsdelivr.net/npm/mermaid/dist/mermaid.min.js&quot;&gt;&lt;/script&gt;\n",
              "&lt;script&gt;\n",
              "    mermaid.ganttConfig = {\n",
              "        mirrorActor: true\n",
              "    }\n",
              "    mermaid.initialize({\n",
              "        startOnLoad: true\n",
              "    });\n",
              "&lt;/script&gt;\n",
              "&lt;/body&gt;\n",
              "&lt;/html&gt;\" width=\"100%\" height=\"300\" style=\"border:none !important;\" allowfullscreen webkitallowfullscreen mozallowfullscreen></iframe>"
            ]
          },
          "metadata": {},
          "execution_count": 17
        }
      ],
      "source": [
        "plan_copy = plan.clone()\n",
        "MermaidGantt(plan_copy, tick_interval='1day')"
      ],
      "metadata": {
        "ExecuteTime": {
          "start_time": "2023-04-06T09:22:43.129691Z",
          "end_time": "2023-04-06T09:22:43.162600Z"
        },
        "id": "K5lgKiRwEFhQ",
        "outputId": "0afbaa7b-5588-4e80-cd02-826ddff0c912",
        "colab": {
          "base_uri": "https://localhost:8080/",
          "height": 321
        }
      }
    }
  ],
  "metadata": {
    "kernelspec": {
      "display_name": "Python 3 (ipykernel)",
      "language": "python",
      "name": "python3"
    },
    "language_info": {
      "codemirror_mode": {
        "name": "ipython",
        "version": 3
      },
      "file_extension": ".py",
      "mimetype": "text/x-python",
      "name": "python",
      "nbconvert_exporter": "python",
      "pygments_lexer": "ipython3",
      "version": "3.10.6"
    },
    "colab": {
      "provenance": []
    }
  },
  "nbformat": 4,
  "nbformat_minor": 0
}