{
 "cells": [
  {
   "cell_type": "code",
   "execution_count": 1,
   "metadata": {
    "ExecuteTime": {
     "start_time": "2023-04-03T20:30:27.310796Z",
     "end_time": "2023-04-03T20:30:27.620747Z"
    }
   },
   "outputs": [],
   "source": [
    "import sys\n",
    "from datetime import datetime\n",
    "sys.path.append('../../src')\n",
    "from pjplan import Task, DefaultScheduler, WBS, MermaidGantt"
   ]
  },
  {
   "cell_type": "markdown",
   "source": [
    "### Sample project"
   ],
   "metadata": {
    "collapsed": false
   }
  },
  {
   "cell_type": "code",
   "execution_count": 2,
   "outputs": [
    {
     "data": {
      "text/plain": "\u001B[92mID   NAME       RESOURCE   ESTIMATE   SPENT   START             END               PREDECESSORS \u001B[0m\n\u001B[94m1    Task 1     Tester     40         0       03.04.2023 00:00  08.04.2023 00:00  []           \u001B[0m\n\u001B[94m2    Task 2     Tester     20         0       10.04.2023 00:00  12.04.2023 12:00  [1]          \u001B[0m\n\u001B[94m3    Task 3     -          150        0       12.04.2023 12:00  09.05.2023 06:00  []           \u001B[0m\n\u001B[96m4       Task 4  -          100        0       12.04.2023 12:00  29.04.2023 00:00  [2]          \u001B[0m\n\u001B[96m5       Task 5  -          50         0       01.05.2023 00:00  09.05.2023 06:00  [2]          \u001B[0m\n\u001B[94m6    Task 6     -          32         0       09.05.2023 06:00  15.05.2023 06:00  []           \u001B[0m\n\u001B[96m7       Task 7  -          16         0       09.05.2023 06:00  11.05.2023 06:00  [5]          \u001B[0m\n\u001B[96m8       Task 8  -          16         0       11.05.2023 06:00  15.05.2023 06:00  [7]          \u001B[0m"
     },
     "execution_count": 2,
     "metadata": {},
     "output_type": "execute_result"
    }
   ],
   "source": [
    "with WBS() as prj:\n",
    "    prj // Task(1, 'Task 1', estimate=40, resource='Tester')\n",
    "    prj // Task(2, 'Task 2', predecessors=[prj(1)], estimate=20, resource='Tester')\n",
    "    with prj // Task(3, 'Task 3') as t:\n",
    "        t // Task(4, 'Task 4', predecessors=[prj(2)], estimate=100)\n",
    "        t // Task(5, 'Task 5', predecessors=[prj(2)], estimate=50)\n",
    "    with prj // Task(6, 'Task 6') as t:\n",
    "        t // Task(7, 'Task 7', predecessors=[prj(5)], estimate=16)\n",
    "        t // Task(8, 'Task 8', predecessors=[prj(7)], estimate=16)\n",
    "\n",
    "plan, usage = DefaultScheduler(datetime.now()).calc(prj)\n",
    "plan"
   ],
   "metadata": {
    "collapsed": false,
    "ExecuteTime": {
     "start_time": "2023-04-03T20:30:27.620747Z",
     "end_time": "2023-04-03T20:30:27.636121Z"
    }
   }
  },
  {
   "cell_type": "markdown",
   "source": [
    "### Simple Gantt"
   ],
   "metadata": {
    "collapsed": false
   }
  },
  {
   "cell_type": "code",
   "execution_count": 3,
   "metadata": {
    "ExecuteTime": {
     "start_time": "2023-04-03T20:30:27.637626Z",
     "end_time": "2023-04-03T20:30:27.681058Z"
    }
   },
   "outputs": [
    {
     "data": {
      "text/plain": "<pjplan.viz.mermaid.gantt.MermaidGantt at 0x1409d4d3d90>",
      "text/html": "<iframe srcdoc=\"&lt;html&gt;\n&lt;meta charset=&quot;UTF-8&quot;&gt;\n&lt;body&gt;\n&lt;style&gt;\n\n&lt;/style&gt;\n\n&lt;div class=&quot;mermaid&quot;&gt;\ngantt\n  dateFormat DD.MM.YYYY\n    Task 1: active, id_1, 03.04.2023, 08.04.2023\n    Task 2:  id_2, 10.04.2023, 12.04.2023\n    Task 3:  id_3, 12.04.2023, 09.05.2023\n    Task 4:  id_4, 12.04.2023, 29.04.2023\n    Task 5:  id_5, 01.05.2023, 09.05.2023\n    Task 6:  id_6, 09.05.2023, 15.05.2023\n    Task 7:  id_7, 09.05.2023, 11.05.2023\n    Task 8:  id_8, 11.05.2023, 15.05.2023\n\n&lt;/div&gt;\n\n&lt;script src=&quot;https://cdn.jsdelivr.net/npm/mermaid/dist/mermaid.min.js&quot;&gt;&lt;/script&gt;\n&lt;script&gt;\n    mermaid.ganttConfig = {\n        mirrorActor: true\n    }\n    mermaid.initialize({\n        startOnLoad: true\n    });\n&lt;/script&gt;\n&lt;/body&gt;\n&lt;/html&gt;\" width=\"100%\" height=\"320\" style=\"border:none !important;\" allowfullscreen webkitallowfullscreen mozallowfullscreen></iframe>"
     },
     "execution_count": 3,
     "metadata": {},
     "output_type": "execute_result"
    }
   ],
   "source": [
    "MermaidGantt(plan, height=320)"
   ]
  },
  {
   "cell_type": "markdown",
   "source": [
    "### Sections and weekends"
   ],
   "metadata": {
    "collapsed": false
   }
  },
  {
   "cell_type": "code",
   "execution_count": 4,
   "outputs": [
    {
     "data": {
      "text/plain": "<pjplan.viz.mermaid.gantt.MermaidGantt at 0x1409d4d1f60>",
      "text/html": "<iframe srcdoc=\"&lt;html&gt;\n&lt;meta charset=&quot;UTF-8&quot;&gt;\n&lt;body&gt;\n&lt;style&gt;\n\n&lt;/style&gt;\n\n&lt;div class=&quot;mermaid&quot;&gt;\ngantt\n  dateFormat DD.MM.YYYY\n  excludes weekends\n  section Tester\n    Task 1: active, id_1, 03.04.2023, 08.04.2023\n    Task 2:  id_2, 10.04.2023, 12.04.2023\n  section -\n    Task 3:  id_3, 12.04.2023, 09.05.2023\n    Task 4:  id_4, 12.04.2023, 29.04.2023\n    Task 5:  id_5, 01.05.2023, 09.05.2023\n    Task 6:  id_6, 09.05.2023, 15.05.2023\n    Task 7:  id_7, 09.05.2023, 11.05.2023\n    Task 8:  id_8, 11.05.2023, 15.05.2023\n\n&lt;/div&gt;\n\n&lt;script src=&quot;https://cdn.jsdelivr.net/npm/mermaid/dist/mermaid.min.js&quot;&gt;&lt;/script&gt;\n&lt;script&gt;\n    mermaid.ganttConfig = {\n        mirrorActor: true\n    }\n    mermaid.initialize({\n        startOnLoad: true\n    });\n&lt;/script&gt;\n&lt;/body&gt;\n&lt;/html&gt;\" width=\"100%\" height=\"320\" style=\"border:none !important;\" allowfullscreen webkitallowfullscreen mozallowfullscreen></iframe>"
     },
     "execution_count": 4,
     "metadata": {},
     "output_type": "execute_result"
    }
   ],
   "source": [
    "plan_copy = plan.clone()\n",
    "plan_copy(resource='Tester').gantt_section='Tester'\n",
    "\n",
    "MermaidGantt(plan_copy, height=320, weekends=True)"
   ],
   "metadata": {
    "collapsed": false,
    "ExecuteTime": {
     "start_time": "2023-04-03T20:30:27.653692Z",
     "end_time": "2023-04-03T20:30:27.687978Z"
    }
   }
  },
  {
   "cell_type": "markdown",
   "source": [
    "### Custom bar styles"
   ],
   "metadata": {
    "collapsed": false
   }
  },
  {
   "cell_type": "code",
   "execution_count": 5,
   "outputs": [
    {
     "data": {
      "text/plain": "<pjplan.viz.mermaid.gantt.MermaidGantt at 0x140cda7ce50>",
      "text/html": "<iframe srcdoc=\"&lt;html&gt;\n&lt;meta charset=&quot;UTF-8&quot;&gt;\n&lt;body&gt;\n&lt;style&gt;\n#id_1, #id_2, #id_3, #id_4, #id_5, #id_6, #id_7, #id_8{fill:white!important;stroke:#23964d!important;}\n#id_1-text, #id_2-text, #id_3-text, #id_4-text, #id_5-text, #id_6-text, #id_7-text, #id_8-text{fill:black!important;}\n\n&lt;/style&gt;\n\n&lt;div class=&quot;mermaid&quot;&gt;\ngantt\n  dateFormat DD.MM.YYYY\n    Task 1: active, id_1, 03.04.2023, 08.04.2023\n    Task 2:  id_2, 10.04.2023, 12.04.2023\n    Task 3:  id_3, 12.04.2023, 09.05.2023\n    Task 4:  id_4, 12.04.2023, 29.04.2023\n    Task 5:  id_5, 01.05.2023, 09.05.2023\n    Task 6:  id_6, 09.05.2023, 15.05.2023\n    Task 7:  id_7, 09.05.2023, 11.05.2023\n    Task 8:  id_8, 11.05.2023, 15.05.2023\n\n&lt;/div&gt;\n\n&lt;script src=&quot;https://cdn.jsdelivr.net/npm/mermaid/dist/mermaid.min.js&quot;&gt;&lt;/script&gt;\n&lt;script&gt;\n    mermaid.ganttConfig = {\n        mirrorActor: true\n    }\n    mermaid.initialize({\n        startOnLoad: true\n    });\n&lt;/script&gt;\n&lt;/body&gt;\n&lt;/html&gt;\" width=\"100%\" height=\"320\" style=\"border:none !important;\" allowfullscreen webkitallowfullscreen mozallowfullscreen></iframe>"
     },
     "execution_count": 5,
     "metadata": {},
     "output_type": "execute_result"
    }
   ],
   "source": [
    "plan_copy = plan.clone()\n",
    "plan_copy(parent_id_ne_=0).gantt_bar_style={'fill': 'white', 'stroke': '#23964d'}\n",
    "plan_copy(parent_id_ne_=0).gantt_text_style={'fill': 'black'}\n",
    "\n",
    "MermaidGantt(plan_copy, height=320)"
   ],
   "metadata": {
    "collapsed": false,
    "ExecuteTime": {
     "start_time": "2023-04-03T20:30:27.668410Z",
     "end_time": "2023-04-03T20:30:27.687978Z"
    }
   }
  },
  {
   "cell_type": "markdown",
   "source": [
    "### Tick intervals"
   ],
   "metadata": {
    "collapsed": false
   }
  },
  {
   "cell_type": "code",
   "execution_count": 6,
   "outputs": [
    {
     "data": {
      "text/plain": "<pjplan.viz.mermaid.gantt.MermaidGantt at 0x140cda7ead0>",
      "text/html": "<iframe srcdoc=\"&lt;html&gt;\n&lt;meta charset=&quot;UTF-8&quot;&gt;\n&lt;body&gt;\n&lt;style&gt;\n\n&lt;/style&gt;\n\n&lt;div class=&quot;mermaid&quot;&gt;\ngantt\n  dateFormat DD.MM.YYYY\n  tickInterval 1day\n    Task 1: active, id_1, 03.04.2023, 08.04.2023\n    Task 2:  id_2, 10.04.2023, 12.04.2023\n    Task 3:  id_3, 12.04.2023, 09.05.2023\n    Task 4:  id_4, 12.04.2023, 29.04.2023\n    Task 5:  id_5, 01.05.2023, 09.05.2023\n    Task 6:  id_6, 09.05.2023, 15.05.2023\n    Task 7:  id_7, 09.05.2023, 11.05.2023\n    Task 8:  id_8, 11.05.2023, 15.05.2023\n\n&lt;/div&gt;\n\n&lt;script src=&quot;https://cdn.jsdelivr.net/npm/mermaid/dist/mermaid.min.js&quot;&gt;&lt;/script&gt;\n&lt;script&gt;\n    mermaid.ganttConfig = {\n        mirrorActor: true\n    }\n    mermaid.initialize({\n        startOnLoad: true\n    });\n&lt;/script&gt;\n&lt;/body&gt;\n&lt;/html&gt;\" width=\"100%\" height=\"300\" style=\"border:none !important;\" allowfullscreen webkitallowfullscreen mozallowfullscreen></iframe>"
     },
     "execution_count": 6,
     "metadata": {},
     "output_type": "execute_result"
    }
   ],
   "source": [
    "plan_copy = plan.clone()\n",
    "MermaidGantt(plan_copy, tick_interval='1day')"
   ],
   "metadata": {
    "collapsed": false,
    "ExecuteTime": {
     "start_time": "2023-04-03T20:30:27.683978Z",
     "end_time": "2023-04-03T20:30:27.697997Z"
    }
   }
  }
 ],
 "metadata": {
  "kernelspec": {
   "display_name": "Python 3 (ipykernel)",
   "language": "python",
   "name": "python3"
  },
  "language_info": {
   "codemirror_mode": {
    "name": "ipython",
    "version": 3
   },
   "file_extension": ".py",
   "mimetype": "text/x-python",
   "name": "python",
   "nbconvert_exporter": "python",
   "pygments_lexer": "ipython3",
   "version": "3.10.6"
  }
 },
 "nbformat": 4,
 "nbformat_minor": 1
}
