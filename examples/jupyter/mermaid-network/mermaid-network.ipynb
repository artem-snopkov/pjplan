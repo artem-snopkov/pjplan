{
 "cells": [
  {
   "cell_type": "code",
   "execution_count": 28,
   "metadata": {
    "collapsed": true
   },
   "outputs": [],
   "source": [
    "import sys\n",
    "sys.path.append('../../src')\n",
    "from pjplan import Task, WBS, MermaidNetwork, task_sheet"
   ]
  },
  {
   "cell_type": "code",
   "execution_count": 29,
   "outputs": [],
   "source": [
    "with WBS('Test project') as prj:\n",
    "    prj // Task(1, 'Task 1', resource='Tester')\n",
    "    prj // Task(2, 'Task 2', predecessors=[prj(1)], estimate=20, resource='Tester')\n",
    "    prj // Task(3, 'Task 3', predecessors=[prj(1)], estimate=20)\n",
    "    prj // Task(4, 'Task 4', predecessors=[prj(3)], estimate=20)"
   ],
   "metadata": {
    "collapsed": false
   }
  },
  {
   "cell_type": "markdown",
   "source": [
    "### Sample project"
   ],
   "metadata": {
    "collapsed": false
   }
  },
  {
   "cell_type": "code",
   "execution_count": 30,
   "outputs": [
    {
     "name": "stdout",
     "output_type": "stream",
     "text": [
      "\u001B[92mID     NAME    PREDECESSORS \u001B[0m\n",
      "\u001B[94m     1 Task 1  []           \u001B[0m\n",
      "\u001B[94m     2 Task 2  [1]          \u001B[0m\n",
      "\u001B[94m     3 Task 3  [1]          \u001B[0m\n",
      "\u001B[94m     4 Task 4  [3]          \u001B[0m\n"
     ]
    }
   ],
   "source": [
    "task_sheet(prj, fields=['predecessors'])"
   ],
   "metadata": {
    "collapsed": false
   }
  },
  {
   "cell_type": "markdown",
   "source": [
    "### Simple diagram"
   ],
   "metadata": {
    "collapsed": false
   }
  },
  {
   "cell_type": "code",
   "execution_count": 31,
   "outputs": [
    {
     "data": {
      "text/plain": "<pjplan.viz.mermaid.network.MermaidNetwork at 0x1203f6aa260>",
      "text/html": "<iframe srcdoc=\"&lt;html&gt;\n&lt;meta charset=&quot;UTF-8&quot;&gt;\n&lt;body&gt;\n&lt;div class=&quot;mermaid&quot;&gt;\nflowchart LR\n  0((Start)) --&gt; 1{{Task 1}}\n  1{{Task 1}} --&gt; 2{{Task 2}}\n  1{{Task 1}} --&gt; 3{{Task 3}}\n  3{{Task 3}} --&gt; 4{{Task 4}}\n\n&lt;/div&gt;\n\n&lt;script src=&quot;https://cdn.jsdelivr.net/npm/mermaid/dist/mermaid.min.js&quot;&gt;&lt;/script&gt;\n&lt;script&gt;\n    mermaid.ganttConfig = {\n        mirrorActor: true\n    }\n    mermaid.initialize({\n        startOnLoad: true\n    });\n&lt;/script&gt;\n&lt;/body&gt;\n&lt;/html&gt;\" width=\"100%\" height=\"160\" style=\"border:none !important;\" allowfullscreen webkitallowfullscreen mozallowfullscreen></iframe>"
     },
     "execution_count": 31,
     "metadata": {},
     "output_type": "execute_result"
    }
   ],
   "source": [
    "MermaidNetwork(prj, height=160)"
   ],
   "metadata": {
    "collapsed": false
   }
  },
  {
   "cell_type": "markdown",
   "source": [
    "### Custom bar styles"
   ],
   "metadata": {
    "collapsed": false
   }
  },
  {
   "cell_type": "code",
   "execution_count": 32,
   "outputs": [
    {
     "data": {
      "text/plain": "<pjplan.viz.mermaid.network.MermaidNetwork at 0x1203f6a9db0>",
      "text/html": "<iframe srcdoc=\"&lt;html&gt;\n&lt;meta charset=&quot;UTF-8&quot;&gt;\n&lt;body&gt;\n&lt;div class=&quot;mermaid&quot;&gt;\nflowchart LR\n  0((Start)) --&gt; 1{{Task 1}}\n  1{{Task 1}} --&gt; 2{{Task 2}}\n  1{{Task 1}} --&gt; 3{{Task 3}}\n  3{{Task 3}} --&gt; 4{{Task 4}}\nstyle 1 fill:#A1FB8E,stroke:#333,stroke-width:4px\nstyle 2 fill:#A1FB8E,stroke:#333,stroke-width:4px\n\n&lt;/div&gt;\n\n&lt;script src=&quot;https://cdn.jsdelivr.net/npm/mermaid/dist/mermaid.min.js&quot;&gt;&lt;/script&gt;\n&lt;script&gt;\n    mermaid.ganttConfig = {\n        mirrorActor: true\n    }\n    mermaid.initialize({\n        startOnLoad: true\n    });\n&lt;/script&gt;\n&lt;/body&gt;\n&lt;/html&gt;\" width=\"100%\" height=\"160\" style=\"border:none !important;\" allowfullscreen webkitallowfullscreen mozallowfullscreen></iframe>"
     },
     "execution_count": 32,
     "metadata": {},
     "output_type": "execute_result"
    }
   ],
   "source": [
    "# Change bar style for tasks with resource='Tester'\n",
    "prj(resource='Tester').network_bar_style={\n",
    "    'fill':'#A1FB8E',\n",
    "    'stroke':'#333',\n",
    "    'stroke-width':'4px'\n",
    "}\n",
    "MermaidNetwork(prj, height=160)"
   ],
   "metadata": {
    "collapsed": false
   }
  }
 ],
 "metadata": {
  "kernelspec": {
   "display_name": "Python 3",
   "language": "python",
   "name": "python3"
  },
  "language_info": {
   "codemirror_mode": {
    "name": "ipython",
    "version": 2
   },
   "file_extension": ".py",
   "mimetype": "text/x-python",
   "name": "python",
   "nbconvert_exporter": "python",
   "pygments_lexer": "ipython2",
   "version": "2.7.6"
  }
 },
 "nbformat": 4,
 "nbformat_minor": 0
}
