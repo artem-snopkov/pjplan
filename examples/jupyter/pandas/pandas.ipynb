{
 "cells": [
  {
   "cell_type": "code",
   "execution_count": 2,
   "metadata": {
    "collapsed": true,
    "ExecuteTime": {
     "start_time": "2023-04-02T19:35:41.837827Z",
     "end_time": "2023-04-02T19:35:42.197333Z"
    }
   },
   "outputs": [],
   "source": [
    "import sys\n",
    "\n",
    "import pandas as pd\n",
    "\n",
    "sys.path.append('../../src')\n",
    "from pjplan import Task, WBS"
   ]
  },
  {
   "cell_type": "code",
   "execution_count": 3,
   "outputs": [],
   "source": [
    "with WBS() as prj:\n",
    "    prj // Task(1, 'Task 1', estimate=40, resource='Tester')\n",
    "    prj // Task(2, 'Task 2', predecessors=[prj(1)], estimate=20, resource='Tester')\n",
    "    with prj // Task(3, 'Task 3') as t:\n",
    "        t // Task(4, 'Task 4', predecessors=[prj(2)], estimate=100)\n",
    "        t // Task(5, 'Task 5', predecessors=[prj(2)], estimate=50)\n",
    "    with prj // Task(6, 'Task 6') as t:\n",
    "        t // Task(7, 'Task 7', predecessors=[prj(5)], estimate=16)\n",
    "        t // Task(8, 'Task 9', predecessors=[prj(7)], estimate=16)"
   ],
   "metadata": {
    "collapsed": false,
    "ExecuteTime": {
     "start_time": "2023-04-02T19:35:42.181503Z",
     "end_time": "2023-04-02T19:35:42.201420Z"
    }
   }
  },
  {
   "cell_type": "code",
   "execution_count": 5,
   "outputs": [
    {
     "data": {
      "text/plain": "                                                   0\n0  {'id': 1, 'name': 'Task 1', 'resource': 'Teste...\n1  {'id': 2, 'name': 'Task 2', 'resource': 'Teste...\n2  {'id': 3, 'name': 'Task 3', 'resource': None, ...\n3  {'id': 4, 'name': 'Task 4', 'resource': None, ...\n4  {'id': 5, 'name': 'Task 5', 'resource': None, ...\n5  {'id': 6, 'name': 'Task 6', 'resource': None, ...\n6  {'id': 7, 'name': 'Task 7', 'resource': None, ...\n7  {'id': 8, 'name': 'Task 9', 'resource': None, ...",
      "text/html": "<div>\n<style scoped>\n    .dataframe tbody tr th:only-of-type {\n        vertical-align: middle;\n    }\n\n    .dataframe tbody tr th {\n        vertical-align: top;\n    }\n\n    .dataframe thead th {\n        text-align: right;\n    }\n</style>\n<table border=\"1\" class=\"dataframe\">\n  <thead>\n    <tr style=\"text-align: right;\">\n      <th></th>\n      <th>0</th>\n    </tr>\n  </thead>\n  <tbody>\n    <tr>\n      <th>0</th>\n      <td>{'id': 1, 'name': 'Task 1', 'resource': 'Teste...</td>\n    </tr>\n    <tr>\n      <th>1</th>\n      <td>{'id': 2, 'name': 'Task 2', 'resource': 'Teste...</td>\n    </tr>\n    <tr>\n      <th>2</th>\n      <td>{'id': 3, 'name': 'Task 3', 'resource': None, ...</td>\n    </tr>\n    <tr>\n      <th>3</th>\n      <td>{'id': 4, 'name': 'Task 4', 'resource': None, ...</td>\n    </tr>\n    <tr>\n      <th>4</th>\n      <td>{'id': 5, 'name': 'Task 5', 'resource': None, ...</td>\n    </tr>\n    <tr>\n      <th>5</th>\n      <td>{'id': 6, 'name': 'Task 6', 'resource': None, ...</td>\n    </tr>\n    <tr>\n      <th>6</th>\n      <td>{'id': 7, 'name': 'Task 7', 'resource': None, ...</td>\n    </tr>\n    <tr>\n      <th>7</th>\n      <td>{'id': 8, 'name': 'Task 9', 'resource': None, ...</td>\n    </tr>\n  </tbody>\n</table>\n</div>"
     },
     "execution_count": 5,
     "metadata": {},
     "output_type": "execute_result"
    }
   ],
   "source": [
    "# Convert wbs to pandas dataframe\n",
    "df = pd.DataFrame([t for t in prj])\n",
    "df"
   ],
   "metadata": {
    "collapsed": false,
    "ExecuteTime": {
     "start_time": "2023-04-02T19:37:49.980382Z",
     "end_time": "2023-04-02T19:37:50.004818Z"
    }
   }
  }
 ],
 "metadata": {
  "kernelspec": {
   "display_name": "Python 3",
   "language": "python",
   "name": "python3"
  },
  "language_info": {
   "codemirror_mode": {
    "name": "ipython",
    "version": 2
   },
   "file_extension": ".py",
   "mimetype": "text/x-python",
   "name": "python",
   "nbconvert_exporter": "python",
   "pygments_lexer": "ipython2",
   "version": "2.7.6"
  }
 },
 "nbformat": 4,
 "nbformat_minor": 0
}
