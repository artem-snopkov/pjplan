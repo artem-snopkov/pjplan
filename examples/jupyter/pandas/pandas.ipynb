{
 "cells": [
  {
   "cell_type": "code",
   "execution_count": 1,
   "metadata": {
    "collapsed": true,
    "ExecuteTime": {
     "start_time": "2023-04-06T21:48:44.578005Z",
     "end_time": "2023-04-06T21:48:44.918903Z"
    }
   },
   "outputs": [],
   "source": [
    "import sys\n",
    "\n",
    "import pandas as pd\n",
    "\n",
    "sys.path.append('../../src')\n",
    "from pjplan import Task, WBS, DefaultScheduler, Resource"
   ]
  },
  {
   "cell_type": "code",
   "execution_count": 2,
   "outputs": [],
   "source": [
    "with WBS() as prj:\n",
    "    prj // Task(1, 'Task 1', estimate=40, resource='Tester', attr=1)\n",
    "    prj // Task(2, 'Task 2', predecessors=[prj[1]], estimate=20, resource='Tester')\n",
    "    with prj // Task(3, 'Task 3') as t:\n",
    "        t // Task(4, 'Task 4', predecessors=[prj[2]], estimate=100, resource='Developer')\n",
    "        t // Task(5, 'Task 5', predecessors=[prj[2]], estimate=50, resource='Developer')\n",
    "    with prj // Task(6, 'Task 6') as t:\n",
    "        t // Task(7, 'Task 7', predecessors=[prj[5]], estimate=16, resource='Developer')\n",
    "        t // Task(8, 'Task 9', predecessors=[prj[7]], estimate=16, resource='Developer')"
   ],
   "metadata": {
    "collapsed": false,
    "ExecuteTime": {
     "start_time": "2023-04-06T21:48:44.921912Z",
     "end_time": "2023-04-06T21:48:44.933910Z"
    }
   }
  },
  {
   "cell_type": "code",
   "execution_count": 3,
   "outputs": [
    {
     "data": {
      "text/plain": "   id    name   resource start   end  milestone  estimate spent  attr\n0   1  Task 1     Tester  None  None      False      40.0  None   1.0\n1   2  Task 2     Tester  None  None      False      20.0  None   NaN\n2   3  Task 3       None  None  None      False       NaN  None   NaN\n3   4  Task 4  Developer  None  None      False     100.0  None   NaN\n4   5  Task 5  Developer  None  None      False      50.0  None   NaN\n5   6  Task 6       None  None  None      False       NaN  None   NaN\n6   7  Task 7  Developer  None  None      False      16.0  None   NaN\n7   8  Task 9  Developer  None  None      False      16.0  None   NaN",
      "text/html": "<div>\n<style scoped>\n    .dataframe tbody tr th:only-of-type {\n        vertical-align: middle;\n    }\n\n    .dataframe tbody tr th {\n        vertical-align: top;\n    }\n\n    .dataframe thead th {\n        text-align: right;\n    }\n</style>\n<table border=\"1\" class=\"dataframe\">\n  <thead>\n    <tr style=\"text-align: right;\">\n      <th></th>\n      <th>id</th>\n      <th>name</th>\n      <th>resource</th>\n      <th>start</th>\n      <th>end</th>\n      <th>milestone</th>\n      <th>estimate</th>\n      <th>spent</th>\n      <th>attr</th>\n    </tr>\n  </thead>\n  <tbody>\n    <tr>\n      <th>0</th>\n      <td>1</td>\n      <td>Task 1</td>\n      <td>Tester</td>\n      <td>None</td>\n      <td>None</td>\n      <td>False</td>\n      <td>40.0</td>\n      <td>None</td>\n      <td>1.0</td>\n    </tr>\n    <tr>\n      <th>1</th>\n      <td>2</td>\n      <td>Task 2</td>\n      <td>Tester</td>\n      <td>None</td>\n      <td>None</td>\n      <td>False</td>\n      <td>20.0</td>\n      <td>None</td>\n      <td>NaN</td>\n    </tr>\n    <tr>\n      <th>2</th>\n      <td>3</td>\n      <td>Task 3</td>\n      <td>None</td>\n      <td>None</td>\n      <td>None</td>\n      <td>False</td>\n      <td>NaN</td>\n      <td>None</td>\n      <td>NaN</td>\n    </tr>\n    <tr>\n      <th>3</th>\n      <td>4</td>\n      <td>Task 4</td>\n      <td>Developer</td>\n      <td>None</td>\n      <td>None</td>\n      <td>False</td>\n      <td>100.0</td>\n      <td>None</td>\n      <td>NaN</td>\n    </tr>\n    <tr>\n      <th>4</th>\n      <td>5</td>\n      <td>Task 5</td>\n      <td>Developer</td>\n      <td>None</td>\n      <td>None</td>\n      <td>False</td>\n      <td>50.0</td>\n      <td>None</td>\n      <td>NaN</td>\n    </tr>\n    <tr>\n      <th>5</th>\n      <td>6</td>\n      <td>Task 6</td>\n      <td>None</td>\n      <td>None</td>\n      <td>None</td>\n      <td>False</td>\n      <td>NaN</td>\n      <td>None</td>\n      <td>NaN</td>\n    </tr>\n    <tr>\n      <th>6</th>\n      <td>7</td>\n      <td>Task 7</td>\n      <td>Developer</td>\n      <td>None</td>\n      <td>None</td>\n      <td>False</td>\n      <td>16.0</td>\n      <td>None</td>\n      <td>NaN</td>\n    </tr>\n    <tr>\n      <th>7</th>\n      <td>8</td>\n      <td>Task 9</td>\n      <td>Developer</td>\n      <td>None</td>\n      <td>None</td>\n      <td>False</td>\n      <td>16.0</td>\n      <td>None</td>\n      <td>NaN</td>\n    </tr>\n  </tbody>\n</table>\n</div>"
     },
     "execution_count": 3,
     "metadata": {},
     "output_type": "execute_result"
    }
   ],
   "source": [
    "# Convert wbs to pandas DataFrame\n",
    "df = pd.DataFrame([t.to_dict() for t in prj.tasks])\n",
    "df"
   ],
   "metadata": {
    "collapsed": false,
    "ExecuteTime": {
     "start_time": "2023-04-06T21:48:44.934909Z",
     "end_time": "2023-04-06T21:48:44.960909Z"
    }
   }
  },
  {
   "cell_type": "code",
   "execution_count": 4,
   "outputs": [
    {
     "data": {
      "text/plain": "         date  Tester  Developer\n0  2023-04-06       8          0\n1  2023-04-07       8          0\n2  2023-04-08       0          0\n3  2023-04-09       0          0\n4  2023-04-10       8          0\n5  2023-04-11       8          0\n6  2023-04-12       8          0\n7  2023-04-13       8          0\n8  2023-04-14       8          0\n9  2023-04-15       0          0\n10 2023-04-16       0          0\n11 2023-04-17       4          8\n12 2023-04-18       0          8\n13 2023-04-19       0          8\n14 2023-04-20       0          8\n15 2023-04-21       0          8\n16 2023-04-22       0          0\n17 2023-04-23       0          0\n18 2023-04-24       0          8\n19 2023-04-25       0          8\n20 2023-04-26       0          8\n21 2023-04-27       0          8\n22 2023-04-28       0          8\n23 2023-04-29       0          0\n24 2023-04-30       0          0\n25 2023-05-01       0          8\n26 2023-05-02       0          8\n27 2023-05-03       0          8\n28 2023-05-04       0          8\n29 2023-05-05       0          8\n30 2023-05-06       0          0\n31 2023-05-07       0          0\n32 2023-05-08       0          8\n33 2023-05-09       0          8\n34 2023-05-10       0          8\n35 2023-05-11       0          8\n36 2023-05-12       0          8\n37 2023-05-13       0          0\n38 2023-05-14       0          0\n39 2023-05-15       0          8\n40 2023-05-16       0          8",
      "text/html": "<div>\n<style scoped>\n    .dataframe tbody tr th:only-of-type {\n        vertical-align: middle;\n    }\n\n    .dataframe tbody tr th {\n        vertical-align: top;\n    }\n\n    .dataframe thead th {\n        text-align: right;\n    }\n</style>\n<table border=\"1\" class=\"dataframe\">\n  <thead>\n    <tr style=\"text-align: right;\">\n      <th></th>\n      <th>date</th>\n      <th>Tester</th>\n      <th>Developer</th>\n    </tr>\n  </thead>\n  <tbody>\n    <tr>\n      <th>0</th>\n      <td>2023-04-06</td>\n      <td>8</td>\n      <td>0</td>\n    </tr>\n    <tr>\n      <th>1</th>\n      <td>2023-04-07</td>\n      <td>8</td>\n      <td>0</td>\n    </tr>\n    <tr>\n      <th>2</th>\n      <td>2023-04-08</td>\n      <td>0</td>\n      <td>0</td>\n    </tr>\n    <tr>\n      <th>3</th>\n      <td>2023-04-09</td>\n      <td>0</td>\n      <td>0</td>\n    </tr>\n    <tr>\n      <th>4</th>\n      <td>2023-04-10</td>\n      <td>8</td>\n      <td>0</td>\n    </tr>\n    <tr>\n      <th>5</th>\n      <td>2023-04-11</td>\n      <td>8</td>\n      <td>0</td>\n    </tr>\n    <tr>\n      <th>6</th>\n      <td>2023-04-12</td>\n      <td>8</td>\n      <td>0</td>\n    </tr>\n    <tr>\n      <th>7</th>\n      <td>2023-04-13</td>\n      <td>8</td>\n      <td>0</td>\n    </tr>\n    <tr>\n      <th>8</th>\n      <td>2023-04-14</td>\n      <td>8</td>\n      <td>0</td>\n    </tr>\n    <tr>\n      <th>9</th>\n      <td>2023-04-15</td>\n      <td>0</td>\n      <td>0</td>\n    </tr>\n    <tr>\n      <th>10</th>\n      <td>2023-04-16</td>\n      <td>0</td>\n      <td>0</td>\n    </tr>\n    <tr>\n      <th>11</th>\n      <td>2023-04-17</td>\n      <td>4</td>\n      <td>8</td>\n    </tr>\n    <tr>\n      <th>12</th>\n      <td>2023-04-18</td>\n      <td>0</td>\n      <td>8</td>\n    </tr>\n    <tr>\n      <th>13</th>\n      <td>2023-04-19</td>\n      <td>0</td>\n      <td>8</td>\n    </tr>\n    <tr>\n      <th>14</th>\n      <td>2023-04-20</td>\n      <td>0</td>\n      <td>8</td>\n    </tr>\n    <tr>\n      <th>15</th>\n      <td>2023-04-21</td>\n      <td>0</td>\n      <td>8</td>\n    </tr>\n    <tr>\n      <th>16</th>\n      <td>2023-04-22</td>\n      <td>0</td>\n      <td>0</td>\n    </tr>\n    <tr>\n      <th>17</th>\n      <td>2023-04-23</td>\n      <td>0</td>\n      <td>0</td>\n    </tr>\n    <tr>\n      <th>18</th>\n      <td>2023-04-24</td>\n      <td>0</td>\n      <td>8</td>\n    </tr>\n    <tr>\n      <th>19</th>\n      <td>2023-04-25</td>\n      <td>0</td>\n      <td>8</td>\n    </tr>\n    <tr>\n      <th>20</th>\n      <td>2023-04-26</td>\n      <td>0</td>\n      <td>8</td>\n    </tr>\n    <tr>\n      <th>21</th>\n      <td>2023-04-27</td>\n      <td>0</td>\n      <td>8</td>\n    </tr>\n    <tr>\n      <th>22</th>\n      <td>2023-04-28</td>\n      <td>0</td>\n      <td>8</td>\n    </tr>\n    <tr>\n      <th>23</th>\n      <td>2023-04-29</td>\n      <td>0</td>\n      <td>0</td>\n    </tr>\n    <tr>\n      <th>24</th>\n      <td>2023-04-30</td>\n      <td>0</td>\n      <td>0</td>\n    </tr>\n    <tr>\n      <th>25</th>\n      <td>2023-05-01</td>\n      <td>0</td>\n      <td>8</td>\n    </tr>\n    <tr>\n      <th>26</th>\n      <td>2023-05-02</td>\n      <td>0</td>\n      <td>8</td>\n    </tr>\n    <tr>\n      <th>27</th>\n      <td>2023-05-03</td>\n      <td>0</td>\n      <td>8</td>\n    </tr>\n    <tr>\n      <th>28</th>\n      <td>2023-05-04</td>\n      <td>0</td>\n      <td>8</td>\n    </tr>\n    <tr>\n      <th>29</th>\n      <td>2023-05-05</td>\n      <td>0</td>\n      <td>8</td>\n    </tr>\n    <tr>\n      <th>30</th>\n      <td>2023-05-06</td>\n      <td>0</td>\n      <td>0</td>\n    </tr>\n    <tr>\n      <th>31</th>\n      <td>2023-05-07</td>\n      <td>0</td>\n      <td>0</td>\n    </tr>\n    <tr>\n      <th>32</th>\n      <td>2023-05-08</td>\n      <td>0</td>\n      <td>8</td>\n    </tr>\n    <tr>\n      <th>33</th>\n      <td>2023-05-09</td>\n      <td>0</td>\n      <td>8</td>\n    </tr>\n    <tr>\n      <th>34</th>\n      <td>2023-05-10</td>\n      <td>0</td>\n      <td>8</td>\n    </tr>\n    <tr>\n      <th>35</th>\n      <td>2023-05-11</td>\n      <td>0</td>\n      <td>8</td>\n    </tr>\n    <tr>\n      <th>36</th>\n      <td>2023-05-12</td>\n      <td>0</td>\n      <td>8</td>\n    </tr>\n    <tr>\n      <th>37</th>\n      <td>2023-05-13</td>\n      <td>0</td>\n      <td>0</td>\n    </tr>\n    <tr>\n      <th>38</th>\n      <td>2023-05-14</td>\n      <td>0</td>\n      <td>0</td>\n    </tr>\n    <tr>\n      <th>39</th>\n      <td>2023-05-15</td>\n      <td>0</td>\n      <td>8</td>\n    </tr>\n    <tr>\n      <th>40</th>\n      <td>2023-05-16</td>\n      <td>0</td>\n      <td>8</td>\n    </tr>\n  </tbody>\n</table>\n</div>"
     },
     "execution_count": 4,
     "metadata": {},
     "output_type": "execute_result"
    }
   ],
   "source": [
    "# Let's build plan\n",
    "plan, usage = DefaultScheduler(resources=[Resource(name='Tester'), Resource(name='Developer')]).calc(prj)\n",
    "\n",
    "# Convert usage to DataFrame\n",
    "pd.DataFrame(usage.rows())"
   ],
   "metadata": {
    "collapsed": false,
    "ExecuteTime": {
     "start_time": "2023-04-06T21:48:44.949911Z",
     "end_time": "2023-04-06T21:48:45.005438Z"
    }
   }
  }
 ],
 "metadata": {
  "kernelspec": {
   "display_name": "Python 3",
   "language": "python",
   "name": "python3"
  },
  "language_info": {
   "codemirror_mode": {
    "name": "ipython",
    "version": 2
   },
   "file_extension": ".py",
   "mimetype": "text/x-python",
   "name": "python",
   "nbconvert_exporter": "python",
   "pygments_lexer": "ipython2",
   "version": "2.7.6"
  }
 },
 "nbformat": 4,
 "nbformat_minor": 0
}
