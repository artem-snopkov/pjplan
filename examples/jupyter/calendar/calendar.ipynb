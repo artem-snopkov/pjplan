{
 "cells": [
  {
   "cell_type": "code",
   "execution_count": 1,
   "metadata": {
    "ExecuteTime": {
     "start_time": "2023-04-04T09:15:27.289622Z",
     "end_time": "2023-04-04T09:15:27.614003Z"
    },
    "collapsed": true
   },
   "outputs": [],
   "source": [
    "import sys\n",
    "from datetime import datetime\n",
    "\n",
    "sys.path.append('../../src')\n",
    "from pjplan.calendar import FixedCalendar, DirectCalendar, WeeklyCalendar"
   ]
  },
  {
   "cell_type": "markdown",
   "source": [
    "## FixedCalendar"
   ],
   "metadata": {
    "collapsed": false
   }
  },
  {
   "cell_type": "code",
   "execution_count": 2,
   "outputs": [
    {
     "data": {
      "text/plain": "Fixed:  3.0  [-, -]"
     },
     "execution_count": 2,
     "metadata": {},
     "output_type": "execute_result"
    }
   ],
   "source": [
    "FixedCalendar(3)"
   ],
   "metadata": {
    "collapsed": false,
    "ExecuteTime": {
     "start_time": "2023-04-04T09:15:27.617520Z",
     "end_time": "2023-04-04T09:15:27.629521Z"
    }
   }
  },
  {
   "cell_type": "code",
   "execution_count": 3,
   "outputs": [
    {
     "data": {
      "text/plain": "3"
     },
     "execution_count": 3,
     "metadata": {},
     "output_type": "execute_result"
    }
   ],
   "source": [
    "FixedCalendar(3).get_available_units(datetime.now())"
   ],
   "metadata": {
    "collapsed": false,
    "ExecuteTime": {
     "start_time": "2023-04-04T09:15:27.631526Z",
     "end_time": "2023-04-04T09:15:27.674053Z"
    }
   }
  },
  {
   "cell_type": "markdown",
   "source": [
    "## WeeklyCalendar"
   ],
   "metadata": {
    "collapsed": false
   }
  },
  {
   "cell_type": "markdown",
   "source": [
    "### Define"
   ],
   "metadata": {
    "collapsed": false
   }
  },
  {
   "cell_type": "code",
   "execution_count": 4,
   "metadata": {
    "ExecuteTime": {
     "start_time": "2023-04-04T09:15:27.647049Z",
     "end_time": "2023-04-04T09:15:27.674053Z"
    }
   },
   "outputs": [
    {
     "data": {
      "text/plain": "Weekly: [-, -]\n|\u001B[92m MON \u001B[0m|\u001B[92m TUE \u001B[0m|\u001B[92m WED \u001B[0m|\u001B[92m THU \u001B[0m|\u001B[92m FRI \u001B[0m|\u001B[92m SAT \u001B[0m|\u001B[92m SUN \u001B[0m|\n| 8.0 | 8.0 |\u001B[97m 0.0 \u001B[0m| 8.0 | 8.0 |\u001B[97m 0.0 \u001B[0m|\u001B[97m 0.0 \u001B[0m|"
     },
     "execution_count": 4,
     "metadata": {},
     "output_type": "execute_result"
    }
   ],
   "source": [
    "# Define WeeklyCalendar using week days and num of hours equals for all days\n",
    "WeeklyCalendar(days=[0,1,3,4], units_per_day=8)"
   ]
  },
  {
   "cell_type": "code",
   "execution_count": 5,
   "metadata": {
    "ExecuteTime": {
     "start_time": "2023-04-04T09:15:27.663049Z",
     "end_time": "2023-04-04T09:15:27.681575Z"
    }
   },
   "outputs": [
    {
     "data": {
      "text/plain": "Weekly: [-, -]\n|\u001B[92m MON \u001B[0m|\u001B[92m TUE  \u001B[0m|\u001B[92m WED \u001B[0m|\u001B[92m THU \u001B[0m|\u001B[92m FRI \u001B[0m|\u001B[92m SAT \u001B[0m|\u001B[92m SUN \u001B[0m|\n| 8.0 | 16.0 | 5.0 |\u001B[97m 0.0 \u001B[0m|\u001B[97m 0.0 \u001B[0m|\u001B[97m 0.0 \u001B[0m|\u001B[97m 0.0 \u001B[0m|"
     },
     "execution_count": 5,
     "metadata": {},
     "output_type": "execute_result"
    }
   ],
   "source": [
    "# Specify hours for each week day\n",
    "WeeklyCalendar(units_per_day={0:8, 1:16, 2:5})"
   ]
  },
  {
   "cell_type": "code",
   "execution_count": 6,
   "outputs": [
    {
     "data": {
      "text/plain": "Weekly: [2023-04-01, 2023-05-01]\n|\u001B[92m MON \u001B[0m|\u001B[92m TUE \u001B[0m|\u001B[92m WED \u001B[0m|\u001B[92m THU \u001B[0m|\u001B[92m FRI \u001B[0m|\u001B[92m SAT \u001B[0m|\u001B[92m SUN \u001B[0m|\n| 8.0 | 8.0 | 8.0 | 8.0 | 8.0 |\u001B[97m 0.0 \u001B[0m|\u001B[97m 0.0 \u001B[0m|"
     },
     "execution_count": 6,
     "metadata": {},
     "output_type": "execute_result"
    }
   ],
   "source": [
    "# Add start end dates\n",
    "WeeklyCalendar(\n",
    "    start = datetime(2023, 4, 1),\n",
    "    end = datetime(2023, 5, 1),\n",
    "    days=[0,1,2,3,4],\n",
    "    units_per_day=8\n",
    ")"
   ],
   "metadata": {
    "collapsed": false,
    "ExecuteTime": {
     "start_time": "2023-04-04T09:15:27.677566Z",
     "end_time": "2023-04-04T09:15:27.691582Z"
    }
   }
  },
  {
   "cell_type": "markdown",
   "source": [
    "### Operations"
   ],
   "metadata": {
    "collapsed": false
   }
  },
  {
   "cell_type": "code",
   "execution_count": 7,
   "outputs": [
    {
     "data": {
      "text/plain": "Weekly: [-, -]\n|\u001B[92m MON \u001B[0m|\u001B[92m TUE \u001B[0m|\u001B[92m WED \u001B[0m|\u001B[92m THU \u001B[0m|\u001B[92m FRI \u001B[0m|\u001B[92m SAT \u001B[0m|\u001B[92m SUN \u001B[0m|\n| 8.0 | 8.0 | 8.0 | 8.0 | 8.0 |\u001B[97m 0.0 \u001B[0m|\u001B[97m 0.0 \u001B[0m|"
     },
     "execution_count": 7,
     "metadata": {},
     "output_type": "execute_result"
    }
   ],
   "source": [
    "cal = WeeklyCalendar(\n",
    "    days=[0,1,2,3,4],\n",
    "    units_per_day=8\n",
    ")\n",
    "cal"
   ],
   "metadata": {
    "collapsed": false,
    "ExecuteTime": {
     "start_time": "2023-04-04T09:15:27.693579Z",
     "end_time": "2023-04-04T09:15:27.752125Z"
    }
   }
  },
  {
   "cell_type": "code",
   "execution_count": 8,
   "outputs": [
    {
     "data": {
      "text/plain": "Weekly: [-, -]\n|\u001B[92m MON \u001B[0m|\u001B[92m TUE \u001B[0m|\u001B[92m WED \u001B[0m|\u001B[92m THU \u001B[0m|\u001B[92m FRI \u001B[0m|\u001B[92m SAT \u001B[0m|\u001B[92m SUN \u001B[0m|\n| 4.0 | 4.0 | 4.0 | 4.0 | 4.0 |\u001B[97m 0.0 \u001B[0m|\u001B[97m 0.0 \u001B[0m|"
     },
     "execution_count": 8,
     "metadata": {},
     "output_type": "execute_result"
    }
   ],
   "source": [
    "# Divide all hours\n",
    "cal / 2"
   ],
   "metadata": {
    "collapsed": false,
    "ExecuteTime": {
     "start_time": "2023-04-04T09:15:27.708592Z",
     "end_time": "2023-04-04T09:15:27.765140Z"
    }
   }
  },
  {
   "cell_type": "code",
   "execution_count": 9,
   "outputs": [
    {
     "data": {
      "text/plain": "Weekly: [-, -]\n|\u001B[92m MON \u001B[0m|\u001B[92m TUE \u001B[0m|\u001B[92m WED \u001B[0m|\u001B[92m THU \u001B[0m|\u001B[92m FRI \u001B[0m|\u001B[92m SAT \u001B[0m|\u001B[92m SUN \u001B[0m|\n| 9.0 | 9.0 | 9.0 | 9.0 | 9.0 | 1.0 | 1.0 |"
     },
     "execution_count": 9,
     "metadata": {},
     "output_type": "execute_result"
    }
   ],
   "source": [
    "# Add value to all hours\n",
    "cal + 1"
   ],
   "metadata": {
    "collapsed": false,
    "ExecuteTime": {
     "start_time": "2023-04-04T09:15:27.724598Z",
     "end_time": "2023-04-04T09:15:27.765140Z"
    }
   }
  },
  {
   "cell_type": "code",
   "execution_count": 10,
   "outputs": [
    {
     "data": {
      "text/plain": "Weekly: [-, -]\n|\u001B[92m MON \u001B[0m|\u001B[92m TUE \u001B[0m|\u001B[92m WED \u001B[0m|\u001B[92m THU \u001B[0m|\u001B[92m FRI \u001B[0m|\u001B[92m SAT \u001B[0m|\u001B[92m SUN \u001B[0m|\n| 5.6 | 5.6 | 5.6 | 5.6 | 5.6 |\u001B[97m 0.0 \u001B[0m|\u001B[97m 0.0 \u001B[0m|"
     },
     "execution_count": 10,
     "metadata": {},
     "output_type": "execute_result"
    }
   ],
   "source": [
    "# Multiply all values\n",
    "cal * 0.7"
   ],
   "metadata": {
    "collapsed": false,
    "ExecuteTime": {
     "start_time": "2023-04-04T09:15:27.740119Z",
     "end_time": "2023-04-04T09:15:27.766142Z"
    }
   }
  },
  {
   "cell_type": "code",
   "execution_count": 11,
   "outputs": [
    {
     "data": {
      "text/plain": "Weekly: [-, -]\n|\u001B[92m MON \u001B[0m|\u001B[92m TUE \u001B[0m|\u001B[92m WED \u001B[0m|\u001B[92m THU \u001B[0m|\u001B[92m FRI \u001B[0m|\u001B[92m SAT \u001B[0m|\u001B[92m SUN \u001B[0m|\n| 7.0 | 7.0 | 7.0 | 7.0 | 7.0 |\u001B[97m 0.0 \u001B[0m|\u001B[97m 0.0 \u001B[0m|"
     },
     "execution_count": 11,
     "metadata": {},
     "output_type": "execute_result"
    }
   ],
   "source": [
    "# Subtract value from all hours\n",
    "cal - 1"
   ],
   "metadata": {
    "collapsed": false,
    "ExecuteTime": {
     "start_time": "2023-04-04T09:15:27.756130Z",
     "end_time": "2023-04-04T09:15:27.799161Z"
    }
   }
  },
  {
   "cell_type": "code",
   "execution_count": 12,
   "outputs": [
    {
     "data": {
      "text/plain": "Cal1 | Cal2\n\nCal1:\nWeekly: [-, -]\n|\u001B[92m MON \u001B[0m|\u001B[92m TUE \u001B[0m|\u001B[92m WED \u001B[0m|\u001B[92m THU \u001B[0m|\u001B[92m FRI \u001B[0m|\u001B[92m SAT \u001B[0m|\u001B[92m SUN \u001B[0m|\n|\u001B[97m 0.0 \u001B[0m| 2.0 | 2.0 | 2.0 |\u001B[97m 0.0 \u001B[0m|\u001B[97m 0.0 \u001B[0m|\u001B[97m 0.0 \u001B[0m|\n\nCal2:\nWeekly: [-, -]\n|\u001B[92m MON \u001B[0m|\u001B[92m TUE \u001B[0m|\u001B[92m WED \u001B[0m|\u001B[92m THU \u001B[0m|\u001B[92m FRI \u001B[0m|\u001B[92m SAT \u001B[0m|\u001B[92m SUN \u001B[0m|\n| 8.0 | 8.0 | 8.0 | 8.0 | 8.0 |\u001B[97m 0.0 \u001B[0m|\u001B[97m 0.0 \u001B[0m|"
     },
     "execution_count": 12,
     "metadata": {},
     "output_type": "execute_result"
    }
   ],
   "source": [
    "cal2 = WeeklyCalendar(days=[1,2,3], units_per_day=2)\n",
    "\n",
    "cal2 | cal"
   ],
   "metadata": {
    "collapsed": false,
    "ExecuteTime": {
     "start_time": "2023-04-04T09:15:27.771139Z",
     "end_time": "2023-04-04T09:15:27.860888Z"
    }
   }
  },
  {
   "cell_type": "code",
   "execution_count": 13,
   "outputs": [
    {
     "data": {
      "text/plain": "Func: <function <lambda> at 0x000001B3324149D0>\n\nWeekly: [-, -]\n|\u001B[92m MON \u001B[0m|\u001B[92m TUE \u001B[0m|\u001B[92m WED \u001B[0m|\u001B[92m THU \u001B[0m|\u001B[92m FRI \u001B[0m|\u001B[92m SAT \u001B[0m|\u001B[92m SUN \u001B[0m|\n|\u001B[97m 0.0 \u001B[0m| 2.0 | 2.0 | 2.0 |\u001B[97m 0.0 \u001B[0m|\u001B[97m 0.0 \u001B[0m|\u001B[97m 0.0 \u001B[0m|"
     },
     "execution_count": 13,
     "metadata": {},
     "output_type": "execute_result"
    }
   ],
   "source": [
    "cal2.apply(lambda x: x-1)"
   ],
   "metadata": {
    "collapsed": false,
    "ExecuteTime": {
     "start_time": "2023-04-04T09:15:27.787653Z",
     "end_time": "2023-04-04T09:15:27.877986Z"
    }
   }
  },
  {
   "cell_type": "markdown",
   "source": [
    "## DirectCalendar"
   ],
   "metadata": {
    "collapsed": false
   }
  },
  {
   "cell_type": "markdown",
   "source": [
    "### Define"
   ],
   "metadata": {
    "collapsed": false
   }
  },
  {
   "cell_type": "code",
   "execution_count": 14,
   "outputs": [
    {
     "data": {
      "text/plain": "Direct:\n| \u001B[92mDATE\u001B[0m       | \u001B[92mUNITS\u001B[0m |\n| 2023-04-01 | 8.0   |\n| 2023-04-02 | 7.0   |\n| 2023-04-03 |\u001B[97m 0.0 \u001B[0m  |"
     },
     "execution_count": 14,
     "metadata": {},
     "output_type": "execute_result"
    }
   ],
   "source": [
    "DirectCalendar(units={\n",
    "    datetime(2023, 4, 1): 8,\n",
    "    datetime(2023, 4, 2): 7,\n",
    "    datetime(2023, 4, 3): 0\n",
    "})"
   ],
   "metadata": {
    "collapsed": false,
    "ExecuteTime": {
     "start_time": "2023-04-04T09:15:27.805179Z",
     "end_time": "2023-04-04T09:15:27.878985Z"
    }
   }
  },
  {
   "cell_type": "markdown",
   "source": [
    "### Operations"
   ],
   "metadata": {
    "collapsed": false
   }
  },
  {
   "cell_type": "code",
   "execution_count": 15,
   "outputs": [
    {
     "data": {
      "text/plain": "Direct:\n| \u001B[92mDATE\u001B[0m       | \u001B[92mUNITS\u001B[0m |\n| 2023-04-01 | 8.0   |\n| 2023-04-02 | 7.0   |\n| 2023-04-03 |\u001B[97m 0.0 \u001B[0m  |"
     },
     "execution_count": 15,
     "metadata": {},
     "output_type": "execute_result"
    }
   ],
   "source": [
    "cal = DirectCalendar(units={\n",
    "    datetime(2023, 4, 1): 8,\n",
    "    datetime(2023, 4, 2): 7,\n",
    "    datetime(2023, 4, 3): 0\n",
    "})\n",
    "cal"
   ],
   "metadata": {
    "collapsed": false,
    "ExecuteTime": {
     "start_time": "2023-04-04T09:15:27.815765Z",
     "end_time": "2023-04-04T09:15:27.878985Z"
    }
   }
  },
  {
   "cell_type": "code",
   "execution_count": 16,
   "outputs": [
    {
     "data": {
      "text/plain": "Direct:\n| \u001B[92mDATE\u001B[0m       | \u001B[92mUNITS\u001B[0m |\n| 2023-04-01 | 9.0   |\n| 2023-04-02 | 8.0   |\n| 2023-04-03 | 1.0   |"
     },
     "execution_count": 16,
     "metadata": {},
     "output_type": "execute_result"
    }
   ],
   "source": [
    "cal + 1"
   ],
   "metadata": {
    "collapsed": false,
    "ExecuteTime": {
     "start_time": "2023-04-04T09:15:27.832776Z",
     "end_time": "2023-04-04T09:15:27.879985Z"
    }
   }
  },
  {
   "cell_type": "code",
   "execution_count": 17,
   "outputs": [
    {
     "data": {
      "text/plain": "Direct:\n| \u001B[92mDATE\u001B[0m       | \u001B[92mUNITS\u001B[0m |\n| 2023-04-01 | 7.0   |\n| 2023-04-02 | 6.0   |\n| 2023-04-03 |\u001B[97m 0.0 \u001B[0m  |"
     },
     "execution_count": 17,
     "metadata": {},
     "output_type": "execute_result"
    }
   ],
   "source": [
    "cal - 1"
   ],
   "metadata": {
    "collapsed": false,
    "ExecuteTime": {
     "start_time": "2023-04-04T09:15:27.846889Z",
     "end_time": "2023-04-04T09:15:27.879985Z"
    }
   }
  },
  {
   "cell_type": "code",
   "execution_count": 18,
   "outputs": [
    {
     "data": {
      "text/plain": "Direct:\n| \u001B[92mDATE\u001B[0m       | \u001B[92mUNITS\u001B[0m |\n| 2023-04-01 | 16.0  |\n| 2023-04-02 | 14.0  |\n| 2023-04-03 |\u001B[97m 0.0 \u001B[0m  |"
     },
     "execution_count": 18,
     "metadata": {},
     "output_type": "execute_result"
    }
   ],
   "source": [
    "cal * 2"
   ],
   "metadata": {
    "collapsed": false,
    "ExecuteTime": {
     "start_time": "2023-04-04T09:15:27.863891Z",
     "end_time": "2023-04-04T09:15:27.880984Z"
    }
   }
  },
  {
   "cell_type": "code",
   "execution_count": 19,
   "outputs": [
    {
     "data": {
      "text/plain": "Direct:\n| \u001B[92mDATE\u001B[0m       | \u001B[92mUNITS\u001B[0m |\n| 2023-04-01 | 4.0   |\n| 2023-04-02 | 3.5   |\n| 2023-04-03 |\u001B[97m 0.0 \u001B[0m  |"
     },
     "execution_count": 19,
     "metadata": {},
     "output_type": "execute_result"
    }
   ],
   "source": [
    "cal / 2"
   ],
   "metadata": {
    "collapsed": false,
    "ExecuteTime": {
     "start_time": "2023-04-04T09:15:27.879985Z",
     "end_time": "2023-04-04T09:15:27.955642Z"
    }
   }
  },
  {
   "cell_type": "code",
   "execution_count": 20,
   "outputs": [
    {
     "data": {
      "text/plain": "Cal1 | Cal2\n\nCal1:\nWeekly: [-, -]\n|\u001B[92m MON \u001B[0m|\u001B[92m TUE \u001B[0m|\u001B[92m WED \u001B[0m|\u001B[92m THU \u001B[0m|\u001B[92m FRI \u001B[0m|\u001B[92m SAT \u001B[0m|\u001B[92m SUN \u001B[0m|\n|\u001B[97m 0.0 \u001B[0m| 2.0 | 2.0 | 2.0 |\u001B[97m 0.0 \u001B[0m|\u001B[97m 0.0 \u001B[0m|\u001B[97m 0.0 \u001B[0m|\n\nCal2:\nDirect:\n| \u001B[92mDATE\u001B[0m       | \u001B[92mUNITS\u001B[0m |\n| 2023-04-01 | 8.0   |\n| 2023-04-02 | 7.0   |\n| 2023-04-03 |\u001B[97m 0.0 \u001B[0m  |"
     },
     "execution_count": 20,
     "metadata": {},
     "output_type": "execute_result"
    }
   ],
   "source": [
    "cal2 | cal"
   ],
   "metadata": {
    "collapsed": false,
    "ExecuteTime": {
     "start_time": "2023-04-04T09:15:27.893992Z",
     "end_time": "2023-04-04T09:15:27.955642Z"
    }
   }
  }
 ],
 "metadata": {
  "kernelspec": {
   "display_name": "Python 3 (ipykernel)",
   "language": "python",
   "name": "python3"
  },
  "language_info": {
   "codemirror_mode": {
    "name": "ipython",
    "version": 3
   },
   "file_extension": ".py",
   "mimetype": "text/x-python",
   "name": "python",
   "nbconvert_exporter": "python",
   "pygments_lexer": "ipython3",
   "version": "3.10.6"
  }
 },
 "nbformat": 4,
 "nbformat_minor": 1
}
