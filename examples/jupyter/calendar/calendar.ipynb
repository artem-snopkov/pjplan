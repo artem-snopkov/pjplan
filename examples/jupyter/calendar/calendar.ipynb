{
 "cells": [
  {
   "cell_type": "code",
   "execution_count": 1,
   "metadata": {
    "ExecuteTime": {
     "start_time": "2023-04-06T20:31:35.674624Z",
     "end_time": "2023-04-06T20:31:35.683724Z"
    },
    "collapsed": true
   },
   "outputs": [],
   "source": [
    "import sys\n",
    "from datetime import datetime\n",
    "\n",
    "sys.path.append('../../src')\n",
    "from pjplan.calendar import FixedCalendar, DirectCalendar, WeeklyCalendar"
   ]
  },
  {
   "cell_type": "markdown",
   "source": [
    "## FixedCalendar"
   ],
   "metadata": {
    "collapsed": false
   }
  },
  {
   "cell_type": "code",
   "execution_count": 2,
   "outputs": [
    {
     "data": {
      "text/plain": "Fixed: 3.0 [-, -]"
     },
     "execution_count": 2,
     "metadata": {},
     "output_type": "execute_result"
    }
   ],
   "source": [
    "FixedCalendar(3)"
   ],
   "metadata": {
    "collapsed": false,
    "ExecuteTime": {
     "start_time": "2023-04-06T20:31:35.685725Z",
     "end_time": "2023-04-06T20:31:35.699760Z"
    }
   }
  },
  {
   "cell_type": "code",
   "execution_count": 3,
   "outputs": [
    {
     "data": {
      "text/plain": "3"
     },
     "execution_count": 3,
     "metadata": {},
     "output_type": "execute_result"
    }
   ],
   "source": [
    "FixedCalendar(3).get_available_units(datetime.now())"
   ],
   "metadata": {
    "collapsed": false,
    "ExecuteTime": {
     "start_time": "2023-04-06T20:31:35.701760Z",
     "end_time": "2023-04-06T20:31:35.745273Z"
    }
   }
  },
  {
   "cell_type": "markdown",
   "source": [
    "## WeeklyCalendar"
   ],
   "metadata": {
    "collapsed": false
   }
  },
  {
   "cell_type": "markdown",
   "source": [
    "### Define"
   ],
   "metadata": {
    "collapsed": false
   }
  },
  {
   "cell_type": "code",
   "execution_count": 4,
   "metadata": {
    "ExecuteTime": {
     "start_time": "2023-04-06T20:31:35.717276Z",
     "end_time": "2023-04-06T20:31:35.750282Z"
    }
   },
   "outputs": [
    {
     "data": {
      "text/plain": "Weekly: [-, -]\n| \u001B[92mMON\u001B[0m | \u001B[92mTUE\u001B[0m | \u001B[92mWED\u001B[0m | \u001B[92mTHU\u001B[0m | \u001B[92mFRI\u001B[0m | \u001B[92mSAT\u001B[0m | \u001B[92mSUN\u001B[0m |\n| 8.0 | 8.0 | \u001B[97m0.0\u001B[0m | 8.0 | 8.0 | \u001B[97m0.0\u001B[0m | \u001B[97m0.0\u001B[0m |"
     },
     "execution_count": 4,
     "metadata": {},
     "output_type": "execute_result"
    }
   ],
   "source": [
    "# Define WeeklyCalendar using week days and num of hours equals for all days\n",
    "WeeklyCalendar(days=[0,1,3,4], units_per_day=8)"
   ]
  },
  {
   "cell_type": "code",
   "execution_count": 5,
   "metadata": {
    "ExecuteTime": {
     "start_time": "2023-04-06T20:31:35.732273Z",
     "end_time": "2023-04-06T20:31:35.751281Z"
    }
   },
   "outputs": [
    {
     "data": {
      "text/plain": "Weekly: [-, -]\n| \u001B[92mMON\u001B[0m | \u001B[92mTUE \u001B[0m | \u001B[92mWED\u001B[0m | \u001B[92mTHU\u001B[0m | \u001B[92mFRI\u001B[0m | \u001B[92mSAT\u001B[0m | \u001B[92mSUN\u001B[0m |\n| 8.0 | 16.0 | 5.0 | \u001B[97m0.0\u001B[0m | \u001B[97m0.0\u001B[0m | \u001B[97m0.0\u001B[0m | \u001B[97m0.0\u001B[0m |"
     },
     "execution_count": 5,
     "metadata": {},
     "output_type": "execute_result"
    }
   ],
   "source": [
    "# Specify hours for each week day\n",
    "WeeklyCalendar(units_per_day={0:8, 1:16, 2:5})"
   ]
  },
  {
   "cell_type": "code",
   "execution_count": 6,
   "outputs": [
    {
     "data": {
      "text/plain": "Weekly: [2023-04-01, 2023-05-01]\n| \u001B[92mMON\u001B[0m | \u001B[92mTUE\u001B[0m | \u001B[92mWED\u001B[0m | \u001B[92mTHU\u001B[0m | \u001B[92mFRI\u001B[0m | \u001B[92mSAT\u001B[0m | \u001B[92mSUN\u001B[0m |\n| 8.0 | 8.0 | 8.0 | 8.0 | 8.0 | \u001B[97m0.0\u001B[0m | \u001B[97m0.0\u001B[0m |"
     },
     "execution_count": 6,
     "metadata": {},
     "output_type": "execute_result"
    }
   ],
   "source": [
    "# Add start end dates\n",
    "WeeklyCalendar(\n",
    "    start = datetime(2023, 4, 1),\n",
    "    end = datetime(2023, 5, 1),\n",
    "    days=[0,1,2,3,4],\n",
    "    units_per_day=8\n",
    ")"
   ],
   "metadata": {
    "collapsed": false,
    "ExecuteTime": {
     "start_time": "2023-04-06T20:31:35.748274Z",
     "end_time": "2023-04-06T20:31:35.762281Z"
    }
   }
  },
  {
   "cell_type": "markdown",
   "source": [
    "### Operations"
   ],
   "metadata": {
    "collapsed": false
   }
  },
  {
   "cell_type": "code",
   "execution_count": 7,
   "outputs": [
    {
     "data": {
      "text/plain": "Weekly: [-, -]\n| \u001B[92mMON\u001B[0m | \u001B[92mTUE\u001B[0m | \u001B[92mWED\u001B[0m | \u001B[92mTHU\u001B[0m | \u001B[92mFRI\u001B[0m | \u001B[92mSAT\u001B[0m | \u001B[92mSUN\u001B[0m |\n| 8.0 | 8.0 | 8.0 | 8.0 | 8.0 | \u001B[97m0.0\u001B[0m | \u001B[97m0.0\u001B[0m |"
     },
     "execution_count": 7,
     "metadata": {},
     "output_type": "execute_result"
    }
   ],
   "source": [
    "cal = WeeklyCalendar(\n",
    "    days=[0,1,2,3,4],\n",
    "    units_per_day=8\n",
    ")\n",
    "cal"
   ],
   "metadata": {
    "collapsed": false,
    "ExecuteTime": {
     "start_time": "2023-04-06T20:31:35.763947Z",
     "end_time": "2023-04-06T20:31:35.824863Z"
    }
   }
  },
  {
   "cell_type": "code",
   "execution_count": 8,
   "outputs": [
    {
     "data": {
      "text/plain": "Weekly: [-, -]\n| \u001B[92mMON\u001B[0m | \u001B[92mTUE\u001B[0m | \u001B[92mWED\u001B[0m | \u001B[92mTHU\u001B[0m | \u001B[92mFRI\u001B[0m | \u001B[92mSAT\u001B[0m | \u001B[92mSUN\u001B[0m |\n| 4.0 | 4.0 | 4.0 | 4.0 | 4.0 | \u001B[97m0.0\u001B[0m | \u001B[97m0.0\u001B[0m |"
     },
     "execution_count": 8,
     "metadata": {},
     "output_type": "execute_result"
    }
   ],
   "source": [
    "# Divide all hours\n",
    "cal / 2"
   ],
   "metadata": {
    "collapsed": false,
    "ExecuteTime": {
     "start_time": "2023-04-06T20:31:35.780344Z",
     "end_time": "2023-04-06T20:31:35.834865Z"
    }
   }
  },
  {
   "cell_type": "code",
   "execution_count": 9,
   "outputs": [
    {
     "data": {
      "text/plain": "Weekly: [-, -]\n| \u001B[92mMON\u001B[0m | \u001B[92mTUE\u001B[0m | \u001B[92mWED\u001B[0m | \u001B[92mTHU\u001B[0m | \u001B[92mFRI\u001B[0m | \u001B[92mSAT\u001B[0m | \u001B[92mSUN\u001B[0m |\n| 9.0 | 9.0 | 9.0 | 9.0 | 9.0 | 1.0 | 1.0 |"
     },
     "execution_count": 9,
     "metadata": {},
     "output_type": "execute_result"
    }
   ],
   "source": [
    "# Add value to all hours\n",
    "cal + 1"
   ],
   "metadata": {
    "collapsed": false,
    "ExecuteTime": {
     "start_time": "2023-04-06T20:31:35.795352Z",
     "end_time": "2023-04-06T20:31:35.834865Z"
    }
   }
  },
  {
   "cell_type": "code",
   "execution_count": 10,
   "outputs": [
    {
     "data": {
      "text/plain": "Weekly: [-, -]\n| \u001B[92mMON\u001B[0m | \u001B[92mTUE\u001B[0m | \u001B[92mWED\u001B[0m | \u001B[92mTHU\u001B[0m | \u001B[92mFRI\u001B[0m | \u001B[92mSAT\u001B[0m | \u001B[92mSUN\u001B[0m |\n| 5.6 | 5.6 | 5.6 | 5.6 | 5.6 | \u001B[97m0.0\u001B[0m | \u001B[97m0.0\u001B[0m |"
     },
     "execution_count": 10,
     "metadata": {},
     "output_type": "execute_result"
    }
   ],
   "source": [
    "# Multiply all values\n",
    "cal * 0.7"
   ],
   "metadata": {
    "collapsed": false,
    "ExecuteTime": {
     "start_time": "2023-04-06T20:31:35.812863Z",
     "end_time": "2023-04-06T20:31:35.834865Z"
    }
   }
  },
  {
   "cell_type": "code",
   "execution_count": 11,
   "outputs": [
    {
     "data": {
      "text/plain": "Weekly: [-, -]\n| \u001B[92mMON\u001B[0m | \u001B[92mTUE\u001B[0m | \u001B[92mWED\u001B[0m | \u001B[92mTHU\u001B[0m | \u001B[92mFRI\u001B[0m | \u001B[92mSAT\u001B[0m | \u001B[92mSUN\u001B[0m |\n| 7.0 | 7.0 | 7.0 | 7.0 | 7.0 | \u001B[97m0.0\u001B[0m | \u001B[97m0.0\u001B[0m |"
     },
     "execution_count": 11,
     "metadata": {},
     "output_type": "execute_result"
    }
   ],
   "source": [
    "# Subtract value from all hours\n",
    "cal - 1"
   ],
   "metadata": {
    "collapsed": false,
    "ExecuteTime": {
     "start_time": "2023-04-06T20:31:35.828864Z",
     "end_time": "2023-04-06T20:31:35.842865Z"
    }
   }
  },
  {
   "cell_type": "code",
   "execution_count": 12,
   "outputs": [
    {
     "data": {
      "text/plain": "Cal1 | Cal2\n\nCal1:\nWeekly: [-, -]\n| \u001B[92mMON\u001B[0m | \u001B[92mTUE\u001B[0m | \u001B[92mWED\u001B[0m | \u001B[92mTHU\u001B[0m | \u001B[92mFRI\u001B[0m | \u001B[92mSAT\u001B[0m | \u001B[92mSUN\u001B[0m |\n| \u001B[97m0.0\u001B[0m | 2.0 | 2.0 | 2.0 | \u001B[97m0.0\u001B[0m | \u001B[97m0.0\u001B[0m | \u001B[97m0.0\u001B[0m |\n\nCal2:\nWeekly: [-, -]\n| \u001B[92mMON\u001B[0m | \u001B[92mTUE\u001B[0m | \u001B[92mWED\u001B[0m | \u001B[92mTHU\u001B[0m | \u001B[92mFRI\u001B[0m | \u001B[92mSAT\u001B[0m | \u001B[92mSUN\u001B[0m |\n| 8.0 | 8.0 | 8.0 | 8.0 | 8.0 | \u001B[97m0.0\u001B[0m | \u001B[97m0.0\u001B[0m |"
     },
     "execution_count": 12,
     "metadata": {},
     "output_type": "execute_result"
    }
   ],
   "source": [
    "cal2 = WeeklyCalendar(days=[1,2,3], units_per_day=2)\n",
    "\n",
    "cal2 | cal"
   ],
   "metadata": {
    "collapsed": false,
    "ExecuteTime": {
     "start_time": "2023-04-06T20:31:35.844863Z",
     "end_time": "2023-04-06T20:31:35.904711Z"
    }
   }
  },
  {
   "cell_type": "code",
   "execution_count": 22,
   "outputs": [
    {
     "data": {
      "text/plain": "Func: <function <lambda> at 0x000001FC076B5120>\n\nWeekly: [-, -]\n| \u001B[92mMON\u001B[0m | \u001B[92mTUE\u001B[0m | \u001B[92mWED\u001B[0m | \u001B[92mTHU\u001B[0m | \u001B[92mFRI\u001B[0m | \u001B[92mSAT\u001B[0m | \u001B[92mSUN\u001B[0m |\n| \u001B[97m0.0\u001B[0m | 2.0 | 2.0 | 2.0 | \u001B[97m0.0\u001B[0m | \u001B[97m0.0\u001B[0m | \u001B[97m0.0\u001B[0m |"
     },
     "execution_count": 22,
     "metadata": {},
     "output_type": "execute_result"
    }
   ],
   "source": [
    "cal2.apply(lambda x: x-1)"
   ],
   "metadata": {
    "collapsed": false,
    "ExecuteTime": {
     "start_time": "2023-04-06T20:31:54.263098Z",
     "end_time": "2023-04-06T20:31:54.279398Z"
    }
   }
  },
  {
   "cell_type": "markdown",
   "source": [
    "## DirectCalendar"
   ],
   "metadata": {
    "collapsed": false
   }
  },
  {
   "cell_type": "markdown",
   "source": [
    "### Define"
   ],
   "metadata": {
    "collapsed": false
   }
  },
  {
   "cell_type": "code",
   "execution_count": 14,
   "outputs": [
    {
     "data": {
      "text/plain": "Direct:\n| \u001B[92mDATE      \u001B[0m | \u001B[92mUNITS\u001B[0m |\n| 2023-04-01 | 8.0   |\n| 2023-04-02 | 7.0   |\n| 2023-04-03 | \u001B[97m0.0  \u001B[0m |"
     },
     "execution_count": 14,
     "metadata": {},
     "output_type": "execute_result"
    }
   ],
   "source": [
    "DirectCalendar(units={\n",
    "    datetime(2023, 4, 1): 8,\n",
    "    datetime(2023, 4, 2): 7,\n",
    "    datetime(2023, 4, 3): 0\n",
    "})"
   ],
   "metadata": {
    "collapsed": false,
    "ExecuteTime": {
     "start_time": "2023-04-06T20:31:35.876866Z",
     "end_time": "2023-04-06T20:31:35.914711Z"
    }
   }
  },
  {
   "cell_type": "markdown",
   "source": [
    "### Operations"
   ],
   "metadata": {
    "collapsed": false
   }
  },
  {
   "cell_type": "code",
   "execution_count": 15,
   "outputs": [
    {
     "data": {
      "text/plain": "Direct:\n| \u001B[92mDATE      \u001B[0m | \u001B[92mUNITS\u001B[0m |\n| 2023-04-01 | 8.0   |\n| 2023-04-02 | 7.0   |\n| 2023-04-03 | \u001B[97m0.0  \u001B[0m |"
     },
     "execution_count": 15,
     "metadata": {},
     "output_type": "execute_result"
    }
   ],
   "source": [
    "cal = DirectCalendar(units={\n",
    "    datetime(2023, 4, 1): 8,\n",
    "    datetime(2023, 4, 2): 7,\n",
    "    datetime(2023, 4, 3): 0\n",
    "})\n",
    "cal"
   ],
   "metadata": {
    "collapsed": false,
    "ExecuteTime": {
     "start_time": "2023-04-06T20:31:35.893870Z",
     "end_time": "2023-04-06T20:31:35.914711Z"
    }
   }
  },
  {
   "cell_type": "code",
   "execution_count": 16,
   "outputs": [
    {
     "data": {
      "text/plain": "Direct:\n| \u001B[92mDATE      \u001B[0m | \u001B[92mUNITS\u001B[0m |\n| 2023-04-01 | 9.0   |\n| 2023-04-02 | 8.0   |\n| 2023-04-03 | 1.0   |"
     },
     "execution_count": 16,
     "metadata": {},
     "output_type": "execute_result"
    }
   ],
   "source": [
    "cal + 1"
   ],
   "metadata": {
    "collapsed": false,
    "ExecuteTime": {
     "start_time": "2023-04-06T20:31:35.907711Z",
     "end_time": "2023-04-06T20:31:35.922715Z"
    }
   }
  },
  {
   "cell_type": "code",
   "execution_count": 17,
   "outputs": [
    {
     "data": {
      "text/plain": "Direct:\n| \u001B[92mDATE      \u001B[0m | \u001B[92mUNITS\u001B[0m |\n| 2023-04-01 | 7.0   |\n| 2023-04-02 | 6.0   |\n| 2023-04-03 | \u001B[97m0.0  \u001B[0m |"
     },
     "execution_count": 17,
     "metadata": {},
     "output_type": "execute_result"
    }
   ],
   "source": [
    "cal - 1"
   ],
   "metadata": {
    "collapsed": false,
    "ExecuteTime": {
     "start_time": "2023-04-06T20:31:35.924713Z",
     "end_time": "2023-04-06T20:31:35.983704Z"
    }
   }
  },
  {
   "cell_type": "code",
   "execution_count": 18,
   "outputs": [
    {
     "data": {
      "text/plain": "Direct:\n| \u001B[92mDATE      \u001B[0m | \u001B[92mUNITS\u001B[0m |\n| 2023-04-01 | 16.0  |\n| 2023-04-02 | 14.0  |\n| 2023-04-03 | \u001B[97m0.0  \u001B[0m |"
     },
     "execution_count": 18,
     "metadata": {},
     "output_type": "execute_result"
    }
   ],
   "source": [
    "cal * 2"
   ],
   "metadata": {
    "collapsed": false,
    "ExecuteTime": {
     "start_time": "2023-04-06T20:31:35.939708Z",
     "end_time": "2023-04-06T20:31:35.984706Z"
    }
   }
  },
  {
   "cell_type": "code",
   "execution_count": 19,
   "outputs": [
    {
     "data": {
      "text/plain": "Direct:\n| \u001B[92mDATE      \u001B[0m | \u001B[92mUNITS\u001B[0m |\n| 2023-04-01 | 4.0   |\n| 2023-04-02 | 3.5   |\n| 2023-04-03 | \u001B[97m0.0  \u001B[0m |"
     },
     "execution_count": 19,
     "metadata": {},
     "output_type": "execute_result"
    }
   ],
   "source": [
    "cal / 2"
   ],
   "metadata": {
    "collapsed": false,
    "ExecuteTime": {
     "start_time": "2023-04-06T20:31:35.955711Z",
     "end_time": "2023-04-06T20:31:35.984706Z"
    }
   }
  },
  {
   "cell_type": "code",
   "execution_count": 20,
   "outputs": [
    {
     "data": {
      "text/plain": "Cal1 | Cal2\n\nCal1:\nWeekly: [-, -]\n| \u001B[92mMON\u001B[0m | \u001B[92mTUE\u001B[0m | \u001B[92mWED\u001B[0m | \u001B[92mTHU\u001B[0m | \u001B[92mFRI\u001B[0m | \u001B[92mSAT\u001B[0m | \u001B[92mSUN\u001B[0m |\n| \u001B[97m0.0\u001B[0m | 2.0 | 2.0 | 2.0 | \u001B[97m0.0\u001B[0m | \u001B[97m0.0\u001B[0m | \u001B[97m0.0\u001B[0m |\n\nCal2:\nDirect:\n| \u001B[92mDATE      \u001B[0m | \u001B[92mUNITS\u001B[0m |\n| 2023-04-01 | 8.0   |\n| 2023-04-02 | 7.0   |\n| 2023-04-03 | \u001B[97m0.0  \u001B[0m |"
     },
     "execution_count": 20,
     "metadata": {},
     "output_type": "execute_result"
    }
   ],
   "source": [
    "cal2 | cal"
   ],
   "metadata": {
    "collapsed": false,
    "ExecuteTime": {
     "start_time": "2023-04-06T20:31:35.971706Z",
     "end_time": "2023-04-06T20:31:35.989716Z"
    }
   }
  }
 ],
 "metadata": {
  "kernelspec": {
   "display_name": "Python 3 (ipykernel)",
   "language": "python",
   "name": "python3"
  },
  "language_info": {
   "codemirror_mode": {
    "name": "ipython",
    "version": 3
   },
   "file_extension": ".py",
   "mimetype": "text/x-python",
   "name": "python",
   "nbconvert_exporter": "python",
   "pygments_lexer": "ipython3",
   "version": "3.10.6"
  }
 },
 "nbformat": 4,
 "nbformat_minor": 1
}
