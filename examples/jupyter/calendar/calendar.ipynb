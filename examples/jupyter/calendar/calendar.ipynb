{
 "cells": [
  {
   "cell_type": "code",
   "execution_count": 1,
   "metadata": {
    "ExecuteTime": {
     "start_time": "2023-04-02T16:29:54.253415Z",
     "end_time": "2023-04-02T16:29:54.572872Z"
    },
    "collapsed": true
   },
   "outputs": [],
   "source": [
    "import sys\n",
    "from datetime import datetime\n",
    "sys.path.append('../../src')\n",
    "from pjplan import WeeklyCalendar"
   ]
  },
  {
   "cell_type": "code",
   "execution_count": 10,
   "metadata": {
    "ExecuteTime": {
     "start_time": "2023-04-02T16:31:21.084078Z",
     "end_time": "2023-04-02T16:31:21.097934Z"
    }
   },
   "outputs": [
    {
     "data": {
      "text/plain": "|\u001B[92m MON \u001B[0m|\u001B[92m TUE \u001B[0m|\u001B[92m WED \u001B[0m|\u001B[92m THU \u001B[0m|\u001B[92m FRI \u001B[0m|\u001B[92m SAT \u001B[0m|\u001B[92m SUN \u001B[0m|\n| 8.0 | 8.0 |\u001B[97m 0.0 \u001B[0m| 8.0 | 8.0 |\u001B[97m 0.0 \u001B[0m|\u001B[97m 0.0 \u001B[0m|"
     },
     "execution_count": 10,
     "metadata": {},
     "output_type": "execute_result"
    }
   ],
   "source": [
    "WeeklyCalendar(working_week_days=[0,1,3,4], week_day_hours=8)"
   ]
  },
  {
   "cell_type": "code",
   "execution_count": 3,
   "metadata": {
    "ExecuteTime": {
     "start_time": "2023-04-02T16:29:54.590649Z",
     "end_time": "2023-04-02T16:29:54.633457Z"
    }
   },
   "outputs": [
    {
     "data": {
      "text/plain": "|\u001B[92m MON \u001B[0m|\u001B[92m TUE  \u001B[0m|\u001B[92m WED \u001B[0m|\u001B[92m THU \u001B[0m|\u001B[92m FRI \u001B[0m|\u001B[92m SAT \u001B[0m|\u001B[92m SUN \u001B[0m|\n| 8.0 | 16.0 | 5.0 |\u001B[97m 0.0 \u001B[0m|\u001B[97m 0.0 \u001B[0m|\u001B[97m 0.0 \u001B[0m|\u001B[97m 0.0 \u001B[0m|"
     },
     "execution_count": 3,
     "metadata": {},
     "output_type": "execute_result"
    }
   ],
   "source": [
    "WeeklyCalendar(week_day_hours={0:8, 1:16, 2:5})"
   ]
  },
  {
   "cell_type": "code",
   "execution_count": 8,
   "outputs": [
    {
     "data": {
      "text/plain": "|\u001B[92m MON \u001B[0m|\u001B[92m TUE \u001B[0m|\u001B[92m WED \u001B[0m|\u001B[92m THU \u001B[0m|\u001B[92m FRI \u001B[0m|\u001B[92m SAT \u001B[0m|\u001B[92m SUN \u001B[0m|\n| 8.0 | 8.0 | 8.0 | 8.0 | 8.0 |\u001B[97m 0.0 \u001B[0m|\u001B[97m 0.0 \u001B[0m|\n\nExceptions:\n| \u001B[92mDATE\u001B[0m       | \u001B[92mHOURS\u001B[0m |\n| 2023-04-04 |\u001B[97m 0.0 \u001B[0m  |\n| 2023-04-05 |\u001B[97m 0.0 \u001B[0m  |\n| 2023-04-06 |\u001B[97m 0.0 \u001B[0m  |"
     },
     "execution_count": 8,
     "metadata": {},
     "output_type": "execute_result"
    }
   ],
   "source": [
    "WeeklyCalendar(\n",
    "    working_week_days=[0,1,2,3,4],\n",
    "    week_day_hours=8,\n",
    "    exceptions={\n",
    "        datetime(2023, 4, 4): 0,\n",
    "        datetime(2023, 4, 5): 0,\n",
    "        datetime(2023, 4, 6): 0,\n",
    "    })"
   ],
   "metadata": {
    "collapsed": false,
    "ExecuteTime": {
     "start_time": "2023-04-02T16:30:10.251275Z",
     "end_time": "2023-04-02T16:30:10.255645Z"
    }
   }
  }
 ],
 "metadata": {
  "kernelspec": {
   "display_name": "Python 3 (ipykernel)",
   "language": "python",
   "name": "python3"
  },
  "language_info": {
   "codemirror_mode": {
    "name": "ipython",
    "version": 3
   },
   "file_extension": ".py",
   "mimetype": "text/x-python",
   "name": "python",
   "nbconvert_exporter": "python",
   "pygments_lexer": "ipython3",
   "version": "3.10.6"
  }
 },
 "nbformat": 4,
 "nbformat_minor": 1
}
