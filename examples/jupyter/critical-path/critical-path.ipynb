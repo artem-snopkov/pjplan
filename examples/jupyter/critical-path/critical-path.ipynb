{
 "cells": [
  {
   "cell_type": "code",
   "execution_count": 7,
   "metadata": {
    "collapsed": true,
    "ExecuteTime": {
     "start_time": "2023-04-09T14:47:40.490223Z",
     "end_time": "2023-04-09T14:47:40.506039Z"
    }
   },
   "outputs": [],
   "source": [
    "import sys\n",
    "from datetime import datetime\n",
    "\n",
    "sys.path.append('../../src')\n",
    "from pjplan import WBS, DefaultScheduler, Task, MermaidGantt"
   ]
  },
  {
   "cell_type": "code",
   "execution_count": 8,
   "outputs": [],
   "source": [
    "# Let's define WBS\n",
    "with WBS() as wbs:\n",
    "    wbs // Task(1, 'Task 1', estimate=8)\n",
    "    wbs // Task(2, 'Task 2', estimate=8, predecessors=[wbs[1]])\n",
    "    wbs // Task(3, 'Task 3', estimate=8, predecessors=[wbs[2]])\n",
    "    wbs // Task(4, 'Task 4', estimate=8)"
   ],
   "metadata": {
    "collapsed": false,
    "ExecuteTime": {
     "start_time": "2023-04-09T14:47:40.509042Z",
     "end_time": "2023-04-09T14:47:40.531569Z"
    }
   }
  },
  {
   "cell_type": "code",
   "execution_count": 9,
   "outputs": [
    {
     "data": {
      "text/plain": "\u001B[91m ID \u001B[0m\u001B[91m NAME   \u001B[0m\u001B[91m RESOURCE \u001B[0m\u001B[91m ESTIMATE \u001B[0m\u001B[91m SPENT \u001B[0m\u001B[91m START \u001B[0m\u001B[91m END \u001B[0m\u001B[91m PREDECESSORS \u001B[0m\n\u001B[94m 1  \u001B[0m\u001B[94m Task 1 \u001B[0m\u001B[94m -        \u001B[0m\u001B[94m          \u001B[0m\u001B[94m       \u001B[0m\u001B[94m -     \u001B[0m\u001B[94m -   \u001B[0m\u001B[94m []           \u001B[0m\n\u001B[94m 2  \u001B[0m\u001B[94m Task 2 \u001B[0m\u001B[94m -        \u001B[0m\u001B[94m          \u001B[0m\u001B[94m       \u001B[0m\u001B[94m -     \u001B[0m\u001B[94m -   \u001B[0m\u001B[94m [1]          \u001B[0m\n\u001B[94m 3  \u001B[0m\u001B[94m Task 3 \u001B[0m\u001B[94m -        \u001B[0m\u001B[94m          \u001B[0m\u001B[94m       \u001B[0m\u001B[94m -     \u001B[0m\u001B[94m -   \u001B[0m\u001B[94m [2]          \u001B[0m"
     },
     "execution_count": 9,
     "metadata": {},
     "output_type": "execute_result"
    }
   ],
   "source": [
    "# Find critical path in wbs and visualize is\n",
    "wbs.critical_path()"
   ],
   "metadata": {
    "collapsed": false,
    "ExecuteTime": {
     "start_time": "2023-04-09T14:47:40.523548Z",
     "end_time": "2023-04-09T14:47:40.538553Z"
    }
   }
  },
  {
   "cell_type": "code",
   "execution_count": 10,
   "outputs": [
    {
     "data": {
      "text/plain": "<pjplan.viz.mermaid.gantt.MermaidGantt at 0x194c427f0d0>",
      "text/html": "<iframe srcdoc=\"&lt;html&gt;\n&lt;meta charset=&quot;UTF-8&quot;&gt;\n&lt;body&gt;\n&lt;style&gt;\n#id_4{fill:red!important;}\n\n&lt;/style&gt;\n\n&lt;div class=&quot;mermaid&quot;&gt;\ngantt\n  dateFormat DD.MM.YYYY\n    Task 1:  id_1, 10.04.2023, 11.04.2023\n    Task 2:  id_2, 11.04.2023, 12.04.2023\n    Task 3:  id_3, 12.04.2023, 13.04.2023\n    Task 4:  id_4, 13.04.2023, 14.04.2023\n\n&lt;/div&gt;\n\n&lt;script src=&quot;https://cdn.jsdelivr.net/npm/mermaid/dist/mermaid.min.js&quot;&gt;&lt;/script&gt;\n&lt;script&gt;\n    mermaid.ganttConfig = {\n        mirrorActor: true\n    }\n    mermaid.initialize({\n        startOnLoad: true\n    });\n&lt;/script&gt;\n&lt;/body&gt;\n&lt;/html&gt;\" width=\"100%\" height=\"300\" style=\"border:none !important;\" allowfullscreen webkitallowfullscreen mozallowfullscreen></iframe>"
     },
     "execution_count": 10,
     "metadata": {},
     "output_type": "execute_result"
    }
   ],
   "source": [
    "# Visualize critical path\n",
    "plan, usage = DefaultScheduler().calc(wbs)\n",
    "plan.critical_path().tasks.gantt_bar_style = {\n",
    "    'fill': 'red'\n",
    "}\n",
    "\n",
    "MermaidGantt(plan)\n",
    "# plan.critical_path()"
   ],
   "metadata": {
    "collapsed": false,
    "ExecuteTime": {
     "start_time": "2023-04-09T14:47:40.539551Z",
     "end_time": "2023-04-09T14:47:40.553913Z"
    }
   }
  }
 ],
 "metadata": {
  "kernelspec": {
   "display_name": "Python 3",
   "language": "python",
   "name": "python3"
  },
  "language_info": {
   "codemirror_mode": {
    "name": "ipython",
    "version": 2
   },
   "file_extension": ".py",
   "mimetype": "text/x-python",
   "name": "python",
   "nbconvert_exporter": "python",
   "pygments_lexer": "ipython2",
   "version": "2.7.6"
  }
 },
 "nbformat": 4,
 "nbformat_minor": 0
}
