{
  "cells": [
    {
      "cell_type": "code",
      "source": [
        "!pip install pjplan"
      ],
      "metadata": {
        "id": "_z3cs1ioAJ-b",
        "outputId": "38d7dbdb-61de-401a-bb5d-7b5c26f7568c",
        "colab": {
          "base_uri": "https://localhost:8080/"
        }
      },
      "execution_count": 2,
      "outputs": [
        {
          "output_type": "stream",
          "name": "stdout",
          "text": [
            "Collecting pjplan\n",
            "  Downloading pjplan-0.0.13-py3-none-any.whl.metadata (3.8 kB)\n",
            "Downloading pjplan-0.0.13-py3-none-any.whl (32 kB)\n",
            "Installing collected packages: pjplan\n",
            "Successfully installed pjplan-0.0.13\n"
          ]
        }
      ]
    },
    {
      "cell_type": "code",
      "execution_count": 4,
      "metadata": {
        "collapsed": true,
        "ExecuteTime": {
          "start_time": "2023-04-12T14:37:59.861795Z",
          "end_time": "2023-04-12T14:37:59.888130Z"
        },
        "id": "40cBQ1okACUq"
      },
      "outputs": [],
      "source": [
        "import sys\n",
        "from datetime import datetime\n",
        "\n",
        "sys.path.append('../../src')\n",
        "from pjplan import WBS,ForwardScheduler, Task, MermaidGantt, Resource"
      ]
    },
    {
      "cell_type": "code",
      "execution_count": 5,
      "outputs": [],
      "source": [
        "dev1 = Resource('dev1')\n",
        "dev2 = Resource('dev2')\n",
        "\n",
        "# Let's define WBS\n",
        "with WBS() as wbs:\n",
        "    wbs // Task(1, 'Task 1', estimate=8, resource=dev1.name)\n",
        "    wbs // Task(2, 'Task 2', estimate=8, predecessors=[wbs[1]], resource=dev1.name)\n",
        "    wbs // Task(3, 'Task 3', estimate=8, predecessors=[wbs[2]], resource=dev1.name)\n",
        "    wbs // Task(4, 'Task 4', estimate=8, resource=dev2.name)"
      ],
      "metadata": {
        "ExecuteTime": {
          "start_time": "2023-04-12T14:37:59.891133Z",
          "end_time": "2023-04-12T14:37:59.904134Z"
        },
        "id": "LDPDeQXtACUr"
      }
    },
    {
      "cell_type": "code",
      "execution_count": 6,
      "outputs": [
        {
          "output_type": "execute_result",
          "data": {
            "text/plain": [
              "\u001b[91m ID \u001b[0m\u001b[91m NAME   \u001b[0m\u001b[91m RESOURCE \u001b[0m\u001b[91m ESTIMATE \u001b[0m\u001b[91m SPENT \u001b[0m\u001b[91m START \u001b[0m\u001b[91m END \u001b[0m\u001b[91m PREDECESSORS \u001b[0m\n",
              "\u001b[94m 1  \u001b[0m\u001b[94m Task 1 \u001b[0m\u001b[94m dev1     \u001b[0m\u001b[94m 8        \u001b[0m\u001b[94m -     \u001b[0m\u001b[94m -     \u001b[0m\u001b[94m -   \u001b[0m\u001b[94m []           \u001b[0m\n",
              "\u001b[94m 2  \u001b[0m\u001b[94m Task 2 \u001b[0m\u001b[94m dev1     \u001b[0m\u001b[94m 8        \u001b[0m\u001b[94m -     \u001b[0m\u001b[94m -     \u001b[0m\u001b[94m -   \u001b[0m\u001b[94m [1]          \u001b[0m\n",
              "\u001b[94m 3  \u001b[0m\u001b[94m Task 3 \u001b[0m\u001b[94m dev1     \u001b[0m\u001b[94m 8        \u001b[0m\u001b[94m -     \u001b[0m\u001b[94m -     \u001b[0m\u001b[94m -   \u001b[0m\u001b[94m [2]          \u001b[0m"
            ]
          },
          "metadata": {},
          "execution_count": 6
        }
      ],
      "source": [
        "# Find critical path in wbs and visualize is\n",
        "wbs.critical_path()"
      ],
      "metadata": {
        "ExecuteTime": {
          "start_time": "2023-04-12T14:37:59.907143Z",
          "end_time": "2023-04-12T14:37:59.942662Z"
        },
        "id": "Hw185Yi9ACUs",
        "outputId": "61143251-19b0-4f80-c674-a48288350f45",
        "colab": {
          "base_uri": "https://localhost:8080/"
        }
      }
    },
    {
      "cell_type": "code",
      "execution_count": 19,
      "outputs": [
        {
          "output_type": "stream",
          "name": "stdout",
          "text": [
            "1 2025-08-29 00:00:00 2025-08-30 00:00:00\n",
            "2 2025-09-01 00:00:00 2025-09-02 00:00:00\n",
            "3 2025-09-02 00:00:00 2025-09-03 00:00:00\n",
            "4 2025-08-29 00:00:00 2025-08-30 00:00:00\n"
          ]
        },
        {
          "output_type": "execute_result",
          "data": {
            "text/plain": [
              "<pjplan.viz.mermaid.gantt.MermaidGantt at 0x7c6910e47bc0>"
            ],
            "text/html": [
              "<iframe srcdoc=\"&lt;html&gt;\n",
              "&lt;meta charset=&quot;UTF-8&quot;&gt;\n",
              "&lt;body&gt;\n",
              "&lt;style&gt;\n",
              "#id_1, #id_2, #id_3{fill:red!important;}\n",
              "\n",
              "&lt;/style&gt;\n",
              "\n",
              "&lt;div class=&quot;mermaid&quot;&gt;\n",
              "gantt\n",
              "  dateFormat DD.MM.YYYY HH:mm\n",
              "    Task 1: active, id_1, 29.08.2025 00:00, 30.08.2025 00:00\n",
              "    Task 2:  id_2, 01.09.2025 00:00, 02.09.2025 00:00\n",
              "    Task 3:  id_3, 02.09.2025 00:00, 03.09.2025 00:00\n",
              "    Task 4: active, id_4, 29.08.2025 00:00, 30.08.2025 00:00\n",
              "\n",
              "&lt;/div&gt;\n",
              "\n",
              "&lt;script src=&quot;https://cdn.jsdelivr.net/npm/mermaid/dist/mermaid.min.js&quot;&gt;&lt;/script&gt;\n",
              "&lt;script&gt;\n",
              "    mermaid.ganttConfig = {\n",
              "        mirrorActor: true\n",
              "    }\n",
              "    mermaid.initialize({\n",
              "        startOnLoad: true\n",
              "    });\n",
              "&lt;/script&gt;\n",
              "&lt;/body&gt;\n",
              "&lt;/html&gt;\" width=\"100%\" height=\"300\" style=\"border:none !important;\" allowfullscreen webkitallowfullscreen mozallowfullscreen></iframe>"
            ]
          },
          "metadata": {},
          "execution_count": 19
        }
      ],
      "source": [
        "# Visualize critical path\n",
        "schedule = ForwardScheduler().calc(wbs)\n",
        "plan = schedule.schedule\n",
        "plan.critical_path().gantt_bar_style = {\n",
        "    'fill': 'red'\n",
        "}\n",
        "\n",
        "for t in plan.tasks:\n",
        "    print(t.id, t.start, t.end) #, t.max_start, t.max_end)\n",
        "\n",
        "MermaidGantt(plan)\n",
        "# plan.critical_path()"
      ],
      "metadata": {
        "ExecuteTime": {
          "start_time": "2023-04-12T14:37:59.920654Z",
          "end_time": "2023-04-12T14:37:59.948665Z"
        },
        "id": "ikPWR--5ACUs",
        "outputId": "fedf0c4e-8fb3-4a6c-81bc-5b06614c0217",
        "colab": {
          "base_uri": "https://localhost:8080/",
          "height": 390
        }
      }
    },
    {
      "cell_type": "code",
      "execution_count": 21,
      "outputs": [
        {
          "output_type": "stream",
          "name": "stdout",
          "text": [
            "1 2023-04-11 00:00:00 2025-08-30 00:00:00\n",
            "2 2025-09-01 00:00:00 2025-09-02 00:00:00\n",
            "3 2023-04-11 00:00:00 2025-09-05 00:00:00\n"
          ]
        },
        {
          "output_type": "execute_result",
          "data": {
            "text/plain": [
              "<pjplan.viz.mermaid.gantt.MermaidGantt at 0x7c6910f25580>"
            ],
            "text/html": [
              "<iframe srcdoc=\"&lt;html&gt;\n",
              "&lt;meta charset=&quot;UTF-8&quot;&gt;\n",
              "&lt;body&gt;\n",
              "&lt;style&gt;\n",
              "#id_3{fill:red!important;}\n",
              "\n",
              "&lt;/style&gt;\n",
              "\n",
              "&lt;div class=&quot;mermaid&quot;&gt;\n",
              "gantt\n",
              "  dateFormat DD.MM.YYYY HH:mm\n",
              "    Task 1: active, id_1, 11.04.2023 00:00, 30.08.2025 00:00\n",
              "    Task 2:  id_2, 01.09.2025 00:00, 02.09.2025 00:00\n",
              "    Task 3: active, id_3, 11.04.2023 00:00, 05.09.2025 00:00\n",
              "\n",
              "&lt;/div&gt;\n",
              "\n",
              "&lt;script src=&quot;https://cdn.jsdelivr.net/npm/mermaid/dist/mermaid.min.js&quot;&gt;&lt;/script&gt;\n",
              "&lt;script&gt;\n",
              "    mermaid.ganttConfig = {\n",
              "        mirrorActor: true\n",
              "    }\n",
              "    mermaid.initialize({\n",
              "        startOnLoad: true\n",
              "    });\n",
              "&lt;/script&gt;\n",
              "&lt;/body&gt;\n",
              "&lt;/html&gt;\" width=\"100%\" height=\"300\" style=\"border:none !important;\" allowfullscreen webkitallowfullscreen mozallowfullscreen></iframe>"
            ]
          },
          "metadata": {},
          "execution_count": 21
        }
      ],
      "source": [
        "with WBS() as wbs:\n",
        "    wbs // Task(1, 'Task 1', estimate=8, start=datetime(2023, 4, 11), resource=dev1.name)\n",
        "    wbs // Task(2, 'Task 2', estimate=8, resource=dev1.name, predecessors=[wbs[1]])\n",
        "    wbs // Task(3, 'Task 3', estimate=24, start=datetime(2023, 4, 11), resource=dev1.name)\n",
        "\n",
        "schedule = ForwardScheduler().calc(wbs)\n",
        "plan = schedule.schedule\n",
        "plan.critical_path().gantt_bar_style = {\n",
        "    'fill': 'red'\n",
        "}\n",
        "\n",
        "for t in plan.tasks:\n",
        "    print(t.id, t.start, t.end,) # t.max_start, t.max_end)\n",
        "\n",
        "MermaidGantt(plan)"
      ],
      "metadata": {
        "ExecuteTime": {
          "start_time": "2023-04-12T14:37:59.936661Z",
          "end_time": "2023-04-12T14:37:59.953668Z"
        },
        "id": "DNTchvMIACUt",
        "outputId": "17e70c36-9b4f-436a-d518-ae7327ed375d",
        "colab": {
          "base_uri": "https://localhost:8080/",
          "height": 373
        }
      }
    },
    {
      "cell_type": "code",
      "execution_count": 26,
      "outputs": [
        {
          "output_type": "stream",
          "name": "stdout",
          "text": [
            "1 2023-04-12 00:00:00 2025-09-03 00:00:00\n",
            "2 2023-04-13 00:00:00 2025-09-04 00:00:00\n",
            "3 2025-09-04 00:00:00 2025-09-11 00:00:00\n"
          ]
        },
        {
          "output_type": "execute_result",
          "data": {
            "text/plain": [
              "<pjplan.viz.mermaid.gantt.MermaidGantt at 0x7c6910ea1910>"
            ],
            "text/html": [
              "<iframe srcdoc=\"&lt;html&gt;\n",
              "&lt;meta charset=&quot;UTF-8&quot;&gt;\n",
              "&lt;body&gt;\n",
              "&lt;style&gt;\n",
              "#id_3{fill:red!important;}\n",
              "\n",
              "&lt;/style&gt;\n",
              "\n",
              "&lt;div class=&quot;mermaid&quot;&gt;\n",
              "gantt\n",
              "  dateFormat DD.MM.YYYY HH:mm\n",
              "    Task 1: active, id_1, 12.04.2023 00:00, 03.09.2025 00:00\n",
              "    Task 2: active, id_2, 13.04.2023 00:00, 04.09.2025 00:00\n",
              "    Task 3:  id_3, 04.09.2025 00:00, 11.09.2025 00:00\n",
              "\n",
              "&lt;/div&gt;\n",
              "\n",
              "&lt;script src=&quot;https://cdn.jsdelivr.net/npm/mermaid/dist/mermaid.min.js&quot;&gt;&lt;/script&gt;\n",
              "&lt;script&gt;\n",
              "    mermaid.ganttConfig = {\n",
              "        mirrorActor: true\n",
              "    }\n",
              "    mermaid.initialize({\n",
              "        startOnLoad: true\n",
              "    });\n",
              "&lt;/script&gt;\n",
              "&lt;/body&gt;\n",
              "&lt;/html&gt;\" width=\"100%\" height=\"300\" style=\"border:none !important;\" allowfullscreen webkitallowfullscreen mozallowfullscreen></iframe>"
            ]
          },
          "metadata": {},
          "execution_count": 26
        }
      ],
      "source": [
        "with WBS() as wbs:\n",
        "    wbs // Task(1, 'Task 1', estimate=24, start=datetime(2023, 4, 12), resource=dev1.name)\n",
        "    wbs // Task(2, 'Task 2', estimate=8, resource=dev1.name, start=datetime(2023, 4, 13), predecessors=[wbs[1]])\n",
        "    wbs // Task(3, 'Task 3', estimate=40, resource=dev1.name)\n",
        "\n",
        "\n",
        "schedule = ForwardScheduler().calc(wbs)\n",
        "plan = schedule.schedule\n",
        "\n",
        "plan2 = schedule\n",
        "plan.critical_path().gantt_bar_style = {\n",
        "    'fill': 'red'\n",
        "}\n",
        "\n",
        "for t in plan.tasks:\n",
        "    print(t.id, t.start, t.end) #, t.max_start, t.max_end)\n",
        "\n",
        "MermaidGantt(plan)"
      ],
      "metadata": {
        "ExecuteTime": {
          "start_time": "2023-04-12T14:41:53.892551Z",
          "end_time": "2023-04-12T14:41:53.899611Z"
        },
        "id": "JAu4a8gGACUt",
        "outputId": "66c5f3aa-9a87-489d-987c-b183f7dd7fde",
        "colab": {
          "base_uri": "https://localhost:8080/",
          "height": 373
        }
      }
    },
    {
      "cell_type": "code",
      "execution_count": 32,
      "outputs": [
        {
          "output_type": "stream",
          "name": "stdout",
          "text": [
            "['_WBS__clone', '_WBS__clone_tasks', '_WBS__remove', '_WBS__root', '__class__', '__delattr__', '__dict__', '__dir__', '__doc__', '__enter__', '__eq__', '__exit__', '__floordiv__', '__format__', '__ge__', '__getattribute__', '__getitem__', '__getstate__', '__gt__', '__hash__', '__init__', '__init_subclass__', '__le__', '__lt__', '__module__', '__ne__', '__new__', '__reduce__', '__reduce_ex__', '__repr__', '__setattr__', '__sizeof__', '__str__', '__subclasshook__', '__weakref__', '_root', 'clone', 'critical_path', 'end', 'print', 'remove', 'remove_all', 'roots', 'start', 'subtree', 'tasks']\n"
          ]
        },
        {
          "output_type": "error",
          "ename": "AttributeError",
          "evalue": "'Schedule' object has no attribute 'backward_wbs'",
          "traceback": [
            "\u001b[0;31m---------------------------------------------------------------------------\u001b[0m",
            "\u001b[0;31mAttributeError\u001b[0m                            Traceback (most recent call last)",
            "\u001b[0;32m/tmp/ipython-input-1292572045.py\u001b[0m in \u001b[0;36m<cell line: 0>\u001b[0;34m()\u001b[0m\n\u001b[1;32m      1\u001b[0m \u001b[0mprint\u001b[0m\u001b[0;34m(\u001b[0m\u001b[0mdir\u001b[0m\u001b[0;34m(\u001b[0m\u001b[0mschedule\u001b[0m\u001b[0;34m.\u001b[0m\u001b[0mschedule\u001b[0m\u001b[0;34m)\u001b[0m\u001b[0;34m)\u001b[0m\u001b[0;34m\u001b[0m\u001b[0;34m\u001b[0m\u001b[0m\n\u001b[0;32m----> 2\u001b[0;31m \u001b[0mMermaidGantt\u001b[0m\u001b[0;34m(\u001b[0m\u001b[0mschedule\u001b[0m\u001b[0;34m.\u001b[0m\u001b[0mbackward_wbs\u001b[0m\u001b[0;34m)\u001b[0m\u001b[0;34m\u001b[0m\u001b[0;34m\u001b[0m\u001b[0m\n\u001b[0m",
            "\u001b[0;31mAttributeError\u001b[0m: 'Schedule' object has no attribute 'backward_wbs'"
          ]
        }
      ],
      "source": [
        "print(dir(schedule.schedule))\n",
        "MermaidGantt(schedule.backward_wbs)"
      ],
      "metadata": {
        "ExecuteTime": {
          "start_time": "2023-04-12T14:40:46.958889Z",
          "end_time": "2023-04-12T14:40:46.968339Z"
        },
        "id": "Hr0-nyuNACUt",
        "outputId": "7e4e75d9-fd33-43cd-d867-813bc852ebe6",
        "colab": {
          "base_uri": "https://localhost:8080/",
          "height": 196
        }
      }
    },
    {
      "cell_type": "code",
      "execution_count": 29,
      "outputs": [
        {
          "output_type": "execute_result",
          "data": {
            "text/plain": [
              "\u001b[91m ID \u001b[0m\u001b[91m NAME   \u001b[0m\u001b[91m RESOURCE \u001b[0m\u001b[91m ESTIMATE \u001b[0m\u001b[91m SPENT \u001b[0m\u001b[91m START            \u001b[0m\u001b[91m END              \u001b[0m\u001b[91m PREDECESSORS \u001b[0m\n",
              "\u001b[94m 1  \u001b[0m\u001b[94m Task 1 \u001b[0m\u001b[94m dev1     \u001b[0m\u001b[94m 24       \u001b[0m\u001b[94m 0     \u001b[0m\u001b[94m 12.04.2023 00:00 \u001b[0m\u001b[94m 03.09.2025 00:00 \u001b[0m\u001b[94m []           \u001b[0m\n",
              "\u001b[94m 2  \u001b[0m\u001b[94m Task 2 \u001b[0m\u001b[94m dev1     \u001b[0m\u001b[94m 8        \u001b[0m\u001b[94m 0     \u001b[0m\u001b[94m 13.04.2023 00:00 \u001b[0m\u001b[94m 04.09.2025 00:00 \u001b[0m\u001b[94m [1]          \u001b[0m\n",
              "\u001b[94m 3  \u001b[0m\u001b[94m Task 3 \u001b[0m\u001b[94m dev1     \u001b[0m\u001b[94m 40       \u001b[0m\u001b[94m 0     \u001b[0m\u001b[94m 04.09.2025 00:00 \u001b[0m\u001b[94m 11.09.2025 00:00 \u001b[0m\u001b[94m []           \u001b[0m"
            ]
          },
          "metadata": {},
          "execution_count": 29
        }
      ],
      "source": [
        "plan"
      ],
      "metadata": {
        "ExecuteTime": {
          "start_time": "2023-04-12T14:42:06.220379Z",
          "end_time": "2023-04-12T14:42:06.225898Z"
        },
        "id": "kexQ9KqoACUt",
        "outputId": "41ad3036-883f-4d33-bed0-439d1ce204b3",
        "colab": {
          "base_uri": "https://localhost:8080/"
        }
      }
    },
    {
      "cell_type": "code",
      "execution_count": 30,
      "outputs": [
        {
          "output_type": "execute_result",
          "data": {
            "text/plain": [
              "|\u001b[91m DATE     \u001b[0m|\u001b[91m DEV1 \u001b[0m|\n",
              "| 25-08-29 |\u001b[92m 8.0  \u001b[0m|\n",
              "| 25-08-30 |\u001b[97m 0.0  \u001b[0m|\n",
              "| 25-08-31 |\u001b[97m 0.0  \u001b[0m|\n",
              "| 25-09-01 |\u001b[92m 8.0  \u001b[0m|\n",
              "| 25-09-02 |\u001b[92m 8.0  \u001b[0m|\n",
              "| 25-09-03 |\u001b[92m 8.0  \u001b[0m|\n",
              "| 25-09-04 |\u001b[92m 8.0  \u001b[0m|\n",
              "| 25-09-05 |\u001b[92m 8.0  \u001b[0m|\n",
              "| 25-09-06 |\u001b[97m 0.0  \u001b[0m|\n",
              "| 25-09-07 |\u001b[97m 0.0  \u001b[0m|\n",
              "| 25-09-08 |\u001b[92m 8.0  \u001b[0m|\n",
              "| 25-09-09 |\u001b[92m 8.0  \u001b[0m|\n",
              "| 25-09-10 |\u001b[92m 8.0  \u001b[0m|"
            ]
          },
          "metadata": {},
          "execution_count": 30
        }
      ],
      "source": [
        "schedule.resource_usage"
      ],
      "metadata": {
        "ExecuteTime": {
          "start_time": "2023-04-11T19:43:17.131966Z",
          "end_time": "2023-04-11T19:43:17.160964Z"
        },
        "id": "vTtboRrTACUt",
        "outputId": "49b22b33-90ec-4303-8031-2b2bf36cef03",
        "colab": {
          "base_uri": "https://localhost:8080/"
        }
      }
    }
  ],
  "metadata": {
    "kernelspec": {
      "display_name": "Python 3",
      "language": "python",
      "name": "python3"
    },
    "language_info": {
      "codemirror_mode": {
        "name": "ipython",
        "version": 2
      },
      "file_extension": ".py",
      "mimetype": "text/x-python",
      "name": "python",
      "nbconvert_exporter": "python",
      "pygments_lexer": "ipython2",
      "version": "2.7.6"
    },
    "colab": {
      "provenance": []
    }
  },
  "nbformat": 4,
  "nbformat_minor": 0
}